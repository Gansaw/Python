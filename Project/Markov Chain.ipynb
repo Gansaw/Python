{
 "cells": [
  {
   "cell_type": "code",
   "execution_count": null,
   "id": "10d5a4d8",
   "metadata": {},
   "outputs": [],
   "source": [
    "import numpy as np\n",
    "\n",
    "transition_matrix = np.atleast_2d([[0.7, 0.2, 0.1],\n",
    "                                   [0.1, 0.6, 0.3],\n",
    "                                   [0.2, 0.5, 0.3]])\n",
    "\n",
    "possible_states = [\"sunny\", \"rainy\", \"cloudy\"]\n",
    "start_state = \"sunny\"\n",
    "num = 10\n",
    "index_dict = {}\n",
    "future_state = []\n",
    "\n",
    "for index in range(len(possible_states)): # {'sunny': 0, 'rainy': 1, 'cloudy': 2}\n",
    "    index_dict[possible_states[index]] = index\n",
    "\n",
    "for _ in range(num):\n",
    "    new_state = np.random.choice(possible_states, p=transition_matrix[index_dict[start_state], :])\n",
    "    future_state.append(new_state)\n",
    "\n",
    "print (future_state) "
   ]
  }
 ],
 "metadata": {
  "kernelspec": {
   "display_name": "Python 3 (ipykernel)",
   "language": "python",
   "name": "python3"
  },
  "language_info": {
   "codemirror_mode": {
    "name": "ipython",
    "version": 3
   },
   "file_extension": ".py",
   "mimetype": "text/x-python",
   "name": "python",
   "nbconvert_exporter": "python",
   "pygments_lexer": "ipython3",
   "version": "3.10.9"
  }
 },
 "nbformat": 4,
 "nbformat_minor": 5
}
