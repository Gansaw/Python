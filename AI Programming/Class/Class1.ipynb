{
 "cells": [
  {
   "cell_type": "code",
   "execution_count": 5,
   "id": "25782b27",
   "metadata": {},
   "outputs": [
    {
     "name": "stdout",
     "output_type": "stream",
     "text": [
      "700\n"
     ]
    }
   ],
   "source": [
    "speed = 50\n",
    "time_elasped = 14\n",
    "distance = speed * time_elasped\n",
    "print(distance)"
   ]
  },
  {
   "cell_type": "code",
   "execution_count": 22,
   "id": "cfe0544e",
   "metadata": {},
   "outputs": [
    {
     "data": {
      "text/plain": [
       "0"
      ]
     },
     "execution_count": 22,
     "metadata": {},
     "output_type": "execute_result"
    }
   ],
   "source": [
    "import gc\n",
    "gc.colect()"
   ]
  },
  {
   "cell_type": "code",
   "execution_count": 23,
   "id": "fadb0a16",
   "metadata": {},
   "outputs": [
    {
     "name": "stdout",
     "output_type": "stream",
     "text": [
      "abc\n",
      "def\n"
     ]
    }
   ],
   "source": [
    "s = '''abc\n",
    "def'''\n",
    "print(s)"
   ]
  },
  {
   "cell_type": "code",
   "execution_count": 30,
   "id": "2ac43d9b",
   "metadata": {},
   "outputs": [
    {
     "name": "stdout",
     "output_type": "stream",
     "text": [
      "goodbye\n",
      "ababab\n",
      "aaabbb\n",
      "hahaha\n",
      "cha-cha-cha\n"
     ]
    }
   ],
   "source": [
    "a = 'good'+'bye'\n",
    "print(a)\n",
    "b = ('a'+'b')*3\n",
    "print(b)\n",
    "c = 'a'*3 + 'b'*3\n",
    "print(c)\n",
    "d = 'ha'*3\n",
    "print(d)\n",
    "e = ('cha-'*2)+'cha'\n",
    "print(e)"
   ]
  },
  {
   "cell_type": "code",
   "execution_count": 56,
   "id": "c3fa3577",
   "metadata": {},
   "outputs": [
    {
     "name": "stdout",
     "output_type": "stream",
     "text": [
      "hi\n"
     ]
    },
    {
     "data": {
      "text/plain": [
       "5"
      ]
     },
     "execution_count": 56,
     "metadata": {},
     "output_type": "execute_result"
    }
   ],
   "source": [
    "x=5\n",
    "eval('2+x')\n",
    "y=2\n",
    "eval('2*x + y*3')\n",
    "\n",
    "exec('x=2')\n",
    "x\n",
    "\n",
    "exec(\"print('hi')\")\n",
    "exec('y=3')\n",
    "\n",
    "eval('x+y')\n",
    "exec('x+y')\n",
    "z1 = eval('x+y')\n",
    "z1\n",
    "\n",
    "exec('z2 = x+y')\n",
    "z2"
   ]
  },
  {
   "cell_type": "code",
   "execution_count": 64,
   "id": "107a8441",
   "metadata": {},
   "outputs": [
    {
     "data": {
      "text/plain": [
       "'Python'"
      ]
     },
     "execution_count": 64,
     "metadata": {},
     "output_type": "execute_result"
    }
   ],
   "source": [
    "str1 = 'python'\n",
    "str2 = str1.upper()\n",
    "str3 = str1.lower()\n",
    "str4 = str1.capitalize()\n",
    "str5 = str1.count('th')"
   ]
  },
  {
   "cell_type": "code",
   "execution_count": 69,
   "id": "40e06b5f",
   "metadata": {},
   "outputs": [
    {
     "name": "stdout",
     "output_type": "stream",
     "text": [
      "6\n",
      "-1\n",
      "2\n",
      "9\n"
     ]
    }
   ],
   "source": [
    "str1 = 'Hello world'\n",
    "print(str1.find('w'))\n",
    "print(str1.find('x'))\n",
    "print(str1.find('l'))\n",
    "print(str1.rfind('l'))"
   ]
  },
  {
   "cell_type": "code",
   "execution_count": 74,
   "id": "99b6b3a2",
   "metadata": {},
   "outputs": [
    {
     "name": "stdout",
     "output_type": "stream",
     "text": [
      "Tom is 20\n",
      "Tom is 20\n",
      "20 is Tom\n"
     ]
    }
   ],
   "source": [
    "age = 20\n",
    "name = 'Tom'\n",
    "\n",
    "print('''{} is {}'''.format(name, age))\n",
    "print('''{0} is {1}'''.format(name, age))\n",
    "print('''{1} is {0}'''.format(name, age))"
   ]
  },
  {
   "cell_type": "code",
   "execution_count": 80,
   "id": "01ac5652",
   "metadata": {},
   "outputs": [
    {
     "name": "stdout",
     "output_type": "stream",
     "text": [
      "0123456789012345678901234567\n",
      "Rank Player               HR\n",
      "  1  Barry               762\n",
      "  2  Harry               534\n",
      "  3  Rone                243\n"
     ]
    }
   ],
   "source": [
    "print(\"0123456789012345678901234567\")\n",
    "# 가운데정렬 : ^  //  왼쪽정렬 : <  //  오른쪽정렬 : >\n",
    "print(\"{0:^5}{1:<20}{2:>3}\".format(\"Rank\", \"Player\", \"HR\"))\n",
    "print(\"{0:^5}{1:<20}{2:>3}\".format(1, \"Barry\", 762))\n",
    "print(\"{0:^5}{1:<20}{2:>3}\".format(2, \"Harry\", 534))\n",
    "print(\"{0:^5}{1:<20}{2:>3}\".format(3, \"Rone\", 243))"
   ]
  },
  {
   "cell_type": "code",
   "execution_count": 85,
   "id": "482f56c0",
   "metadata": {},
   "outputs": [
    {
     "name": "stdout",
     "output_type": "stream",
     "text": [
      "   1234.57\n",
      "  1,234.57\n",
      "123,456.78%\n",
      "123,456.780%\n"
     ]
    }
   ],
   "source": [
    "# 소수 n자리까지 반올림\n",
    "print('{0:10.2f}'.format(1234.5678))\n",
    "# 구분기호\n",
    "print('{0:10,.2f}'.format(1234.5678))\n",
    "# 백분율\n",
    "print('{0:10,.2%}'.format(1234.5678))\n",
    "print('{0:10,.3%}'.format(1234.5678))"
   ]
  },
  {
   "cell_type": "code",
   "execution_count": 87,
   "id": "a556bcf7",
   "metadata": {},
   "outputs": [
    {
     "name": "stdout",
     "output_type": "stream",
     "text": [
      "use \\n\n",
      "use \\n\n"
     ]
    }
   ],
   "source": [
    "print(r'use \\n')\n",
    "print('use \\\\n')"
   ]
  },
  {
   "cell_type": "code",
   "execution_count": 91,
   "id": "341a2c1d",
   "metadata": {},
   "outputs": [
    {
     "name": "stdout",
     "output_type": "stream",
     "text": [
      "input full name: hojin choi\n",
      "last name:  choi\n",
      "first name:  hojin\n"
     ]
    }
   ],
   "source": [
    "name = input('input full name: ')\n",
    "n = name.rfind(' ')\n",
    "print('last name: ', name[n+1:])\n",
    "print('first name: ', name[:n])"
   ]
  },
  {
   "cell_type": "code",
   "execution_count": 93,
   "id": "27e3d269",
   "metadata": {},
   "outputs": [
    {
     "ename": "IndentationError",
     "evalue": "unexpected indent (1039243880.py, line 3)",
     "output_type": "error",
     "traceback": [
      "\u001b[1;36m  Cell \u001b[1;32mIn[93], line 3\u001b[1;36m\u001b[0m\n\u001b[1;33m    print('value is', i)\u001b[0m\n\u001b[1;37m    ^\u001b[0m\n\u001b[1;31mIndentationError\u001b[0m\u001b[1;31m:\u001b[0m unexpected indent\n"
     ]
    }
   ],
   "source": [
    "i = 5\n",
    "\n",
    " print('value is', i)"
   ]
  },
  {
   "cell_type": "code",
   "execution_count": 98,
   "id": "344c0f80",
   "metadata": {},
   "outputs": [
    {
     "name": "stdout",
     "output_type": "stream",
     "text": [
      "The area of Texas is 268,820 square miles\n",
      "The population of Texas is      0.08559482200647249 of the U.S population.\n"
     ]
    }
   ],
   "source": [
    "print('The area of {0} is {1:,} square miles'\n",
    "     .format('Texas',268820))\n",
    "str1 = 'The population of {0} is {1:24} of \\\n",
    "the U.S population.'\n",
    "print(str1.format('Texas',26448800. / 309000000))"
   ]
  },
  {
   "cell_type": "code",
   "execution_count": 102,
   "id": "48db35b5",
   "metadata": {},
   "outputs": [
    {
     "name": "stdout",
     "output_type": "stream",
     "text": [
      "5.0\n"
     ]
    },
    {
     "data": {
      "text/plain": [
       "False"
      ]
     },
     "execution_count": 102,
     "metadata": {},
     "output_type": "execute_result"
    }
   ],
   "source": [
    "# 나눗셈은 float로 표시\n",
    "a = 15\n",
    "b = 3\n",
    "print(a/b)"
   ]
  },
  {
   "cell_type": "code",
   "execution_count": 107,
   "id": "4c864098",
   "metadata": {},
   "outputs": [
    {
     "data": {
      "text/plain": [
       "False"
      ]
     },
     "execution_count": 107,
     "metadata": {},
     "output_type": "execute_result"
    }
   ],
   "source": [
    "l = 10\n",
    "m = 5\n",
    "n = 0\n",
    "\n",
    "(n!=0) and (l==(m/n))\n"
   ]
  },
  {
   "cell_type": "code",
   "execution_count": 106,
   "id": "53d780d2",
   "metadata": {},
   "outputs": [
    {
     "ename": "SyntaxError",
     "evalue": "incomplete input (97266411.py, line 6)",
     "output_type": "error",
     "traceback": [
      "\u001b[1;36m  Cell \u001b[1;32mIn[106], line 6\u001b[1;36m\u001b[0m\n\u001b[1;33m    (l==(m/n) and(n!=0)\u001b[0m\n\u001b[1;37m                       ^\u001b[0m\n\u001b[1;31mSyntaxError\u001b[0m\u001b[1;31m:\u001b[0m incomplete input\n"
     ]
    }
   ],
   "source": [
    "l = 10\n",
    "m = 5\n",
    "n = 0\n",
    "\n",
    "\n",
    "(l==(m/n) and(n!=0)"
   ]
  },
  {
   "cell_type": "code",
   "execution_count": 111,
   "id": "499ae966",
   "metadata": {},
   "outputs": [
    {
     "name": "stdout",
     "output_type": "stream",
     "text": [
      "Enter an Integer: 23\n",
      "Correct\n",
      "Done\n"
     ]
    }
   ],
   "source": [
    "number = 23\n",
    "guess = int(input(\"Enter an Integer: \"))\n",
    "\n",
    "if guess == number:\n",
    "    print(\"Correct\")\n",
    "else:\n",
    "    if guess < number:\n",
    "        print(\"higher\")\n",
    "    else:\n",
    "        print(\"lower\")\n",
    "        \n",
    "print(\"Done\")"
   ]
  },
  {
   "cell_type": "code",
   "execution_count": 1,
   "id": "1dab263c",
   "metadata": {},
   "outputs": [
    {
     "name": "stdout",
     "output_type": "stream",
     "text": [
      "Enter an Integer: 23\n",
      "correct\n",
      "done\n"
     ]
    }
   ],
   "source": [
    "number = 23\n",
    "\n",
    "while True:\n",
    "    guess = int(input('Enter an Integer: '))    \n",
    "    if guess < number:\n",
    "        print('higher')\n",
    "        continue\n",
    "    elif guess > number:\n",
    "        print('lower')\n",
    "        continue\n",
    "    else:\n",
    "        print('correct')\n",
    "        break\n",
    "\n",
    "print('done')"
   ]
  },
  {
   "cell_type": "code",
   "execution_count": null,
   "id": "301f1d10",
   "metadata": {},
   "outputs": [],
   "source": []
  }
 ],
 "metadata": {
  "kernelspec": {
   "display_name": "Python 3 (ipykernel)",
   "language": "python",
   "name": "python3"
  },
  "language_info": {
   "codemirror_mode": {
    "name": "ipython",
    "version": 3
   },
   "file_extension": ".py",
   "mimetype": "text/x-python",
   "name": "python",
   "nbconvert_exporter": "python",
   "pygments_lexer": "ipython3",
   "version": "3.10.9"
  }
 },
 "nbformat": 4,
 "nbformat_minor": 5
}
