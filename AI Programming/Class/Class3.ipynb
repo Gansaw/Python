{
 "cells": [
  {
   "cell_type": "code",
   "execution_count": 14,
   "id": "5ffe6e56",
   "metadata": {},
   "outputs": [
    {
     "name": "stdout",
     "output_type": "stream",
     "text": [
      "George Washington\n",
      "\n",
      "John Adams\n",
      "\n",
      "Thomas Jefferson\n",
      "\n"
     ]
    }
   ],
   "source": [
    "# Data Processing and File Access\n",
    "\n",
    "def displayWithForLoop(file):\n",
    "    infile = open(file, 'r')\n",
    "    for line in infile:\n",
    "        print(line)\n",
    "    infile.close()\n",
    "    \n",
    "displayWithForLoop(\"FirstPresidents.txt\")"
   ]
  },
  {
   "cell_type": "code",
   "execution_count": 15,
   "id": "a92c65c1",
   "metadata": {},
   "outputs": [
    {
     "name": "stdout",
     "output_type": "stream",
     "text": [
      "George Washington\n",
      "John Adams\n",
      "Thomas Jefferson\n"
     ]
    }
   ],
   "source": [
    "# Data Processing and File Access\n",
    "\n",
    "def displayWithForLoop(file):\n",
    "    infile = open(file, 'r')\n",
    "    for line in infile:\n",
    "        print(line.rstrip())\n",
    "    infile.close()\n",
    "    \n",
    "displayWithForLoop(\"FirstPresidents.txt\")"
   ]
  },
  {
   "cell_type": "code",
   "execution_count": 17,
   "id": "7a33540b",
   "metadata": {},
   "outputs": [
    {
     "name": "stdout",
     "output_type": "stream",
     "text": [
      "['George Washington', 'John Adams', 'Thomas Jefferson']\n"
     ]
    }
   ],
   "source": [
    "# Data Processing and File Access\n",
    "\n",
    "def displayWithList(file):\n",
    "    infile = open(file, 'r')\n",
    "    listpress = [line.rstrip() for line in infile]    \n",
    "    infile.close()\n",
    "    print(listpress)\n",
    "    \n",
    "displayWithForLoop(\"FirstPresidents.txt\")"
   ]
  },
  {
   "cell_type": "code",
   "execution_count": 1,
   "id": "f1c86e44",
   "metadata": {},
   "outputs": [
    {
     "name": "stdout",
     "output_type": "stream",
     "text": [
      "George Washington\n",
      "John Adams\n",
      "Thomas Jefferson\n"
     ]
    }
   ],
   "source": [
    "# Data Processing and File Access\n",
    "\n",
    "def displayWithWhileLoop(file):\n",
    "    infile = open(file, 'r')\n",
    "    line = infile.readline()\n",
    "    while line != \"\":\n",
    "        print(line.rstrip())\n",
    "        line = infile.readline()\n",
    "    infile.close()    \n",
    "    \n",
    "displayWithForLoop(\"FirstPresidents.txt\")"
   ]
  },
  {
   "cell_type": "code",
   "execution_count": 2,
   "id": "961d6c41",
   "metadata": {},
   "outputs": [],
   "source": [
    "# Data Processing and File Access\n",
    "\n",
    "def createWithWrite(L, outfile):\n",
    "    for i in range(len(L)):\n",
    "        outfile.write(L[i] + \"\\n\")\n",
    "    outfile.close()\n",
    "\n",
    "# def createWithWritelines(outfile):\n",
    "#     for i in range(len(L)):\n",
    "#         L[i] = L[i] + \"\\n\"        \n",
    "#     outfile.writelines(L)\n",
    "#     outfile.close()\n",
    "    \n",
    "    \n",
    "def main():\n",
    "    L = ['George Washington','John Adams','Thomas Jefferson']\n",
    "    outfile = open('FirstPresident2.txt','w')\n",
    "    createWithWrite(L, outfile)\n",
    "#     outfile = open('FirstPresident3.txt','w')\n",
    "#     createWithWritelines(outfile)\n",
    "    \n",
    "main()"
   ]
  },
  {
   "cell_type": "code",
   "execution_count": 4,
   "id": "a6a03eac",
   "metadata": {},
   "outputs": [],
   "source": [
    "# Data Processing and File Access\n",
    "\n",
    "def createSetFromFile(fileName):\n",
    "    infile = open(fileName, 'r')\n",
    "    nameSet = {name for name in infile}\n",
    "    infile.close()\n",
    "    return nameSet\n",
    "\n",
    "def createIntersection(set1, set2):\n",
    "    return set1.intersection(set2)\n",
    "\n",
    "def writeNamesToFile(setName, fileName):\n",
    "    outfile = open(fileName, 'w')\n",
    "    outfile.writelines(setName)\n",
    "    outfile.close()\n",
    "    \n",
    "def main():\n",
    "    vicePresSet = createSetFromFile(\"VPres.txt\")\n",
    "    presSet = createSetFromFile(\"USPres.txt\")\n",
    "    bothPresAndVPresSet = createIntersection(vicePresSet, presSet)\n",
    "    writeNamesToFile(bothPresAndVPresSet, 'PresAndVPres.txt')\n",
    "    \n",
    "main()"
   ]
  },
  {
   "cell_type": "code",
   "execution_count": 5,
   "id": "7361d0c0",
   "metadata": {},
   "outputs": [],
   "source": [
    "# Data Processing and File Access\n",
    "\n",
    "import os.path\n",
    "\n",
    "if os.path.isfile('ABC.txt'):\n",
    "    print('File already exists.')\n",
    "else:\n",
    "    infile = open('ABC.txt', 'w')\n",
    "    infile.write('a\\nb\\nc\\n')\n",
    "    infile.close()"
   ]
  },
  {
   "cell_type": "code",
   "execution_count": 17,
   "id": "b911da07",
   "metadata": {},
   "outputs": [
    {
     "name": "stdout",
     "output_type": "stream",
     "text": [
      "True\n",
      "False\n",
      "{'brazil', 'india'}\n",
      "{'russia', 'china', 'brazil', 'india'}\n",
      "True\n",
      "{'brazil', 'india'}\n",
      "{'russia', 'china', 'brazil', 'india'}\n",
      "{'russia', 'china'}\n",
      "['brazil', 'china', 'india', 'russia']\n"
     ]
    },
    {
     "data": {
      "text/plain": [
       "list"
      ]
     },
     "execution_count": 17,
     "metadata": {},
     "output_type": "execute_result"
    }
   ],
   "source": [
    "# Set\n",
    "\n",
    "bri = {'brazil','russia','india'}\n",
    "\n",
    "print('india' in bri)\n",
    "print('usa' in bri)\n",
    "bric = bri.copy()\n",
    "bric.add('china')\n",
    "bri.remove('russia')\n",
    "print(bri)\n",
    "print(bric)\n",
    "# bric가 bri를 포함하고 있는가?\n",
    "print(bric.issuperset(bri))\n",
    "# bri와 bric의 교집합(intersection)\n",
    "## bri.intersection(bric)\n",
    "print(bri & bric)\n",
    "# bric와 bri의 합집합(union)\n",
    "## bric.union(bri)\n",
    "print(bric | bri)\n",
    "# bri와 bric의 차집합(difference)\n",
    "## bric.difference(bri)\n",
    "print(bric - bri)\n",
    "\n",
    "# 정렬(sorted) - list로 출력\n",
    "print(sorted(bric))\n",
    "print(sorted(bric))"
   ]
  },
  {
   "cell_type": "code",
   "execution_count": 20,
   "id": "c9b59a56",
   "metadata": {},
   "outputs": [
    {
     "name": "stdout",
     "output_type": "stream",
     "text": [
      "{0, 9, 4, 1}\n",
      "[9, 4, 1, 0, 1, 4]\n"
     ]
    }
   ],
   "source": [
    "set1 = {x*x for x in range(-3,3)}\n",
    "list1 = [x*x for x in range(-3,3)]\n",
    "\n",
    "print(set1)\n",
    "print(list1)"
   ]
  },
  {
   "cell_type": "code",
   "execution_count": 29,
   "id": "4ddec7ec",
   "metadata": {},
   "outputs": [
    {
     "name": "stdout",
     "output_type": "stream",
     "text": [
      "{'one': 1, 'two': 2, 'three': 3}\n",
      "{'one': 1, 'two': 2, 'three': 3}\n"
     ]
    }
   ],
   "source": [
    "# Dictionary\n",
    "\n",
    "list1 = [['one',1],['two',2],['three',3]]\n",
    "print(dict(list1))\n",
    "\n",
    "list2 = [('one',1),('two',2),('three',3)]\n",
    "print(dict(list2))"
   ]
  },
  {
   "cell_type": "code",
   "execution_count": 47,
   "id": "c368b52c",
   "metadata": {},
   "outputs": [
    {
     "name": "stdout",
     "output_type": "stream",
     "text": [
      "Park 12345\n",
      "Kim 215483\n",
      "Lee 123456165\n",
      "\n",
      "('Park', 12345)\n",
      "('Kim', 215483)\n",
      "('Lee', 123456165)\n",
      "\n",
      "12345\n",
      "215483\n",
      "123456165\n",
      "\n",
      "(0, ('Park', 12345))\n",
      "(1, ('Kim', 215483))\n",
      "(2, ('Lee', 123456165))\n",
      "\n",
      "0 Park 12345\n",
      "1 Kim 215483\n",
      "2 Lee 123456165\n"
     ]
    }
   ],
   "source": [
    "d = {\n",
    "    'Park': 12345,\n",
    "    'Kim': 215483,\n",
    "    'Lee': 123456165\n",
    "}\n",
    "\n",
    "for key, value in d.items():\n",
    "    print(f\"{key} {value}\")\n",
    "\n",
    "print()\n",
    "\n",
    "for v in d.items():\n",
    "    key = v[0]\n",
    "    value = v[1]\n",
    "    print(v)\n",
    "    \n",
    "print()\n",
    "    \n",
    "for v in d.values():\n",
    "    print(v)\n",
    "    \n",
    "print()\n",
    "    \n",
    "for v in enumerate(d.items()):\n",
    "    print(v)\n",
    "    \n",
    "print()\n",
    "\n",
    "for i, (key, value) in enumerate(d.items()):\n",
    "    print(i, key, value)"
   ]
  },
  {
   "cell_type": "code",
   "execution_count": 52,
   "id": "8bdba833",
   "metadata": {},
   "outputs": [
    {
     "name": "stdout",
     "output_type": "stream",
     "text": [
      "Enter age: (child, minor, adult, or senior): dd\n",
      "fee:  None dollars.\n"
     ]
    }
   ],
   "source": [
    "def main():\n",
    "    print('Enter age: ', end = '')\n",
    "    ageGroup = input('(child, minor, adult, or senior): ')\n",
    "    print('fee: ', determine(ageGroup), 'dollars.')\n",
    "\n",
    "def determine(ageGroup):\n",
    "    if ageGroup == 'child':\n",
    "        return 0\n",
    "    elif ageGroup == 'minor':\n",
    "        return 5\n",
    "    elif ageGroup == 'adult':\n",
    "        return 10\n",
    "    elif ageGroup == 'senior':\n",
    "        return 8\n",
    "    \n",
    "main()"
   ]
  }
 ],
 "metadata": {
  "kernelspec": {
   "display_name": "Python 3 (ipykernel)",
   "language": "python",
   "name": "python3"
  },
  "language_info": {
   "codemirror_mode": {
    "name": "ipython",
    "version": 3
   },
   "file_extension": ".py",
   "mimetype": "text/x-python",
   "name": "python",
   "nbconvert_exporter": "python",
   "pygments_lexer": "ipython3",
   "version": "3.10.9"
  }
 },
 "nbformat": 4,
 "nbformat_minor": 5
}
