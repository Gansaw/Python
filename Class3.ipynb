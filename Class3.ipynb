{
 "cells": [
  {
   "cell_type": "code",
   "execution_count": 1,
   "id": "96437153",
   "metadata": {},
   "outputs": [
    {
     "name": "stdout",
     "output_type": "stream",
     "text": [
      "1\n",
      "2\n",
      "3\n",
      "4\n",
      "5\n",
      "6\n",
      "7\n",
      "8\n",
      "9\n",
      "10\n"
     ]
    }
   ],
   "source": [
    "i = 1\n",
    "while i <= 10:\n",
    "    print(i)\n",
    "    i += 1\n"
   ]
  },
  {
   "cell_type": "code",
   "execution_count": 2,
   "id": "e912e092",
   "metadata": {},
   "outputs": [
    {
     "name": "stdout",
     "output_type": "stream",
     "text": [
      "2\n",
      "4\n",
      "6\n",
      "8\n",
      "10\n",
      "12\n",
      "14\n",
      "16\n",
      "18\n",
      "20\n",
      "22\n",
      "24\n",
      "26\n",
      "28\n",
      "30\n",
      "32\n",
      "34\n",
      "36\n",
      "38\n",
      "40\n",
      "42\n",
      "44\n",
      "46\n",
      "48\n",
      "50\n",
      "52\n",
      "54\n",
      "56\n",
      "58\n",
      "60\n",
      "62\n",
      "64\n",
      "66\n",
      "68\n",
      "70\n",
      "72\n",
      "74\n",
      "76\n",
      "78\n",
      "80\n",
      "82\n",
      "84\n",
      "86\n",
      "88\n",
      "90\n",
      "92\n",
      "94\n",
      "96\n",
      "98\n",
      "100\n",
      "5050\n"
     ]
    }
   ],
   "source": [
    "#1부터 100까지 홀수\n",
    "i = 1\n",
    "while i <= 100:\n",
    "    if i % 2 == 0:\n",
    "        print(i)\n",
    "    i += 1\n",
    "\n",
    "#1부터 100까지 짝수    \n",
    "i = 1\n",
    "sum = 0\n",
    "while i <= 100:\n",
    "    sum += i\n",
    "    i += 1\n",
    "print(sum)"
   ]
  },
  {
   "cell_type": "code",
   "execution_count": 3,
   "id": "cc2c710c",
   "metadata": {},
   "outputs": [
    {
     "name": "stdout",
     "output_type": "stream",
     "text": [
      "숫자를 입력하세요: 0\n",
      "입력한 값들의 합:  0\n"
     ]
    }
   ],
   "source": [
    "sum = 0\n",
    "while True:\n",
    "    num = int(input(\"숫자를 입력하세요: \"))\n",
    "    if num == 0:\n",
    "        break\n",
    "    sum += num\n",
    "print(\"입력한 값들의 합: \", sum)\n"
   ]
  },
  {
   "cell_type": "code",
   "execution_count": 5,
   "id": "2b8e538f",
   "metadata": {},
   "outputs": [
    {
     "name": "stdout",
     "output_type": "stream",
     "text": [
      "10진수를 입력하세요: 1\n",
      "입력한 수의 2진수 표현:  1\n"
     ]
    }
   ],
   "source": [
    "num = int(input(\"10진수를 입력하세요: \"))\n",
    "binary = \"\"\n",
    "\n",
    "while num > 0:\n",
    "    remainder = num % 2\n",
    "    binary = str(remainder) + binary\n",
    "    num = num // 2\n",
    "\n",
    "print(\"입력한 수의 2진수 표현: \", binary)\n"
   ]
  },
  {
   "cell_type": "code",
   "execution_count": 6,
   "id": "e7c625e0",
   "metadata": {},
   "outputs": [
    {
     "name": "stdout",
     "output_type": "stream",
     "text": [
      "apple\n",
      "banana\n",
      "cherry\n",
      "15\n",
      "red\n",
      "green\n",
      "blue\n",
      "P\n",
      "y\n",
      "t\n",
      "h\n",
      "o\n",
      "n\n"
     ]
    }
   ],
   "source": [
    "#리스트 안의 원소 순차적 출력\n",
    "fruits = [\"apple\", \"banana\", \"cherry\"]\n",
    "\n",
    "for fruit in fruits:\n",
    "    print(fruit)\n",
    "\n",
    "#리스트 안의 모든 숫자 합\n",
    "numbers = [1, 2, 3, 4, 5]\n",
    "sum = 0\n",
    "for num in numbers:\n",
    "    sum += num\n",
    "print(sum)\n",
    "\n",
    "#튜플 원소 순차적 출력\n",
    "colors = (\"red\", \"green\", \"blue\")\n",
    "\n",
    "for color in colors:\n",
    "    print(color)\n",
    "\n",
    "#문자열 순차적 출력\n",
    "text = \"Python\"\n",
    "\n",
    "for char in text:\n",
    "    print(char)\n"
   ]
  },
  {
   "cell_type": "code",
   "execution_count": 7,
   "id": "f5e70c0d",
   "metadata": {},
   "outputs": [
    {
     "name": "stdout",
     "output_type": "stream",
     "text": [
      "1\n",
      "2\n",
      "3\n",
      "4\n",
      "5\n",
      "6\n",
      "7\n",
      "8\n",
      "9\n",
      "10\n",
      "2\n",
      "4\n",
      "6\n",
      "8\n",
      "10\n",
      "10\n",
      "9\n",
      "8\n",
      "7\n",
      "6\n",
      "5\n",
      "4\n",
      "3\n",
      "2\n",
      "1\n"
     ]
    }
   ],
   "source": [
    "##1부터 10까지의 숫자 출력하기\n",
    "for i in range(1, 11):\n",
    "    print(i)\n",
    "\n",
    "##1부터 10까지의 숫자 중 짝수만 출력하기\n",
    "for i in range(2, 11, 2):\n",
    "    print(i)\n",
    "\n",
    "##10부터 1까지 거꾸로 출력하기\n",
    "for i in range(10, 0, -1):\n",
    "    print(i)\n",
    "\n"
   ]
  },
  {
   "cell_type": "code",
   "execution_count": 8,
   "id": "5234681f",
   "metadata": {},
   "outputs": [
    {
     "name": "stdout",
     "output_type": "stream",
     "text": [
      "0\n",
      "1\n",
      "2\n",
      "3\n",
      "4\n",
      "2\n",
      "4\n",
      "6\n",
      "8\n",
      "10\n",
      "9\n",
      "8\n",
      "7\n",
      "6\n",
      "5\n",
      "4\n",
      "3\n",
      "2\n",
      "1\n"
     ]
    }
   ],
   "source": [
    "# 0에서 4까지의 정수 시퀀스 생성\n",
    "for i in range(5):\n",
    "    print(i)\n",
    "\n",
    "# 2에서 8까지 2씩 증가하는 정수 시퀀스 생성\n",
    "for i in range(2, 9, 2):\n",
    "    print(i)\n",
    "\n",
    "# 10에서 1까지 1씩 감소하는 정수 시퀀스 생성\n",
    "for i in range(10, 0, -1):\n",
    "    print(i)\n"
   ]
  },
  {
   "cell_type": "code",
   "execution_count": 9,
   "id": "7e391f73",
   "metadata": {},
   "outputs": [
    {
     "name": "stdout",
     "output_type": "stream",
     "text": [
      "*\n",
      "**\n",
      "***\n",
      "****\n",
      "*****\n",
      "****\n",
      "***\n",
      "**\n",
      "*\n"
     ]
    }
   ],
   "source": [
    "for i in range(1, 6):\n",
    "    for j in range(1, i+1):\n",
    "        print(\"*\", end=\"\")\n",
    "    print()\n",
    "\n",
    "for i in range(4, 0, -1):\n",
    "    for j in range(1, i+1):\n",
    "        print(\"*\", end=\"\")\n",
    "    print()"
   ]
  },
  {
   "cell_type": "code",
   "execution_count": 4,
   "id": "710ac6f0",
   "metadata": {},
   "outputs": [
    {
     "name": "stdout",
     "output_type": "stream",
     "text": [
      "숫자를 입력하세요: 2\n",
      "숫자를 입력하세요: 0\n",
      "가장 큰 값:  2\n"
     ]
    }
   ],
   "source": [
    "max_value = 0\n",
    "while True:\n",
    "    num = int(input(\"숫자를 입력하세요: \"))\n",
    "    if num == 0:\n",
    "        break\n",
    "    if num > max_value:\n",
    "        max_value = num\n",
    "print(\"가장 큰 값: \", max_value)\n"
   ]
  },
  {
   "cell_type": "code",
   "execution_count": 10,
   "id": "298aa454",
   "metadata": {},
   "outputs": [
    {
     "name": "stdout",
     "output_type": "stream",
     "text": [
      "[3의 배수와 5의 배수의 합 구하기]\n",
      "양의 정수 n을 입력하세요: 1\n",
      "[결과]\n",
      "1부터 1까지의 자연수 중에서 3의 배수와 5의 배수의 합: 0\n"
     ]
    }
   ],
   "source": [
    "print(\"[3의 배수와 5의 배수의 합 구하기]\")\n",
    "n = int(input(\"양의 정수 n을 입력하세요: \"))\n",
    "\n",
    "tsum = 0  # 3의 배수의 합을 저장할 변수\n",
    "fsum = 0  # 5의 배수의 합을 저장할 변수\n",
    "ftsum = 0  # 3과 5의 공배수의 합을 저장할 변수\n",
    "\n",
    "for num in range(1, n+1):\n",
    "    if num % 3 == 0 and num % 5 == 0:  # 3과 5의 공배수인 경우\n",
    "        ftsum += num\n",
    "    elif num % 3 == 0:  # 3의 배수인 경우\n",
    "        tsum += num\n",
    "    elif num % 5 == 0:  # 5의 배수인 경우\n",
    "        fsum += num\n",
    "\n",
    "total = tsum + fsum - ftsum\n",
    "print(\"[결과]\")\n",
    "print(f\"1부터 {n}까지의 자연수 중에서 3의 배수와 5의 배수의 합: {total}\")\n"
   ]
  },
  {
   "cell_type": "code",
   "execution_count": 18,
   "id": "72d430dd",
   "metadata": {},
   "outputs": [
    {
     "name": "stdout",
     "output_type": "stream",
     "text": [
      "1번째 숫자를 입력하세요 (1~100): 101\n",
      "잘못된 범위의 숫자입니다. 다시 입력해주세요.\n",
      "1번째 숫자를 입력하세요 (1~100): 1\n",
      "2번째 숫자를 입력하세요 (1~100): 58\n",
      "3번째 숫자를 입력하세요 (1~100): 1\n",
      "4번째 숫자를 입력하세요 (1~100): 458\n",
      "잘못된 범위의 숫자입니다. 다시 입력해주세요.\n",
      "4번째 숫자를 입력하세요 (1~100): 12\n",
      "5번째 숫자를 입력하세요 (1~100): 456\n",
      "잘못된 범위의 숫자입니다. 다시 입력해주세요.\n",
      "5번째 숫자를 입력하세요 (1~100): 15\n",
      "[결과]\n",
      "입력받은 숫자들: [1, 58, 1, 12, 15]\n",
      "최댓값: 58\n",
      "최솟값: 1\n"
     ]
    }
   ],
   "source": [
    "numbers = []  # 입력받은 숫자들을 저장할 리스트\n",
    "\n",
    "for i in range(5):\n",
    "    num = int(input(f\"{i+1}번째 숫자를 입력하세요: \"))\n",
    "    while num < 1 or num > 100:\n",
    "        print(\"1부터 100까지의 숫자를 입력해주세요!\")\n",
    "        num = int(input(f\"{i+1}번째 숫자를 입력하세요: \"))\n",
    "    numbers.append(num)  # 입력받은 숫자를 리스트에 추가\n",
    "\n",
    "max_value = numbers[0]  # 첫 번째 숫자를 최댓값으로 초기화\n",
    "min_value = numbers[0]  # 첫 번째 숫자를 최솟값으로 초기화\n",
    "\n",
    "for num in numbers:\n",
    "    if num > max_value:\n",
    "        max_value = num\n",
    "\n",
    "    if num < min_value:\n",
    "        min_value = num\n",
    "\n",
    "print(\"[결과]\")\n",
    "print(f\"입력받은 숫자들: {numbers}\")\n",
    "print(f\"최댓값: {max_value}\")\n",
    "print(f\"최솟값: {min_value}\")\n"
   ]
  },
  {
   "cell_type": "code",
   "execution_count": 26,
   "id": "523c8b22",
   "metadata": {},
   "outputs": [
    {
     "name": "stdout",
     "output_type": "stream",
     "text": [
      "숫자를 입력하세요: 8\n",
      "숫자를 입력하세요: 88\n",
      "숫자를 입력하세요: 99\n",
      "[결과]\n",
      "입력된 숫자들의 합: 195\n"
     ]
    }
   ],
   "source": [
    "total = 0\n",
    "\n",
    "while total < 100:\n",
    "    num = int(input(\"숫자를 입력하세요: \"))\n",
    "\n",
    "    while num < 1 or num > 100:\n",
    "        print(\"1부터 100까지의 숫자를 입력해주세요!\")\n",
    "        num = int(input(\"숫자를 입력하세요: \"))\n",
    "\n",
    "    total += num\n",
    "\n",
    "print(\"[결과]\")\n",
    "print(\"입력된 숫자들의 합:\", total)"
   ]
  },
  {
   "cell_type": "code",
   "execution_count": 28,
   "id": "3538fe92",
   "metadata": {},
   "outputs": [
    {
     "name": "stdout",
     "output_type": "stream",
     "text": [
      "몇 번째 항을 출력할까요? (1 이상의 양의 정수): 7\n",
      "피보나치 수열:\n",
      "1\n",
      "1\n",
      "2\n",
      "3\n",
      "5\n",
      "8\n",
      "13\n"
     ]
    }
   ],
   "source": [
    "num = int(input(\"몇 번째 항을 출력할까요? (1 이상의 양의 정수): \"))\n",
    "\n",
    "n1 = 1\n",
    "n2 = 1\n",
    "\n",
    "if num <= 0:\n",
    "    print(\"양의 정수를 입력해주세요.\")\n",
    "elif num == 1:\n",
    "    print(\"피보나치 수열:\")\n",
    "    print(n1)\n",
    "else:\n",
    "    print(\"피보나치 수열:\")\n",
    "    print(n1)\n",
    "    print(n2)\n",
    "    count = 2\n",
    "    while count < num:\n",
    "        nth = n1 + n2\n",
    "        print(nth)\n",
    "        n1 = n2\n",
    "        n2 = nth\n",
    "        count += 1\n"
   ]
  },
  {
   "cell_type": "code",
   "execution_count": 43,
   "id": "b44d0d6e",
   "metadata": {},
   "outputs": [
    {
     "name": "stdout",
     "output_type": "stream",
     "text": [
      "주사위 5 결과\n",
      "주사위 2 결과\n",
      "승리\n"
     ]
    }
   ],
   "source": [
    "import random\n",
    "\n",
    "random_diceA = random.randint(1,6)\n",
    "A = random_diceA\n",
    "random_diceB = random.randint(1,6)\n",
    "B = random_diceB\n",
    "\n",
    "dsum = A + B\n",
    "\n",
    "print(f\"주사위 {A} 결과\")\n",
    "print(f\"주사위 {B} 결과\")\n",
    "\n",
    "if dsum == 7:\n",
    "    print(\"승리\")\n",
    "else:\n",
    "    print(\"패배\")"
   ]
  },
  {
   "cell_type": "code",
   "execution_count": 3,
   "id": "a2c366e1",
   "metadata": {},
   "outputs": [
    {
     "name": "stdout",
     "output_type": "stream",
     "text": [
      "[간단한 계산기]\n",
      "첫 번째 수를 입력하세요 ('exit' 입력 시 종료): a\n",
      "올바른 값을 입력하세요\n",
      "첫 번째 수를 입력하세요 ('exit' 입력 시 종료): 2\n",
      "두 번째 수를 입력하세요: d\n",
      "올바른 값을 입력하세요\n",
      "첫 번째 수를 입력하세요 ('exit' 입력 시 종료): 2\n",
      "두 번째 수를 입력하세요: 8\n",
      "연산자를 입력하세요. ('+','-','*','/'): +\n",
      "2 + 8 = 10\n",
      "첫 번째 수를 입력하세요 ('exit' 입력 시 종료): exit\n"
     ]
    }
   ],
   "source": [
    "print(\"[간단한 계산기]\")\n",
    "\n",
    "while True:\n",
    "    n1 = input(\"첫 번째 수를 입력하세요 ('exit' 입력 시 종료): \")\n",
    "    \n",
    "    if n1 == 'exit':\n",
    "        break\n",
    "    elif not n1.isdigit():\n",
    "        print(\"올바른 값을 입력하세요\")\n",
    "        continue\n",
    "\n",
    "    n1 = int(n1)\n",
    "    \n",
    "    n2 = input(\"두 번째 수를 입력하세요: \")\n",
    "    \n",
    "    if n2 == 'exit':\n",
    "        break\n",
    "    elif not n2.isdigit():\n",
    "        print(\"올바른 값을 입력하세요\")\n",
    "        continue\n",
    "\n",
    "    n2 = int(n2)\n",
    "\n",
    "    연산자 = input(\"연산자를 입력하세요. ('+','-','*','/'): \")\n",
    "    if 연산자 == '+':\n",
    "        print(f\"{n1} + {n2} = {n1 + n2}\")\n",
    "    elif 연산자 == '-':\n",
    "        print(f\"{n1} - {n2} = {n1 - n2}\")\n",
    "    elif 연산자 == '*':\n",
    "        print(f\"{n1} * {n2} = {n1 * n2}\")\n",
    "    elif 연산자 == '/':\n",
    "        if n2 == 0:\n",
    "            print(\"0으로 나눌 수 없습니다.\")\n",
    "        else:\n",
    "            print(f\"{n1} / {n2} = {n1 / n2}\")\n",
    "    else:\n",
    "        print(\"올바른 연산자를 입력하세요.\")\n"
   ]
  },
  {
   "cell_type": "code",
   "execution_count": 11,
   "id": "47babbe4",
   "metadata": {},
   "outputs": [
    {
     "name": "stdout",
     "output_type": "stream",
     "text": [
      "숫자를 입력해주세요 1: 5\n",
      "입력 : 5\n",
      "실패...\n",
      "숫자를 입력해주세요 2: 7\n",
      "입력 : 7\n",
      "실패...\n",
      "숫자를 입력해주세요 3: 8\n",
      "입력 : 8\n",
      "실패...\n",
      "숫자를 입력해주세요 4: 2\n",
      "입력 : 2\n",
      "실패...\n",
      "숫자를 입력해주세요 5: 4\n",
      "입력 : 4\n",
      "실패...\n",
      "입력 : 4, 난수 : 22\n",
      "기회를 모두 소진하였습니다...\n"
     ]
    }
   ],
   "source": [
    "import random\n",
    "\n",
    "for i in range(5):\n",
    "    num = int(input(f\"숫자를 입력해주세요 {i+1}: \"))\n",
    "    random_난수 = random.randint(1, 100)\n",
    "    \n",
    "    if num == random_난수:  # 입력한 숫자와 난수가 일치하는 경우\n",
    "        print(f\"입력 : {num}, 난수 : {random_난수}\")\n",
    "        print(\"정답!!\")\n",
    "        break\n",
    "    else:  # 입력한 숫자와 난수가 일치하지 않는 경우\n",
    "        print(f\"입력 : {num}\")\n",
    "        print(\"실패...\")\n",
    "\n",
    "if i == 4:  # 5번의 기회를 모두 소진한 경우\n",
    "    print(f\"입력 : {num}, 난수 : {random_난수}\")\n",
    "    print(\"기회를 모두 소진하였습니다...\")"
   ]
  },
  {
   "cell_type": "code",
   "execution_count": 4,
   "id": "04ffbb14",
   "metadata": {},
   "outputs": [
    {
     "name": "stdout",
     "output_type": "stream",
     "text": [
      "초기 자본 : $50\n",
      "게임을 시작하시겠습니까? (y,n) : y\n",
      "앞면\n",
      "남은 돈 : $59\n",
      "뒷면\n",
      "남은 돈 : $49\n",
      "뒷면\n",
      "남은 돈 : $39\n",
      "뒷면\n",
      "남은 돈 : $29\n",
      "뒷면\n",
      "남은 돈 : $19\n",
      "뒷면\n",
      "남은 돈 : $9\n",
      "뒷면\n",
      "남은 돈 : $-1\n",
      "파산하였습니다.\n"
     ]
    }
   ],
   "source": [
    "import random\n",
    "\n",
    "money = 50\n",
    "\n",
    "print(f\"초기 자본 : ${money}\")\n",
    "start = input(\"게임을 시작하시겠습니까? (y,n) : \")\n",
    "\n",
    "while money > 0 and money < 100:\n",
    "    if start == \"y\":    \n",
    "        flip = random_coin = random.randint(1,2)\n",
    "        print(\"앞면\" if flip ==1 else \"뒷면\")        \n",
    "        if flip == 1:\n",
    "            money += 9\n",
    "            print(f\"남은 돈 : ${money}\")            \n",
    "        else:\n",
    "            money -= 10\n",
    "            print(f\"남은 돈 : ${money}\")        \n",
    "if money >= 100:\n",
    "    print(\"승리하셨습니다.\")\n",
    "elif money <= 0:\n",
    "    print(\"파산하였습니다.\")"
   ]
  },
  {
   "cell_type": "code",
   "execution_count": 14,
   "id": "839c6a9b",
   "metadata": {},
   "outputs": [
    {
     "name": "stdout",
     "output_type": "stream",
     "text": [
      "숫자 1을 입력하세요 : 8\n",
      "숫자 2를 입력하세요 : 7\n",
      "8과 7의 최대공약수는 1입니다\n"
     ]
    }
   ],
   "source": [
    "num1 = int(input(\"숫자 1을 입력하세요 : \"))\n",
    "num2 = int(input(\"숫자 2를 입력하세요 : \"))\n",
    "\n",
    "if num1 >= num2:\n",
    "    big = num1\n",
    "    small = num2\n",
    "else:\n",
    "    big = num2\n",
    "    small = num1\n",
    "    \n",
    "while small != 0:\n",
    "    rest = big % small\n",
    "    big = small\n",
    "    small = rest\n",
    "    continue\n",
    "\n",
    "최대공약수 = big\n",
    "\n",
    "print(f\"{num1}과 {num2}의 최대공약수는 {최대공약수}입니다\")"
   ]
  },
  {
   "cell_type": "code",
   "execution_count": 3,
   "id": "3c425205",
   "metadata": {},
   "outputs": [
    {
     "name": "stdout",
     "output_type": "stream",
     "text": [
      "정수를 입력하세요 : 8\n",
      "[1, 2, 4, 8]\n"
     ]
    }
   ],
   "source": [
    "약수 = []\n",
    "\n",
    "m = int(input(\"정수를 입력하세요 : \"))\n",
    "\n",
    "for n in range(1, m+1):    \n",
    "    if m % n == 0:\n",
    "        약수.append(n)\n",
    "print(약수)"
   ]
  },
  {
   "cell_type": "code",
   "execution_count": 9,
   "id": "6486deca",
   "metadata": {},
   "outputs": [
    {
     "name": "stdout",
     "output_type": "stream",
     "text": [
      "성적을 입력하세요 : 84\n",
      "B\n"
     ]
    }
   ],
   "source": [
    "score = int(input(\"성적을 입력하세요 : \"))\n",
    "if score >= 90:\n",
    "    grade = \"A\"\n",
    "    print(grade)\n",
    "elif score >= 80:\n",
    "    grade = \"B\"\n",
    "    print(grade)\n",
    "elif score >= 60:\n",
    "    grade = \"C\"\n",
    "    print(grade)\n",
    "elif score >= 40:\n",
    "    grade = \"D\"\n",
    "    print(grade)\n",
    "elif score >= 0 and score<= 39:\n",
    "    grade = \"F\"\n",
    "    print(grade)\n",
    "else:\n",
    "    print(\"종료\")"
   ]
  },
  {
   "cell_type": "code",
   "execution_count": 56,
   "id": "4909c304",
   "metadata": {},
   "outputs": [
    {
     "name": "stdout",
     "output_type": "stream",
     "text": [
      "자연수를 입력하세요: 8\n",
      "2에서 8 까지의 소수:\n",
      "[2, 3, 5, 7]\n"
     ]
    }
   ],
   "source": [
    "n = int(input(\"자연수를 입력하세요: \"))\n",
    "\n",
    "소수 = []\n",
    "\n",
    "for num in range(2, n+1):\n",
    "    is_소수 = True\n",
    "    for i in range(2, int(num**0.5) + 1):\n",
    "        if num % i == 0:\n",
    "            is_소수 = False\n",
    "            break\n",
    "    if is_소수:\n",
    "        소수.append(num)\n",
    "        \n",
    "print(\"2에서\", n, \"까지의 소수:\")\n",
    "print(소수)\n",
    "\n",
    "\n",
    "\n",
    "\n"
   ]
  },
  {
   "cell_type": "code",
   "execution_count": 47,
   "id": "ae0c6b22",
   "metadata": {},
   "outputs": [
    {
     "name": "stdout",
     "output_type": "stream",
     "text": [
      "True\n",
      "False\n",
      "True\n",
      "True\n",
      "True\n",
      "True\n",
      "True\n",
      "True\n",
      "True\n",
      "True\n",
      "True\n",
      "True\n"
     ]
    }
   ],
   "source": [
    "# 문자열 구성 파악 메소드 예시\n",
    "print(\"hello123\".isalnum())  # True\n",
    "print(\"123\".isalpha())  # False\n",
    "print(\"123\".isdecimal())  # True\n",
    "print(\"123\".isdigit())  # True\n",
    "print(\"hello\".isidentifier())  # True\n",
    "print(\"hello\".islower())  # True\n",
    "print(\"123\".isnumeric())  # True\n",
    "print(\"Hello, World!\".isprintable())  # True\n",
    "print(\"   \".isspace())  # True\n",
    "print(\"\\t\".isspace())  # True\n",
    "print(\"Hello, World!\".istitle())  # True\n",
    "print(\"HELLO\".isupper())  # True"
   ]
  },
  {
   "cell_type": "code",
   "execution_count": 59,
   "id": "76885f0d",
   "metadata": {},
   "outputs": [
    {
     "name": "stdout",
     "output_type": "stream",
     "text": [
      "HELLO, WORLD!\n",
      "hello, world!\n",
      "Hello, world!\n",
      "Hello, World!\n",
      "hELLO, wORLD!\n"
     ]
    }
   ],
   "source": [
    "# 문자열 대소문자 변환 함수 예시\n",
    "print(\"hello, world!\".upper())  # \"HELLO, WORLD!\"\n",
    "print(\"HeLLo, wOrLd!\".lower())  # \"hello, world!\"\n",
    "print(\"hello, world!\".capitalize())  # \"Hello, world!\"\n",
    "print(\"hello, world!\".title())  # \"Hello, World!\"\n",
    "print(\"Hello, World!\".swapcase())  # \"hELLO, wORLD!\""
   ]
  },
  {
   "cell_type": "code",
   "execution_count": 57,
   "id": "2430bed1",
   "metadata": {},
   "outputs": [
    {
     "name": "stdout",
     "output_type": "stream",
     "text": [
      "4\n",
      "8\n",
      "4\n",
      "8\n",
      "2\n"
     ]
    }
   ],
   "source": [
    "# 문자열 찾기 함수 예시\n",
    "s = \"hello, world!\"\n",
    "\n",
    "# 없을 경우 -1\n",
    "print(s.find(\"o\"))  # 4\n",
    "print(s.rfind(\"o\"))  # 8\n",
    "# 없을 경우 error\n",
    "print(s.index(\"o\"))  # 4\n",
    "print(s.rindex(\"o\"))  # 8\n",
    "# count - 개수\n",
    "print(s.count(\"o\"))  # 2"
   ]
  },
  {
   "cell_type": "code",
   "execution_count": 58,
   "id": "f5b5f7ac",
   "metadata": {},
   "outputs": [
    {
     "name": "stdout",
     "output_type": "stream",
     "text": [
      "hello,   world!\n",
      "hello,   world!  \n",
      "  hello,   world!\n",
      "  hell0,   w0rld!  \n",
      "  hell0,   world!  \n"
     ]
    }
   ],
   "source": [
    "# 문자열 공백 삭제 및 변경 함수 예시\n",
    "s = \"  hello,   world!  \"\n",
    "\n",
    "print(s.strip())  # \"hello,   world!\"\n",
    "print(s.lstrip())  # \"hello,   world!  \"\n",
    "print(s.rstrip())  # \"  hello,   world!\"\n",
    "print(s.replace(\"o\", \"0\"))  # \"  hell0,   w0rld!  \"\n",
    "print(s.replace(\"o\", \"0\", 1))  # \"  hell0,   world!  \""
   ]
  },
  {
   "cell_type": "code",
   "execution_count": 96,
   "id": "240a892e",
   "metadata": {},
   "outputs": [
    {
     "ename": "SyntaxError",
     "evalue": "invalid syntax (2487666637.py, line 20)",
     "output_type": "error",
     "traceback": [
      "\u001b[1;36m  Cell \u001b[1;32mIn[96], line 20\u001b[1;36m\u001b[0m\n\u001b[1;33m    reversed_string = string[]\u001b[0m\n\u001b[1;37m                             ^\u001b[0m\n\u001b[1;31mSyntaxError\u001b[0m\u001b[1;31m:\u001b[0m invalid syntax\n"
     ]
    }
   ],
   "source": [
    "string = input(\"문자열을 입력하세요 : \")\n",
    "\n",
    "#문자열 문자 수 출력\n",
    "print(len(string))\n",
    "\n",
    "#문자열 반복\n",
    "string2 = string * 10\n",
    "print(string2)\n",
    "\n",
    "#첫 번째 문자 출력\n",
    "print(string[0])\n",
    "\n",
    "#처음 세 문자\n",
    "print(string[:3])\n",
    "\n",
    "#마지막 세 문자\n",
    "print(string[-3:])\n",
    "\n",
    "# #문자 거꾸로 출력\n",
    "# reversed_string = string[]\n",
    "# print(reversed_string)"
   ]
  },
  {
   "cell_type": "code",
   "execution_count": null,
   "id": "2572ec96",
   "metadata": {},
   "outputs": [],
   "source": []
  }
 ],
 "metadata": {
  "kernelspec": {
   "display_name": "Python 3 (ipykernel)",
   "language": "python",
   "name": "python3"
  },
  "language_info": {
   "codemirror_mode": {
    "name": "ipython",
    "version": 3
   },
   "file_extension": ".py",
   "mimetype": "text/x-python",
   "name": "python",
   "nbconvert_exporter": "python",
   "pygments_lexer": "ipython3",
   "version": "3.10.9"
  }
 },
 "nbformat": 4,
 "nbformat_minor": 5
}
