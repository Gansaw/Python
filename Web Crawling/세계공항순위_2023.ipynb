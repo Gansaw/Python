{
 "cells": [
  {
   "cell_type": "code",
   "execution_count": 4,
   "id": "e4958c6d",
   "metadata": {},
   "outputs": [],
   "source": [
    "### 1. 크롤링/전처리를 위한 필수 패키지 import ###\n",
    "\n",
    "import requests\n",
    "from bs4 import BeautifulSoup\n",
    "import pandas as pd"
   ]
  },
  {
   "cell_type": "code",
   "execution_count": 40,
   "id": "0ec1e88f",
   "metadata": {},
   "outputs": [
    {
     "name": "stdout",
     "output_type": "stream",
     "text": [
      "[1, 2, 3, 4, 5, 6, 7, 8, 9, 10]\n",
      "\n",
      "['Singapore Changi', 'Doha Hamad', 'Tokyo Haneda', 'Seoul Incheon', 'Paris CDG', 'Istanbul', 'Munich', 'Zurich', 'Tokyo Narita', 'Madrid Barajas']\n"
     ]
    }
   ],
   "source": [
    "### 2. 웹 크롤링 ###\n",
    "\n",
    "url = \"https://www.worldairportawards.com/worlds-top-100-airports-2023/\"\n",
    "response = requests.get(url)\n",
    "soup = BeautifulSoup(response.text, \"html.parser\")\n",
    "\n",
    "rank_list = []\n",
    "name_list = []\n",
    "\n",
    "# 순위, 이름 추출\n",
    "name = soup.findAll(class_=\"mb-0 text-responsive-h4\")\n",
    "\n",
    "# Extracting only the name \"Singapore Changi\"\n",
    "for i in range(10):\n",
    "    rank_list.append(i+1)\n",
    "    name_list.append(name[i].text)\n",
    "\n",
    "print(rank_list)\n",
    "print()\n",
    "print(name_list)\n",
    "\n",
    "df = pd.DataFrame({'rank': rank_list, 'airport': name_list})"
   ]
  },
  {
   "cell_type": "code",
   "execution_count": 41,
   "id": "968be113",
   "metadata": {},
   "outputs": [
    {
     "name": "stdout",
     "output_type": "stream",
     "text": [
      "   rank           airport\n",
      "0     1  Singapore Changi\n",
      "1     2        Doha Hamad\n",
      "2     3      Tokyo Haneda\n",
      "3     4     Seoul Incheon\n",
      "4     5         Paris CDG\n",
      "5     6          Istanbul\n",
      "6     7            Munich\n",
      "7     8            Zurich\n",
      "8     9      Tokyo Narita\n",
      "9    10    Madrid Barajas\n"
     ]
    }
   ],
   "source": [
    "print(df)"
   ]
  },
  {
   "cell_type": "code",
   "execution_count": 61,
   "metadata": {},
   "outputs": [
    {
     "name": "stdout",
     "output_type": "stream",
     "text": [
      "[1, 2, 3, 4, 5, 6, 7, 8, 9, 10]\n",
      "\n",
      "['Singapore Changi', 'Doha Hamad', 'Tokyo Haneda', 'Seoul Incheon', 'Paris CDG', 'Istanbul', 'Munich', 'Zurich', 'Tokyo Narita', 'Madrid Barajas']\n"
     ]
    }
   ],
   "source": [
    "import requests\n",
    "from bs4 import BeautifulSoup\n",
    "import pandas as pd\n",
    "import MySQLdb\n",
    "\n",
    "url = \"https://www.worldairportawards.com/worlds-top-100-airports-2023/\"\n",
    "response = requests.get(url)\n",
    "soup = BeautifulSoup(response.text, \"html.parser\")\n",
    "\n",
    "rank_list = []\n",
    "name_list = []\n",
    "\n",
    "# 순위, 이름 추출\n",
    "name_elements = soup.findAll(class_=\"mb-0 text-responsive-h4\")\n",
    "\n",
    "# Extracting only the name \"Singapore Changi\"\n",
    "for i in range(10):\n",
    "    rank_list.append(i + 1)\n",
    "    name_list.append(name_elements[i].text)\n",
    "\n",
    "print(rank_list)\n",
    "print()\n",
    "print(name_list)\n",
    "\n",
    "df = pd.DataFrame({'rank': rank_list, 'airport': name_list})\n",
    "\n",
    "conn = MySQLdb.connect(\n",
    "    user=\"scott\",\n",
    "    password=\"tiger\",\n",
    "    host=\"localhost\",\n",
    "    db=\"project\"\n",
    ")\n",
    "\n",
    "cursor = conn.cursor()\n",
    "\n",
    "# 데이터프레임의 데이터를 MySQL 테이블에 삽입\n",
    "for index, row in df.iterrows():\n",
    "    cursor.execute(\"INSERT INTO top10 (`rank`, `airport`) VALUES (%s, %s)\", (row['rank'], row['airport']))\n",
    "\n",
    "conn.commit()\n",
    "conn.close()\n"
   ]
  }
 ],
 "metadata": {
  "kernelspec": {
   "display_name": "Python 3 (ipykernel)",
   "language": "python",
   "name": "python3"
  },
  "language_info": {
   "codemirror_mode": {
    "name": "ipython",
    "version": 3
   },
   "file_extension": ".py",
   "mimetype": "text/x-python",
   "name": "python",
   "nbconvert_exporter": "python",
   "pygments_lexer": "ipython3",
   "version": "3.10.9"
  }
 },
 "nbformat": 4,
 "nbformat_minor": 5
}
