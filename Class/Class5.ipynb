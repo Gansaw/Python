{
 "cells": [
  {
   "cell_type": "code",
   "execution_count": 1,
   "id": "d5af0e5e",
   "metadata": {},
   "outputs": [
    {
     "name": "stdout",
     "output_type": "stream",
     "text": [
      "30\n"
     ]
    }
   ],
   "source": [
    "def outer_func(x):\n",
    "    def inner_func(y):\n",
    "        return x + y\n",
    "    return inner_func\n",
    "\n",
    "# x값\n",
    "result = outer_func(10)\n",
    "# y값 (return inner_func)\n",
    "print(result(20))  # 출력결과: 30"
   ]
  },
  {
   "cell_type": "code",
   "execution_count": 2,
   "id": "143e3685",
   "metadata": {},
   "outputs": [
    {
     "name": "stdout",
     "output_type": "stream",
     "text": [
      "30\n",
      "-10\n",
      "200\n",
      "0.5\n"
     ]
    }
   ],
   "source": [
    "def calculator():\n",
    "    def add(a, b):\n",
    "        return a + b\n",
    "\n",
    "    def subtract(a, b):\n",
    "        return a - b\n",
    "\n",
    "    def multiply(a, b):\n",
    "        return a * b\n",
    "\n",
    "    def divide(a, b):\n",
    "        return a / b\n",
    "    \n",
    "    # tuple값으로\n",
    "    return add, subtract, multiply, divide\n",
    "\n",
    "# unpacking\n",
    "add, subtract, multiply, divide = calculator()\n",
    "\n",
    "print(add(10, 20))  # 출력결과: 30\n",
    "print(subtract(10, 20))  # 출력결과: -10\n",
    "print(multiply(10, 20))  # 출력결과: 200\n",
    "print(divide(10, 20))  # 출력결과: 0.5"
   ]
  },
  {
   "cell_type": "code",
   "execution_count": 9,
   "id": "a17a9d9f",
   "metadata": {},
   "outputs": [
    {
     "name": "stdout",
     "output_type": "stream",
     "text": [
      "9\n",
      "27\n"
     ]
    }
   ],
   "source": [
    "def power(n):\n",
    "    def inner(x):\n",
    "        return x ** n\n",
    "    return inner\n",
    "\n",
    "square = power(2)  # 제곱 함수를 구현\n",
    "cube = power(3)  # 세제곱 함수를 구현\n",
    "\n",
    "print(square(3))  # 출력결과: 9\n",
    "print(cube(3))  # 출력결과: 27"
   ]
  },
  {
   "cell_type": "code",
   "execution_count": 11,
   "id": "195982f8",
   "metadata": {},
   "outputs": [
    {
     "name": "stdout",
     "output_type": "stream",
     "text": [
      "15\n",
      "6\n",
      "3\n"
     ]
    }
   ],
   "source": [
    "def sum_numbers(*args):\n",
    "    result = 0\n",
    "    for arg in args:\n",
    "        result += arg\n",
    "    return result\n",
    "\n",
    "# 가변 인자를 사용하여 함수 호출\n",
    "result1 = sum_numbers(1, 2, 3, 4, 5)   # 15\n",
    "print(result1)\n",
    "result2 = sum_numbers(1, 2, 3)         # 6\n",
    "print(result2)\n",
    "result3 = sum_numbers(1, 2)            # 3\n",
    "print(result3)"
   ]
  },
  {
   "cell_type": "code",
   "execution_count": 5,
   "id": "96de5083",
   "metadata": {},
   "outputs": [
    {
     "name": "stdout",
     "output_type": "stream",
     "text": [
      "name: Alice\n",
      "age: 25\n",
      "country: USA\n"
     ]
    }
   ],
   "source": [
    "def print_info(**kwargs):\n",
    "    for key, value in kwargs.items():\n",
    "        print(f\"{key}: {value}\")\n",
    "\n",
    "# 가변 키워드 인자를 사용하여 함수 호출\n",
    "print_info(name='Alice', age=25, country='USA')\n",
    "# 출력 결과: \n",
    "# name: Alice\n",
    "# age: 25\n",
    "# country: USA"
   ]
  },
  {
   "cell_type": "code",
   "execution_count": 6,
   "id": "679d7cdd",
   "metadata": {},
   "outputs": [
    {
     "name": "stdout",
     "output_type": "stream",
     "text": [
      "Hello, Alice!\n",
      "None\n"
     ]
    }
   ],
   "source": [
    "def print_greeting(name):\n",
    "    print(f\"Hello, {name}!\")\n",
    "\n",
    "# 함수 호출\n",
    "result = print_greeting(\"Alice\")   # 출력 결과: Hello, Alice!\n",
    "print(result)                      # 출력 결과: None"
   ]
  },
  {
   "cell_type": "code",
   "execution_count": 17,
   "id": "f221a90a",
   "metadata": {},
   "outputs": [
    {
     "name": "stdout",
     "output_type": "stream",
     "text": [
      "x in inner: inner\n",
      "x in outer: outer\n",
      "x in global: global\n"
     ]
    }
   ],
   "source": [
    "x = 'global'\n",
    "\n",
    "# 변수 참조 순서 : inner(Local) -> outer(Enclosing) -> global -> built-in\n",
    "\n",
    "def outer():\n",
    "    x = 'outer'\n",
    "    \n",
    "    def inner():\n",
    "        x = 'inner'\n",
    "        print('x in inner:', x)\n",
    "    \n",
    "    inner()\n",
    "    print('x in outer:', x)\n",
    "\n",
    "outer()\n",
    "print('x in global:', x)"
   ]
  },
  {
   "cell_type": "code",
   "execution_count": 57,
   "id": "bbe1c49e",
   "metadata": {},
   "outputs": [
    {
     "name": "stdout",
     "output_type": "stream",
     "text": [
      "Alice 24\n",
      "Bob 32\n",
      "Charlie 28\n"
     ]
    }
   ],
   "source": [
    "names = ['Alice', 'Bob', 'Charlie']\n",
    "ages = [24, 32, 28]\n",
    "\n",
    "for name, age in zip(names, ages):\n",
    "    print(name, age)"
   ]
  },
  {
   "cell_type": "code",
   "execution_count": 52,
   "id": "f5a457ab",
   "metadata": {},
   "outputs": [
    {
     "data": {
      "text/plain": [
       "[0, 5]"
      ]
     },
     "execution_count": 52,
     "metadata": {},
     "output_type": "execute_result"
    }
   ],
   "source": [
    "def find(n):\n",
    "    res = []\n",
    "    for index, char in enumerate(n):\n",
    "        if char == 'a':\n",
    "            res.append(index)\n",
    "    if len(res) == 0:\n",
    "        print(\"a가 없습니다.\")\n",
    "    else:\n",
    "        return res\n",
    "\n",
    "find(\"abcdea\")"
   ]
  },
  {
   "cell_type": "code",
   "execution_count": 75,
   "id": "ebfe0945",
   "metadata": {},
   "outputs": [
    {
     "name": "stdout",
     "output_type": "stream",
     "text": [
      "숫자를 입력하세요. (1: sum, 2: sub, 3: mul, 4: div): 1\n",
      "숫자 1: 2\n",
      "숫자 2: 4\n",
      "Result: 6.0\n"
     ]
    }
   ],
   "source": [
    "def sum(a, b):\n",
    "    return a + b\n",
    "\n",
    "def sub(a, b):\n",
    "    return a - b\n",
    "\n",
    "def mul(a, b):\n",
    "    return a * b\n",
    "\n",
    "def div(a, b):\n",
    "    if b != 0:\n",
    "        return a / b\n",
    "\n",
    "op = {'1': sum, '2': sub, '3': mul, '4': div}\n",
    "\n",
    "calc = input(\"숫자를 입력하세요. (1: sum, 2: sub, 3: mul, 4: div): \")\n",
    "if calc in op:\n",
    "    a = float(input(\"숫자 1: \"))\n",
    "    b = float(input(\"숫자 2: \"))\n",
    "    result = op[calc](a, b)\n",
    "    print(\"Result:\", result)"
   ]
  },
  {
   "cell_type": "code",
   "execution_count": 96,
   "id": "70a1ab50",
   "metadata": {},
   "outputs": [
    {
     "data": {
      "text/plain": [
       "{'led': 'on', 'motor': 'off', 'switch': 'off'}"
      ]
     },
     "execution_count": 96,
     "metadata": {},
     "output_type": "execute_result"
    }
   ],
   "source": [
    "def func(n):\n",
    "    items = n.split(\"&\")    \n",
    "    temp = []\n",
    "    for item in items:\n",
    "        temp.append(item.split('='))\n",
    "\n",
    "    return dict(temp)\n",
    "\n",
    "n = 'led=on&motor=off&switch=off'\n",
    "func(n)"
   ]
  },
  {
   "cell_type": "code",
   "execution_count": 97,
   "id": "327803ce",
   "metadata": {},
   "outputs": [
    {
     "name": "stdout",
     "output_type": "stream",
     "text": [
      "3\n",
      "4\n",
      "12\n"
     ]
    }
   ],
   "source": [
    "class Rectangle:\n",
    "    def __init__(self, width, height):\n",
    "        self.width = width\n",
    "        self.height = height\n",
    "\n",
    "    def area(self):\n",
    "        return self.width * self.height\n",
    "\n",
    "# 인스턴스 생성 시 생성자 메서드 호출\n",
    "rectangle1 = Rectangle(3, 4)\n",
    "print(rectangle1.width) # 출력 결과: 3\n",
    "print(rectangle1.height) # 출력 결과: 4\n",
    "\n",
    "# 인스턴스 메서드 호출\n",
    "print(rectangle1.area()) # 출력 결과: 12"
   ]
  },
  {
   "cell_type": "code",
   "execution_count": 98,
   "id": "bdee8306",
   "metadata": {},
   "outputs": [
    {
     "name": "stdout",
     "output_type": "stream",
     "text": [
      "3\n",
      "4\n",
      "5\n",
      "6\n",
      "12\n",
      "30\n"
     ]
    }
   ],
   "source": [
    "class Rectangle:\n",
    "    def __init__(self, width, height):\n",
    "        self.width = width\n",
    "        self.height = height\n",
    "\n",
    "    def area(self):\n",
    "        return self.width * self.height\n",
    "\n",
    "# 인스턴스 생성\n",
    "rectangle1 = Rectangle(3, 4)\n",
    "rectangle2 = Rectangle(5, 6)\n",
    "\n",
    "# 인스턴스 변수에 접근하여 값 출력\n",
    "print(rectangle1.width) # 출력 결과: 3\n",
    "print(rectangle1.height) # 출력 결과: 4\n",
    "print(rectangle2.width) # 출력 결과: 5\n",
    "print(rectangle2.height) # 출력 결과: 6\n",
    "\n",
    "# 인스턴스 메서드 호출\n",
    "print(rectangle1.area()) # 출력 결과: 12\n",
    "print(rectangle2.area()) # 출력 결과: 30"
   ]
  },
  {
   "cell_type": "code",
   "execution_count": 99,
   "id": "c31ef041",
   "metadata": {},
   "outputs": [
    {
     "name": "stdout",
     "output_type": "stream",
     "text": [
      "0\n",
      "1\n",
      "2\n"
     ]
    }
   ],
   "source": [
    "class Rectangle:\n",
    "    count = 0\n",
    "\n",
    "    def __init__(self, width, height):\n",
    "        self.width = width\n",
    "        self.height = height\n",
    "        Rectangle.count += 1\n",
    "\n",
    "    def area(self):\n",
    "        return self.width * self.height\n",
    "\n",
    "# 클래스 변수 값을 출력\n",
    "print(Rectangle.count) # 출력 결과: 0\n",
    "\n",
    "# 인스턴스 생성 시 클래스 변수 값 증가\n",
    "rectangle1 = Rectangle(3, 4)\n",
    "print(Rectangle.count) # 출력 결과: 1\n",
    "\n",
    "rectangle2 = Rectangle(5, 6)\n",
    "print(Rectangle.count) # 출력 결과: 2"
   ]
  },
  {
   "cell_type": "code",
   "execution_count": 100,
   "id": "9c012aa2",
   "metadata": {},
   "outputs": [
    {
     "name": "stdout",
     "output_type": "stream",
     "text": [
      "0\n",
      "3\n",
      "2\n"
     ]
    }
   ],
   "source": [
    "class Bicycle:\n",
    "    # 생성자 메서드\n",
    "    def __init__(self, gear, speed):\n",
    "        self.gear = gear\n",
    "        self.speed = speed\n",
    "\n",
    "    # 인스턴스 메서드\n",
    "    def speed_up(self, increment):\n",
    "        self.speed += increment\n",
    "\n",
    "    def apply_brake(self, decrement):\n",
    "        self.speed -= decrement\n",
    "        \n",
    "# Bicycle 클래스를 이용하여 객체 생성\n",
    "my_bike = Bicycle(6, 0)\n",
    "print(my_bike.speed) # 출력 결과: 0\n",
    "\n",
    "# 인스턴스 메서드 호출\n",
    "my_bike.speed_up(3)\n",
    "print(my_bike.speed) # 출력 결과: 3\n",
    "\n",
    "my_bike.apply_brake(1)\n",
    "print(my_bike.speed) # 출력 결과: 2"
   ]
  },
  {
   "cell_type": "code",
   "execution_count": 101,
   "id": "51bd9fb0",
   "metadata": {},
   "outputs": [
    {
     "name": "stdout",
     "output_type": "stream",
     "text": [
      "0\n",
      "1\n",
      "2\n"
     ]
    }
   ],
   "source": [
    "class Rectangle:\n",
    "    count = 0\n",
    "\n",
    "    def __init__(self, width, height):\n",
    "        self.width = width\n",
    "        self.height = height\n",
    "        Rectangle.count += 1\n",
    "\n",
    "    @classmethod\n",
    "    def print_count(cls):\n",
    "        print(cls.count)\n",
    "\n",
    "# 클래스 메서드 호출\n",
    "Rectangle.print_count() # 출력 결과: 0\n",
    "\n",
    "# 인스턴스 생성 시 클래스 변수 값 증가\n",
    "rectangle1 = Rectangle(3, 4)\n",
    "Rectangle.print_count() # 출력 결과: 1\n",
    "\n",
    "rectangle2 = Rectangle(5, 6)\n",
    "Rectangle.print_count() # 출력 결과: 2"
   ]
  },
  {
   "cell_type": "code",
   "execution_count": 102,
   "id": "d022ccd6",
   "metadata": {},
   "outputs": [
    {
     "name": "stdout",
     "output_type": "stream",
     "text": [
      "5\n",
      "6\n"
     ]
    }
   ],
   "source": [
    "class Calculator:\n",
    "    # 클래스 변수\n",
    "    operator = '+'\n",
    "\n",
    "    # 클래스 메서드\n",
    "    @classmethod\n",
    "    def set_operator(cls, new_operator):\n",
    "        cls.operator = new_operator\n",
    "\n",
    "    # 인스턴스 메서드\n",
    "    def calculate(self, num1, num2):\n",
    "        if Calculator.operator == '+':\n",
    "            return num1 + num2\n",
    "        elif Calculator.operator == '-':\n",
    "            return num1 - num2\n",
    "        elif Calculator.operator == '*':\n",
    "            return num1 * num2\n",
    "        elif Calculator.operator == '/':\n",
    "            return num1 / num2\n",
    "# Calculator 클래스를 이용하여 객체 생성\n",
    "my_calculator = Calculator()\n",
    "print(my_calculator.calculate(2, 3)) # 출력 결과: 5\n",
    "\n",
    "# 클래스 메서드 호출\n",
    "Calculator.set_operator('*')\n",
    "print(my_calculator.calculate(2, 3)) # 출력 결과: 6"
   ]
  },
  {
   "cell_type": "code",
   "execution_count": 120,
   "id": "a76c75cc",
   "metadata": {},
   "outputs": [
    {
     "name": "stdout",
     "output_type": "stream",
     "text": [
      "1272279\n"
     ]
    }
   ],
   "source": [
    "class Deposit:\n",
    "    def __init__ (self, initial, interest, n):\n",
    "        self.initial = initial\n",
    "        self.interest = interest\n",
    "        self.n = n\n",
    "    \n",
    "    def profit(self):\n",
    "        return self.initial * (1+self.interest)**self.n\n",
    "    \n",
    "result = Deposit(1000000,0.035,7)\n",
    "profits = int(result.profit())\n",
    "print(profits)"
   ]
  },
  {
   "cell_type": "code",
   "execution_count": 134,
   "id": "fd2dbd90",
   "metadata": {},
   "outputs": [
    {
     "name": "stdout",
     "output_type": "stream",
     "text": [
      "Name : 30 age : 홍길동\n",
      "My School is  중학교\n"
     ]
    }
   ],
   "source": [
    "class People :\n",
    "    def __init__(self, age=0, name=None):\n",
    "        self.__age = age\n",
    "        self.__name = name\n",
    "        \n",
    "    def get_age(self):\n",
    "        return self__age\n",
    "    \n",
    "    def get_name(self):\n",
    "        return self.__name    \n",
    "    \n",
    "    def set_age(self):\n",
    "        if age > 0:\n",
    "            self.__age = age\n",
    "        else:\n",
    "            print(\"정확한 나이를 입력해주세요!\")\n",
    "    \n",
    "    def set_name(self):\n",
    "        self.__name = name\n",
    "    \n",
    "    def introMe(self):\n",
    "        print(\"Name :\", self.__name, \"age :\", str(self.__age))\n",
    "\n",
    "class Teacher(People) :\n",
    "    def __init__(self, age=0, name=None, school=None) :\n",
    "        super().__init__(age, name)\n",
    "        self.school = school   \n",
    "        \n",
    "    def showSchool(self):\n",
    "        print(\"My School is \", self.school)\n",
    "\n",
    "t = Teacher(\"홍길동\",\"30\",\"중학교\")\n",
    "t.introMe()\n",
    "t.showSchool()"
   ]
  },
  {
   "cell_type": "code",
   "execution_count": 168,
   "id": "fcb796bc",
   "metadata": {},
   "outputs": [
    {
     "name": "stdout",
     "output_type": "stream",
     "text": [
      "동양\n",
      "65\n",
      "2019\n",
      "('동양', 65, 2019)\n"
     ]
    }
   ],
   "source": [
    "class Person:\n",
    "    def __init__(self, name, age): \n",
    "        self.name = name \n",
    "        self.age = age \n",
    "\n",
    "    def getName(self): \n",
    "        return self.name        \n",
    "\n",
    "    def getAge(self): \n",
    "        return self.age         \n",
    "\n",
    "class Employee(Person):\n",
    "    def __init__(self, name, age, employeeID):\n",
    "        super().__init__(name, age)\n",
    "        self.__employeeID = employeeID\n",
    "        \n",
    "    def getID(self):\n",
    "        return self.__employeeID\n",
    "    \n",
    "    def setID(self):\n",
    "        self.__employeeID = employeeID\n",
    "        \n",
    "    def profile(self):\n",
    "        return self.name, self.age, self.getID()        \n",
    "\n",
    "result = Employee(\"동양\", 65, 2019)\n",
    "print(result.getName())\n",
    "print(result.getAge())\n",
    "print(result.getID())\n",
    "print(result.profile())"
   ]
  },
  {
   "cell_type": "code",
   "execution_count": 169,
   "id": "13cf3d62",
   "metadata": {},
   "outputs": [
    {
     "name": "stdout",
     "output_type": "stream",
     "text": [
      "멍멍!\n",
      "야옹!\n"
     ]
    }
   ],
   "source": [
    "class Animal:\n",
    "    def speak(self):\n",
    "        print(\"동물이 소리를 냅니다.\")\n",
    "\n",
    "class Dog(Animal):\n",
    "    def speak(self):\n",
    "        print(\"멍멍!\")\n",
    "\n",
    "class Cat(Animal):\n",
    "    def speak(self):\n",
    "        print(\"야옹!\")\n",
    "\n",
    "# 메서드 오버라이딩을 이용한 다형성 구현\n",
    "animals = [Dog(), Cat()]\n",
    "\n",
    "for animal in animals:\n",
    "    animal.speak() # 각 객체에 따라 다른 동작을 수행"
   ]
  },
  {
   "cell_type": "code",
   "execution_count": 171,
   "id": "e96f89df",
   "metadata": {},
   "outputs": [
    {
     "name": "stdout",
     "output_type": "stream",
     "text": [
      "Bob attacks with a normal attack.\n",
      "Conan attacks with a mighty swing.\n",
      "Conan smashes the ground with a powerful blow.\n",
      "Merlin casts a magic missile.\n",
      "Merlin teleports to a nearby location.\n"
     ]
    }
   ],
   "source": [
    "class Character:\n",
    "    def __init__(self, name, level, health):\n",
    "        self.name = name\n",
    "        self.level = level\n",
    "        self.health = health\n",
    "    \n",
    "    def attack(self):\n",
    "        print(f\"{self.name} attacks with a normal attack.\")\n",
    "\n",
    "class Warrior(Character):\n",
    "    def __init__(self, name, level, health, strength):\n",
    "        super().__init__(name, level, health)\n",
    "        self.strength = strength\n",
    "    \n",
    "    def attack(self):\n",
    "        print(f\"{self.name} attacks with a mighty swing.\")\n",
    "    \n",
    "    def smash(self):\n",
    "        print(f\"{self.name} smashes the ground with a powerful blow.\")\n",
    "\n",
    "class Mage(Character):\n",
    "    def __init__(self, name, level, health, magic):\n",
    "        super().__init__(name, level, health)\n",
    "        self.magic = magic\n",
    "    \n",
    "    def attack(self):\n",
    "        print(f\"{self.name} casts a magic missile.\")\n",
    "    \n",
    "    def teleport(self):\n",
    "        print(f\"{self.name} teleports to a nearby location.\")\n",
    "\n",
    "        \n",
    "c = Character(\"Bob\", 10, 100)\n",
    "c.attack()  # Bob attacks with a normal attack.\n",
    "\n",
    "w = Warrior(\"Conan\", 20, 200, 15)\n",
    "w.attack()  # Conan attacks with a mighty swing.\n",
    "w.smash()   # Conan smashes the ground with a powerful blow.\n",
    "\n",
    "m = Mage(\"Merlin\", 15, 150, 30)\n",
    "m.attack()  # Merlin casts a magic missile.\n",
    "m.teleport()  # Merlin teleports to a nearby location."
   ]
  },
  {
   "cell_type": "code",
   "execution_count": 174,
   "id": "c87cf841",
   "metadata": {},
   "outputs": [
    {
     "name": "stdout",
     "output_type": "stream",
     "text": [
      "Alice의 체력: 120\n",
      "Goblin의 체력: 60\n",
      "Alice이 Goblin을 공격하여 15의 데미지를 입혔습니다.\n",
      "Goblin이 Alice을 공격하여 8의 데미지를 입혔습니다.\n",
      "Alice의 체력: 112\n",
      "Goblin의 체력: 45\n",
      "Alice이 Goblin을 공격하여 15의 데미지를 입혔습니다.\n",
      "Goblin이 Alice을 공격하여 8의 데미지를 입혔습니다.\n",
      "Alice의 체력: 104\n",
      "Goblin의 체력: 30\n",
      "Alice이 Goblin을 공격하여 15의 데미지를 입혔습니다.\n",
      "Goblin이 Alice을 공격하여 8의 데미지를 입혔습니다.\n",
      "Alice의 체력: 96\n",
      "Goblin의 체력: 15\n",
      "Alice이 Goblin을 공격하여 15의 데미지를 입혔습니다.\n",
      "Goblin을 물리쳤습니다.\n"
     ]
    }
   ],
   "source": [
    "class Game:\n",
    "    def __init__(self, player_name, player_hp, player_attack, monster_name, monster_hp, monster_attack):\n",
    "        self.player_name = player_name\n",
    "        self.player_hp = player_hp\n",
    "        self.player_attack = player_attack\n",
    "        self.monster_name = monster_name\n",
    "        self.monster_hp = monster_hp\n",
    "        self.monster_attack = monster_attack\n",
    "\n",
    "    def fight(self):\n",
    "        while self.player_hp > 0 and self.monster_hp > 0:\n",
    "            print(f\"{self.player_name}의 체력: {self.player_hp}\")\n",
    "            print(f\"{self.monster_name}의 체력: {self.monster_hp}\")\n",
    "            self.monster_hp -= self.player_attack\n",
    "            print(f\"{self.player_name}이 {self.monster_name}을 공격하여 {self.player_attack}의 데미지를 입혔습니다.\")\n",
    "            if self.monster_hp <= 0:\n",
    "                print(f\"{self.monster_name}을 물리쳤습니다.\")\n",
    "                break\n",
    "            self.player_hp -= self.monster_attack\n",
    "            print(f\"{self.monster_name}이 {self.player_name}을 공격하여 {self.monster_attack}의 데미지를 입혔습니다.\")\n",
    "            if self.player_hp <= 0:\n",
    "                print(f\"{self.player_name}이 죽었습니다.\")\n",
    "                break\n",
    "                \n",
    "game = Game(\"Alice\",120,15, \"Goblin\", 60, 8)\n",
    "game.fight()\n",
    "\n",
    "#가독성이 떨어지므로 class를 분리하여 작성하는 것이 유지보수하는데 용이하다!!"
   ]
  },
  {
   "cell_type": "code",
   "execution_count": 4,
   "id": "8efac199",
   "metadata": {},
   "outputs": [
    {
     "name": "stdout",
     "output_type": "stream",
     "text": [
      "name: 최호진\n",
      "student ID: 20230003\n",
      "year: 4\n",
      "major: 데이터공학\n",
      "avg_score: 82.4\n",
      "\n",
      "name: 홍길동\n",
      "student ID: 20230001\n",
      "year: 2\n",
      "major: 컴퓨터공학\n",
      "avg_score: 90.5\n",
      "name: 최호진\n",
      "student ID: 20230003\n",
      "year: 4\n",
      "major: 데이터공학\n",
      "avg_score: 82.4\n",
      "\n"
     ]
    }
   ],
   "source": [
    "class Student:\n",
    "    def __init__(self, name, student_id, year, major, avg_score):\n",
    "        self.name = name\n",
    "        self.student_id = student_id\n",
    "        self.year = year\n",
    "        self.major = major\n",
    "        self.avg_score = avg_score\n",
    "\n",
    "    def get_info(self):\n",
    "        return f\"name: {self.name}\\nstudent ID: {self.student_id}\\nyear: {self.year}\\nmajor: {self.major}\\navg_score: {self.avg_score}\"\n",
    "\n",
    "\n",
    "class StudentManager:\n",
    "    def __init__(self):\n",
    "        self.student_list = []\n",
    "\n",
    "    def add_student(self, student):\n",
    "        self.student_list.append(student)\n",
    "\n",
    "    def remove_student(self, student_id):\n",
    "        for student in self.student_list:\n",
    "            if student.student_id == student_id:\n",
    "                self.student_list.remove(student)\n",
    "                return True\n",
    "        return False\n",
    "\n",
    "    def find_student(self, student_id):\n",
    "        for student in self.student_list:\n",
    "            if student.student_id == student_id:\n",
    "                return student.get_info()\n",
    "        return \"일치하는 학번이 없습니다.\"\n",
    "\n",
    "    def show_all_students(self):\n",
    "        if self.student_list == None:\n",
    "            return \"list에 데이터가 없습니다.\"\n",
    "        info = \"\"\n",
    "        for student in self.student_list:\n",
    "            info += student.get_info() + \"\\n\"\n",
    "        return info\n",
    "\n",
    "\n",
    "Student1 = Student(\"홍길동\", \"20230001\", 2, \"컴퓨터공학\", 90.5)\n",
    "Student2 = Student(\"김학수\", \"20230002\", 3, \"전자공학\", 85.2)\n",
    "Student3 = Student(\"최호진\", \"20230003\", 4, \"데이터공학\", 82.4)\n",
    "\n",
    "sm = StudentManager()\n",
    "sm.add_student(Student1)\n",
    "sm.add_student(Student2)\n",
    "sm.add_student(Student3)\n",
    "\n",
    "sm.remove_student(\"20230002\")\n",
    "\n",
    "print(sm.find_student(\"20230003\")) \n",
    "print()\n",
    "print(sm.show_all_students())"
   ]
  },
  {
   "cell_type": "code",
   "execution_count": null,
   "id": "9a4ff25d",
   "metadata": {},
   "outputs": [],
   "source": []
  }
 ],
 "metadata": {
  "kernelspec": {
   "display_name": "Python 3 (ipykernel)",
   "language": "python",
   "name": "python3"
  },
  "language_info": {
   "codemirror_mode": {
    "name": "ipython",
    "version": 3
   },
   "file_extension": ".py",
   "mimetype": "text/x-python",
   "name": "python",
   "nbconvert_exporter": "python",
   "pygments_lexer": "ipython3",
   "version": "3.10.9"
  }
 },
 "nbformat": 4,
 "nbformat_minor": 5
}
