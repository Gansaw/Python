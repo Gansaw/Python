{
 "cells": [
  {
   "cell_type": "code",
   "execution_count": 7,
   "id": "7db89c1f",
   "metadata": {},
   "outputs": [
    {
     "name": "stdout",
     "output_type": "stream",
     "text": [
      "5\n",
      "a\n",
      "a\n",
      "a\n",
      "b\n",
      "c\n",
      "Counter({'a': 3, 'b': 1, 'c': 1})\n",
      "a\n"
     ]
    }
   ],
   "source": [
    "# 베스트셀러\n",
    "\n",
    "from collections import Counter\n",
    "\n",
    "N = int(input())\n",
    "\n",
    "book_list = []\n",
    "for i in range(N):\n",
    "    book = input()\n",
    "    book_list.append(book)\n",
    "    \n",
    "book_count = Counter(book_list)\n",
    "print(book_count)\n",
    "\n",
    "most_common = book_count.most_common(1)\n",
    "most_sold_book = most_common[0][0]\n",
    "\n",
    "print(most_sold_book)"
   ]
  },
  {
   "cell_type": "code",
   "execution_count": 12,
   "id": "cc653a2c",
   "metadata": {},
   "outputs": [],
   "source": [
    "def stack():\n",
    "    stack = []    \n",
    "    for _ in range(int(input())):\n",
    "        def push(X):\n",
    "            stack.append(X)\n",
    "        def pop():\n",
    "            if not stack:\n",
    "                return -1\n",
    "            else:\n",
    "                return stack[-1]"
   ]
  },
  {
   "cell_type": "code",
   "execution_count": null,
   "id": "b3aa7a67",
   "metadata": {},
   "outputs": [],
   "source": []
  }
 ],
 "metadata": {
  "kernelspec": {
   "display_name": "Python 3 (ipykernel)",
   "language": "python",
   "name": "python3"
  },
  "language_info": {
   "codemirror_mode": {
    "name": "ipython",
    "version": 3
   },
   "file_extension": ".py",
   "mimetype": "text/x-python",
   "name": "python",
   "nbconvert_exporter": "python",
   "pygments_lexer": "ipython3",
   "version": "3.10.9"
  }
 },
 "nbformat": 4,
 "nbformat_minor": 5
}
