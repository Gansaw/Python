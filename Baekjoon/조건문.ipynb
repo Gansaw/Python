{
 "cells": [
  {
   "cell_type": "code",
   "execution_count": 1,
   "id": "5868b99c",
   "metadata": {},
   "outputs": [
    {
     "name": "stdout",
     "output_type": "stream",
     "text": [
      "1 2\n",
      "<\n"
     ]
    }
   ],
   "source": [
    "# 1330 - 두 수 비교하기\n",
    "\n",
    "A, B = map(int, input().split())\n",
    "\n",
    "if A > B:\n",
    "    print(\">\")\n",
    "elif A < B:\n",
    "    print(\"<\")\n",
    "else:\n",
    "    print(\"==\")"
   ]
  },
  {
   "cell_type": "code",
   "execution_count": 2,
   "id": "08bbfe8e",
   "metadata": {
    "scrolled": true
   },
   "outputs": [
    {
     "name": "stdout",
     "output_type": "stream",
     "text": [
      "100\n",
      "A\n"
     ]
    }
   ],
   "source": [
    "# 9498 - 시험 성적\n",
    "\n",
    "score = int(input())        \n",
    "def grade(score):\n",
    "    if score >= 90:\n",
    "        print(\"A\")\n",
    "    elif score >= 80:\n",
    "        print(\"B\")\n",
    "    elif score >= 70:\n",
    "        print(\"C\")\n",
    "    elif score >= 60:\n",
    "        print(\"D\")\n",
    "    else:\n",
    "        print(\"F\")\n",
    "    if score < 0 or score > 100:\n",
    "        print(\"invalid score\")\n",
    "grade(score)"
   ]
  },
  {
   "cell_type": "code",
   "execution_count": 3,
   "id": "6f9bbf3a",
   "metadata": {},
   "outputs": [
    {
     "name": "stdout",
     "output_type": "stream",
     "text": [
      "2000\n",
      "1\n"
     ]
    }
   ],
   "source": [
    "# 2753 - 윤년\n",
    "\n",
    "year = int(input())\n",
    "\n",
    "if year % 4 == 0 and (year % 100 != 0 or year % 400 == 0):\n",
    "    print(\"1\")\n",
    "else:\n",
    "    print(\"0\")"
   ]
  },
  {
   "cell_type": "code",
   "execution_count": 4,
   "id": "c2fcfb78",
   "metadata": {},
   "outputs": [
    {
     "name": "stdout",
     "output_type": "stream",
     "text": [
      "12\n",
      "5\n",
      "1\n"
     ]
    }
   ],
   "source": [
    "# 14681 - 사분면 고르기\n",
    "\n",
    "x = int(input())\n",
    "y = int(input())\n",
    "\n",
    "if x > 0 and y > 0:\n",
    "    print(\"1\")\n",
    "elif x < 0 and y > 0:\n",
    "    print(\"2\")\n",
    "elif x < 0 and y < 0:\n",
    "    print(\"3\")\n",
    "else:\n",
    "    print(\"4\")"
   ]
  },
  {
   "cell_type": "code",
   "execution_count": 5,
   "id": "a80b1662",
   "metadata": {},
   "outputs": [
    {
     "name": "stdout",
     "output_type": "stream",
     "text": [
      "10 10\n",
      "9 25\n"
     ]
    }
   ],
   "source": [
    "# 2884 - 알람 시계\n",
    "\n",
    "hour, minute = map(int, input().split())\n",
    "\n",
    "if minute >= 45:\n",
    "    print(f\"{hour} {minute-45}\")\n",
    "if minute < 45:\n",
    "    if hour > 0:\n",
    "        print(f\"{hour-1} {minute+15}\")\n",
    "    else:\n",
    "        print(f\"23 {minute + 15}\")  "
   ]
  },
  {
   "cell_type": "code",
   "execution_count": 6,
   "id": "3f84ed31",
   "metadata": {},
   "outputs": [
    {
     "name": "stdout",
     "output_type": "stream",
     "text": [
      "14 30\n",
      "20\n",
      "14 50\n"
     ]
    }
   ],
   "source": [
    "# 2525 - 오븐 시계\n",
    "\n",
    "hour, minute = map(int, input().split())\n",
    "add_minute = int(input())\n",
    "result_minute = minute + add_minute\n",
    "\n",
    "if result_minute < 60:\n",
    "    if hour == 24:\n",
    "        hour = 0\n",
    "    print(f\"{hour} {result_minute}\")\n",
    "if result_minute >= 60:\n",
    "    add_hour = result_minute // 60\n",
    "    result_hour = hour + add_hour\n",
    "    rest_minute = result_minute % 60\n",
    "    if result_hour >= 24:\n",
    "        result_hour %= 24\n",
    "    print(f\"{result_hour} {rest_minute}\")"
   ]
  },
  {
   "cell_type": "code",
   "execution_count": 7,
   "id": "0133562f",
   "metadata": {},
   "outputs": [
    {
     "name": "stdout",
     "output_type": "stream",
     "text": [
      "3 3 6\n",
      "1300\n"
     ]
    }
   ],
   "source": [
    "# 2480 - 주사위 세개\n",
    "\n",
    "dice0, dice1, dice2 = map(int, input().split())\n",
    "dice = [dice0, dice1, dice2]\n",
    "\n",
    "if dice[0] == dice[1] == dice[2]:\n",
    "    print(10000 + dice0 * 1000)\n",
    "elif dice[0] == dice[1] or dice[0] == dice[2]:\n",
    "    print(1000 + dice0 * 100)\n",
    "elif dice[1] == dice[2]:\n",
    "    print(1000 + dice1 * 100)\n",
    "else:\n",
    "    print(max(dice) * 100)\n"
   ]
  }
 ],
 "metadata": {
  "kernelspec": {
   "display_name": "Python 3 (ipykernel)",
   "language": "python",
   "name": "python3"
  },
  "language_info": {
   "codemirror_mode": {
    "name": "ipython",
    "version": 3
   },
   "file_extension": ".py",
   "mimetype": "text/x-python",
   "name": "python",
   "nbconvert_exporter": "python",
   "pygments_lexer": "ipython3",
   "version": "3.11.3"
  }
 },
 "nbformat": 4,
 "nbformat_minor": 5
}
