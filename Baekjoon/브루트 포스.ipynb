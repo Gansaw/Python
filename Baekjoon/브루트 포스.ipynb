{
 "cells": [
  {
   "cell_type": "code",
   "execution_count": 4,
   "id": "466ab0be",
   "metadata": {},
   "outputs": [
    {
     "name": "stdout",
     "output_type": "stream",
     "text": [
      "10 500\n",
      "93 181 245 214 315 36 185 138 216 295\n",
      "497\n"
     ]
    }
   ],
   "source": [
    "# 2798 - 블랙잭\n",
    "\n",
    "N, M = map(int, input().split())\n",
    "cards = list(map(int, input().split()))\n",
    "result = 0\n",
    "\n",
    "for i in range(N-2):\n",
    "    for j in range(i+1,N-1):\n",
    "        for k in range(j+1,N):\n",
    "            sumAll = cards[i] + cards[j] + cards[k]\n",
    "            if sumAll <= M and sumAll > result:\n",
    "                result = sumAll\n",
    "                \n",
    "print(result)"
   ]
  },
  {
   "cell_type": "code",
   "execution_count": null,
   "id": "1d0bb582",
   "metadata": {},
   "outputs": [],
   "source": []
  }
 ],
 "metadata": {
  "kernelspec": {
   "display_name": "Python 3 (ipykernel)",
   "language": "python",
   "name": "python3"
  },
  "language_info": {
   "codemirror_mode": {
    "name": "ipython",
    "version": 3
   },
   "file_extension": ".py",
   "mimetype": "text/x-python",
   "name": "python",
   "nbconvert_exporter": "python",
   "pygments_lexer": "ipython3",
   "version": "3.10.9"
  }
 },
 "nbformat": 4,
 "nbformat_minor": 5
}
