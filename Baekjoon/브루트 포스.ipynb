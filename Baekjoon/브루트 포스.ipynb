{
 "cells": [
  {
   "cell_type": "code",
   "execution_count": 4,
   "id": "466ab0be",
   "metadata": {},
   "outputs": [
    {
     "name": "stdout",
     "output_type": "stream",
     "text": [
      "10 500\n",
      "93 181 245 214 315 36 185 138 216 295\n",
      "497\n"
     ]
    }
   ],
   "source": [
    "# 2798 - 블랙잭\n",
    "\n",
    "N, M = map(int, input().split())\n",
    "cards = list(map(int, input().split()))\n",
    "result = 0\n",
    "\n",
    "for i in range(N-2):\n",
    "    for j in range(i+1,N-1):\n",
    "        for k in range(j+1,N):\n",
    "            sumAll = cards[i] + cards[j] + cards[k]\n",
    "            if sumAll <= M and sumAll > result:\n",
    "                result = sumAll\n",
    "                \n",
    "print(result)"
   ]
  },
  {
   "cell_type": "code",
   "execution_count": 31,
   "id": "d6bca3e2",
   "metadata": {
    "scrolled": false
   },
   "outputs": [
    {
     "name": "stdout",
     "output_type": "stream",
     "text": [
      "1 3 -1 4 1 7\n",
      "2 -1\n"
     ]
    }
   ],
   "source": [
    "# 19532 - 연립방정식\n",
    "\n",
    "import numpy as np\n",
    "\n",
    "v = list(map(int, input().split()))\n",
    "a, b, c, d, e, f = v\n",
    "\n",
    "# 행렬 A와 벡터 B를 정의\n",
    "func1 = np.array([[a, b], [d, e]])\n",
    "func2 = np.array([c, f])\n",
    "\n",
    "# 연립방정식의 해 계산\n",
    "result = np.linalg.solve(func1, func2)\n",
    "\n",
    "# 결과 출력\n",
    "x, y = result\n",
    "print(int(x), int(y))"
   ]
  },
  {
   "cell_type": "code",
   "execution_count": null,
   "id": "f3df66b1",
   "metadata": {},
   "outputs": [],
   "source": []
  }
 ],
 "metadata": {
  "kernelspec": {
   "display_name": "Python 3 (ipykernel)",
   "language": "python",
   "name": "python3"
  },
  "language_info": {
   "codemirror_mode": {
    "name": "ipython",
    "version": 3
   },
   "file_extension": ".py",
   "mimetype": "text/x-python",
   "name": "python",
   "nbconvert_exporter": "python",
   "pygments_lexer": "ipython3",
   "version": "3.10.9"
  }
 },
 "nbformat": 4,
 "nbformat_minor": 5
}
