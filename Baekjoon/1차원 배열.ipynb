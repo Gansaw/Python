{
 "cells": [
  {
   "cell_type": "code",
   "execution_count": 2,
   "id": "f0c81f14",
   "metadata": {},
   "outputs": [
    {
     "name": "stdout",
     "output_type": "stream",
     "text": [
      "5\n",
      "1 3 4 5 5\n",
      "5\n",
      "2\n"
     ]
    }
   ],
   "source": [
    "# 10807\n",
    "\n",
    "N = int(input())\n",
    "show_N = map(int, input().split())\n",
    "N_list = list(show_N)\n",
    "v = int(input())\n",
    "\n",
    "count = 0\n",
    "\n",
    "for i in range(len(N_list)):\n",
    "    if N_list[i] == v:\n",
    "        count += 1\n",
    "\n",
    "print(count)"
   ]
  },
  {
   "cell_type": "code",
   "execution_count": 9,
   "id": "c72c7db5",
   "metadata": {},
   "outputs": [
    {
     "name": "stdout",
     "output_type": "stream",
     "text": [
      "10 5\n",
      "1 10 4 9 2 3 8 5 7 6\n",
      "1 4 2 3 \n"
     ]
    }
   ],
   "source": [
    "# 10871\n",
    "\n",
    "N, X = map(int, input().split())\n",
    "show_N = map(int, input().split())\n",
    "N_list = list(show_N)\n",
    "\n",
    "result = \"\"\n",
    "\n",
    "for i in range(len(N_list)):\n",
    "    if N_list[i] < X:\n",
    "        result += str(N_list[i]) + \" \"\n",
    "print(result)"
   ]
  },
  {
   "cell_type": "code",
   "execution_count": 2,
   "id": "e5dee3b7",
   "metadata": {},
   "outputs": [
    {
     "name": "stdout",
     "output_type": "stream",
     "text": [
      "5\n",
      "20 10 35 30 7\n",
      "7 35\n"
     ]
    }
   ],
   "source": [
    "# 10818\n",
    "\n",
    "N = int(input())\n",
    "show_N = map(int, input().split())\n",
    "N_list = list(show_N)\n",
    "\n",
    "min_value = min(N_list)\n",
    "max_value = max(N_list)\n",
    "\n",
    "print(f\"{min_value} {max_value}\")"
   ]
  },
  {
   "cell_type": "code",
   "execution_count": 4,
   "id": "a762c4b7",
   "metadata": {},
   "outputs": [
    {
     "name": "stdout",
     "output_type": "stream",
     "text": [
      "3\n",
      "29\n",
      "38\n",
      "12\n",
      "57\n",
      "74\n",
      "40\n",
      "85\n",
      "61\n",
      "85 \n",
      "7\n"
     ]
    }
   ],
   "source": [
    "# 2562\n",
    "\n",
    "N_list = []\n",
    "for i in range(9):\n",
    "    N = int(input())\n",
    "    N_list.append(N)\n",
    "    max_value = max(N_list)\n",
    "    if N_list[i] == max_value:\n",
    "        result = i+1\n",
    "\n",
    "print(f\"{max_value} \\n{result}\")"
   ]
  },
  {
   "cell_type": "code",
   "execution_count": 4,
   "id": "31f18e61",
   "metadata": {},
   "outputs": [
    {
     "name": "stdout",
     "output_type": "stream",
     "text": [
      "5 4\n",
      "1 2 3\n",
      "3 4 4\n",
      "1 4 1\n",
      "2 2 2\n",
      "1 2 1 1 0 "
     ]
    }
   ],
   "source": [
    "# 10810\n",
    "\n",
    "N, M = map(int,input().split())\n",
    "baskets = [0] * N\n",
    "\n",
    "for _ in range(M):\n",
    "    i, j, k = map(int, input().split())\n",
    "    for ball in range (i-1,j):\n",
    "        baskets[ball] = k\n",
    "        \n",
    "for basket in baskets:\n",
    "    print(basket, end = \" \")"
   ]
  },
  {
   "cell_type": "code",
   "execution_count": 11,
   "id": "2611df9d",
   "metadata": {},
   "outputs": [
    {
     "name": "stdout",
     "output_type": "stream",
     "text": [
      "5 4\n",
      "1 2\n",
      "3 4\n",
      "1 4\n",
      "2 2\n",
      "3 1 4 2 5\n"
     ]
    }
   ],
   "source": [
    "# 10813\n",
    "\n",
    "N, M = map(int, input().split())\n",
    "baskets = []\n",
    "\n",
    "for put_ball in range(1, N+1):\n",
    "    baskets.append(put_ball)\n",
    "for change_ball in range(M):\n",
    "    i, j = map(int, input().split())\n",
    "    ballA = baskets[i-1]\n",
    "    ballB = baskets[j-1]\n",
    "    baskets[i-1] = ballB\n",
    "    baskets[j-1] = ballA  \n",
    "\n",
    "result = \" \".join(map(str, baskets))\n",
    "print(result)"
   ]
  },
  {
   "cell_type": "code",
   "execution_count": 18,
   "id": "52777b6a",
   "metadata": {},
   "outputs": [
    {
     "name": "stdout",
     "output_type": "stream",
     "text": [
      "2\n",
      "3\n",
      "4\n",
      "5\n",
      "6\n",
      "7\n",
      "9\n",
      "10\n",
      "11\n",
      "12\n",
      "13\n",
      "14\n",
      "15\n",
      "16\n",
      "17\n",
      "18\n",
      "19\n",
      "20\n",
      "21\n",
      "22\n",
      "23\n",
      "24\n",
      "25\n",
      "26\n",
      "27\n",
      "28\n",
      "29\n",
      "30\n",
      "[ 1 ,   8 ]\n"
     ]
    }
   ],
   "source": [
    "# 5597\n",
    "\n",
    "students = set()\n",
    "students_submit = set()\n",
    "\n",
    "for student in range (1,31):\n",
    "    students.add(student)\n",
    "\n",
    "for _ in range (28):\n",
    "    student_submit = int(input()) \n",
    "    students_submit.add(student_submit)\n",
    "    \n",
    "students_not_submit = students - students_submit\n",
    "\n",
    "sort_students = sorted(students_not_submit)\n",
    "\n",
    "result = \" \".join(map(str, sort_students))\n",
    "\n",
    "print(result)"
   ]
  },
  {
   "cell_type": "code",
   "execution_count": 21,
   "id": "5af10d3d",
   "metadata": {},
   "outputs": [
    {
     "name": "stdout",
     "output_type": "stream",
     "text": [
      "1\n",
      "2\n",
      "3\n",
      "4\n",
      "5\n",
      "6\n",
      "7\n",
      "8\n",
      "9\n",
      "10\n",
      "10\n"
     ]
    }
   ],
   "source": [
    "# 3052\n",
    "\n",
    "results = set()\n",
    "\n",
    "for _ in range(10):\n",
    "    divide_num = int(input())\n",
    "    divide_to = 42\n",
    "    divide_rest = divide_num % 42\n",
    "    results.add(divide_rest)    \n",
    "\n",
    "result = len(results)\n",
    "    \n",
    "print(result)"
   ]
  },
  {
   "cell_type": "code",
   "execution_count": null,
   "id": "30965cd0",
   "metadata": {},
   "outputs": [],
   "source": [
    "# 10811\n",
    "\n",
    "N, M = map(int, input().split())\n",
    "baskets = list(range(1, N+1))\n",
    "\n",
    "for _ in range(M):\n",
    "    i, j = map(int, input().split())\n",
    "    reversed_baskets = list(reversed(baskets[i-1:j]))\n",
    "    baskets[i-1:j] = reversed_baskets\n",
    "\n",
    "result = \" \".join(map(str, baskets))\n",
    "print(result)"
   ]
  },
  {
   "cell_type": "code",
   "execution_count": 6,
   "id": "b8936441",
   "metadata": {},
   "outputs": [
    {
     "name": "stdout",
     "output_type": "stream",
     "text": [
      "2\n",
      "3 10\n",
      "65.0\n"
     ]
    }
   ],
   "source": [
    "# 1546번\n",
    "\n",
    "M = int(input())\n",
    "score = list(map(int, input().split()))\n",
    "score_result = []\n",
    "max_score = max(score)\n",
    "\n",
    "for i in range(len(score)):\n",
    "    score_average = score[i] / max_score * 100\n",
    "    score_result.append(score_average)\n",
    "    average = sum(score_result) / len(score)\n",
    "print(average)"
   ]
  }
 ],
 "metadata": {
  "kernelspec": {
   "display_name": "Python 3 (ipykernel)",
   "language": "python",
   "name": "python3"
  },
  "language_info": {
   "codemirror_mode": {
    "name": "ipython",
    "version": 3
   },
   "file_extension": ".py",
   "mimetype": "text/x-python",
   "name": "python",
   "nbconvert_exporter": "python",
   "pygments_lexer": "ipython3",
   "version": "3.10.9"
  }
 },
 "nbformat": 4,
 "nbformat_minor": 5
}
