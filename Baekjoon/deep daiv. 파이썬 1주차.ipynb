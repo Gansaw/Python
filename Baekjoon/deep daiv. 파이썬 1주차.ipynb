{
 "cells": [
  {
   "cell_type": "code",
   "execution_count": 8,
   "id": "3fa7e37c",
   "metadata": {},
   "outputs": [
    {
     "name": "stdout",
     "output_type": "stream",
     "text": [
      "2000\n",
      "1\n"
     ]
    }
   ],
   "source": [
    "# 1. 윤년\n",
    "\n",
    "leap = int(input())\n",
    "\n",
    "if leap % 4 == 0 and (leap % 100 != 0 or leap % 400) == 0:\n",
    "    print(1)\n",
    "else:\n",
    "    print(0)"
   ]
  },
  {
   "cell_type": "code",
   "execution_count": 4,
   "id": "3f79507b",
   "metadata": {},
   "outputs": [
    {
     "name": "stdout",
     "output_type": "stream",
     "text": [
      "5\n",
      "1\n",
      "4\n",
      "5\n",
      "3\n",
      "2\n",
      "1\n",
      "2\n",
      "3\n",
      "4\n",
      "5\n"
     ]
    }
   ],
   "source": [
    "# 2. 정렬\n",
    "\n",
    "N = int(input())\n",
    "number = []\n",
    "for i in range(N):\n",
    "    num = int(input())\n",
    "    number.append(num)\n",
    "    sorted_number = sorted(number)\n",
    "for num in sorted_number:\n",
    "   print(num)"
   ]
  },
  {
   "cell_type": "code",
   "execution_count": 20,
   "id": "445264df",
   "metadata": {},
   "outputs": [
    {
     "name": "stdout",
     "output_type": "stream",
     "text": [
      "5\n",
      "0 1 1 3 2\n",
      "4 2 5 3 1 \n",
      "응답시간 : 2.60546 sec\n"
     ]
    }
   ],
   "source": [
    "N = int(input())\n",
    "numbers = list(map(int, input().split()))\n",
    "\n",
    "result = [0] * N  # 결과를 저장할 리스트 초기화\n",
    "\n",
    "for i in range(N):\n",
    "    for j in range(i, numbers[i], -1):\n",
    "        result[j] = result[j-1]\n",
    "    result[numbers[i]] = i+1\n",
    "\n",
    "result.reverse()  # 결과를 역순으로 변경\n",
    "\n",
    "for student in result:\n",
    "    print(student, end=' ')"
   ]
  },
  {
   "cell_type": "code",
   "execution_count": 11,
   "id": "20b06b6c",
   "metadata": {},
   "outputs": [
    {
     "name": "stdout",
     "output_type": "stream",
     "text": [
      "55\n",
      "3\n"
     ]
    }
   ],
   "source": [
    "num = int(input())\n",
    "num_list = []\n",
    "count = 0\n",
    "\n",
    "if num < 10:\n",
    "    num_list = [0, num]\n",
    "elif num <= 99:\n",
    "    num_list = list(str(num))\n",
    "else:\n",
    "    result = \"1부터 99까지 숫자를 입력해주세요.\"\n",
    "\n",
    "while True:        \n",
    "    sum_digits = int(num_list[0]) + int(num_list[1])\n",
    "    new_num = str(num_list[1]) + str(sum_digits % 10)\n",
    "    count += 1\n",
    "    \n",
    "    if int(new_num) == num:\n",
    "        break\n",
    "        \n",
    "    num_list = list(new_num)\n",
    "\n",
    "result = count\n",
    "print(result)"
   ]
  },
  {
   "cell_type": "code",
   "execution_count": 17,
   "id": "de8f8047",
   "metadata": {},
   "outputs": [
    {
     "name": "stdout",
     "output_type": "stream",
     "text": [
      "12\n",
      "77\n",
      "38\n",
      "41\n",
      "53\n",
      "92\n",
      "85\n",
      "256\n",
      "41\n"
     ]
    }
   ],
   "source": [
    "import math\n",
    "\n",
    "result = 0\n",
    "odd_num = []\n",
    "\n",
    "for i in range(7) :\n",
    "    num = int(input())\n",
    "    if num % 2 == 1:\n",
    "        result += num\n",
    "        odd_num.append(num)\n",
    "        sort_odd_num = sorted(odd_num)\n",
    "print(result)\n",
    "print(sort_odd_num[0])"
   ]
  },
  {
   "cell_type": "code",
   "execution_count": 6,
   "id": "9e273474",
   "metadata": {},
   "outputs": [
    {
     "name": "stdout",
     "output_type": "stream",
     "text": [
      "6\n",
      "3 4 2 12 6 8\n",
      "24\n"
     ]
    }
   ],
   "source": [
    "num_divisors = int(input())  # N의 진짜 약수의 개수 입력\n",
    "divisors = list(map(int, input().split()))  # N의 진짜 약수 입력\n",
    "\n",
    "max_divisor = max(divisors)  # 최댓값 찾기\n",
    "min_divisor = min(divisors)  # 최솟값 찾기\n",
    "\n",
    "N = max_divisor * min_divisor  # N 계산\n",
    "\n",
    "print(N)  # 결과 출력"
   ]
  },
  {
   "cell_type": "code",
   "execution_count": 27,
   "id": "65b28a92",
   "metadata": {},
   "outputs": [
    {
     "name": "stdout",
     "output_type": "stream",
     "text": [
      "20 8\n",
      "{1, 2, 4, 5, 10, 20}\n",
      "{8, 1, 2, 4}\n",
      "최대공약수: 4\n",
      "최소공배수: 40\n"
     ]
    }
   ],
   "source": [
    "numA, numB = map(int,input().split())\n",
    "\n",
    "list_A = []\n",
    "list_B = []\n",
    "\n",
    "for i in range(1,numA+1):    \n",
    "    resA = numA % i\n",
    "    if resA == 0:\n",
    "        list_A.append(i)\n",
    "for j in range(1,numB+1):    \n",
    "    resB = numB % j\n",
    "    if resB == 0:\n",
    "        list_B.append(j)\n",
    "        \n",
    "print(set(list_A))\n",
    "print(set(list_B))\n",
    "\n",
    "gcd = max(set(list_A) & set(list_B))\n",
    "lcm = (numA * numB) // gcd\n",
    "\n",
    "print(\"최대공약수:\", gcd)\n",
    "print(\"최소공배수:\", lcm)"
   ]
  },
  {
   "cell_type": "code",
   "execution_count": 51,
   "id": "85d53341",
   "metadata": {
    "scrolled": true
   },
   "outputs": [
    {
     "name": "stdout",
     "output_type": "stream",
     "text": [
      "15\n",
      "1896\n",
      "12\n",
      "[0, 1, 2, 3, 4, 8]\n",
      "Digit 0 appears 1 times.\n",
      "Digit 1 appears 1 times.\n",
      "Digit 2 appears 1 times.\n",
      "Digit 3 appears 1 times.\n",
      "Digit 4 appears 1 times.\n",
      "Digit 8 appears 1 times.\n"
     ]
    }
   ],
   "source": [
    "from collections import Counter\n",
    "\n",
    "num1 = int(input())\n",
    "num2 = int(input())\n",
    "num3 = int(input())\n",
    "\n",
    "multiple = num1 * num2 * num3\n",
    "number_list = [int(digit) for digit in str(multiple)]\n",
    "sort = sorted(number_list)\n",
    "print(sort)\n",
    "\n",
    "digit_counts = Counter(sort)\n",
    "for digit, count in digit_counts.items():\n",
    "    print(f\"Digit {digit} appears {count} times.\")"
   ]
  }
 ],
 "metadata": {
  "kernelspec": {
   "display_name": "Python 3 (ipykernel)",
   "language": "python",
   "name": "python3"
  },
  "language_info": {
   "codemirror_mode": {
    "name": "ipython",
    "version": 3
   },
   "file_extension": ".py",
   "mimetype": "text/x-python",
   "name": "python",
   "nbconvert_exporter": "python",
   "pygments_lexer": "ipython3",
   "version": "3.10.9"
  }
 },
 "nbformat": 4,
 "nbformat_minor": 5
}
