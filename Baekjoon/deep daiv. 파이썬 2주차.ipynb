{
 "cells": [
  {
   "cell_type": "code",
   "execution_count": 30,
   "id": "7bfa3e41",
   "metadata": {
    "scrolled": true
   },
   "outputs": [
    {
     "name": "stdout",
     "output_type": "stream",
     "text": [
      "10\n",
      "55\n"
     ]
    }
   ],
   "source": [
    "# 피보나치 수5\n",
    "\n",
    "n = int(input())\n",
    "flist = [0,1]\n",
    "if n == 0:\n",
    "    result = flist[0]\n",
    "elif n == 1:    \n",
    "    result = flist[1]\n",
    "else:\n",
    "    for i in range(2,n+1):\n",
    "        flist.append(flist[i-1]+flist[i-2])\n",
    "        result = flist[i]\n",
    "print(result)"
   ]
  },
  {
   "cell_type": "code",
   "execution_count": null,
   "id": "2ee1c91a",
   "metadata": {},
   "outputs": [],
   "source": [
    "# 블랙잭\n",
    "\n",
    "N, M = map(int,input().split())\n",
    "number = int(input())\n",
    "number_list = list(number)\n",
    "sort_number_list = sorted(number_list)"
   ]
  },
  {
   "cell_type": "code",
   "execution_count": 7,
   "id": "35aabca3",
   "metadata": {},
   "outputs": [
    {
     "name": "stdout",
     "output_type": "stream",
     "text": [
      "245\n",
      "256\n"
     ]
    }
   ],
   "source": [
    "# 분해합\n",
    "\n",
    "N = int(input())\n",
    "list_N = list(str(N))\n",
    "total = 0\n",
    "\n",
    "for i in range(0,len(list_N)):\n",
    "    total += int(list_N[i])\n",
    "\n",
    "result = N + total\n",
    "print(result)"
   ]
  },
  {
   "cell_type": "code",
   "execution_count": 9,
   "id": "12a4722c",
   "metadata": {},
   "outputs": [
    {
     "name": "stdout",
     "output_type": "stream",
     "text": [
      "5\n",
      "1 3 5 7 4\n",
      "3\n",
      "1 4 8\n",
      "1\n",
      "1\n",
      "0\n"
     ]
    }
   ],
   "source": [
    "# 숫자 카드\n",
    "\n",
    "N = int(input())\n",
    "N_cards = set(map(int, input().split()))\n",
    "\n",
    "M = int(input())\n",
    "M_numbers = list(map(int, input().split())) \n",
    "\n",
    "for i in M_numbers:\n",
    "    if i in N_cards:\n",
    "        result = 1\n",
    "    else:\n",
    "        result = 0\n",
    "print(result)"
   ]
  },
  {
   "cell_type": "code",
   "execution_count": 11,
   "id": "e69e1d71",
   "metadata": {},
   "outputs": [
    {
     "name": "stdout",
     "output_type": "stream",
     "text": [
      "몇 번째 영화의 제목을 확인하시겠습니까? 500\n",
      "500번째 영화의 제목에 들어간 수: 166699\n"
     ]
    }
   ],
   "source": [
    "def nth_apocalyptic_number(n):\n",
    "    count = 0\n",
    "    number = 666\n",
    "\n",
    "    while count < n:\n",
    "        if '666' in str(number):\n",
    "            count += 1\n",
    "        number += 1\n",
    "\n",
    "    return number - 1\n",
    "\n",
    "# 사용자로부터 N을 입력받습니다.\n",
    "n = int(input(\"몇 번째 영화의 제목을 확인하시겠습니까? \"))\n",
    "\n",
    "# N번째 영화의 제목에 들어간 수를 출력합니다.\n",
    "result = nth_apocalyptic_number(n)\n",
    "print(f\"{n}번째 영화의 제목에 들어간 수: {result}\")\n"
   ]
  },
  {
   "cell_type": "code",
   "execution_count": 2,
   "id": "15e5e85e",
   "metadata": {},
   "outputs": [
    {
     "name": "stdout",
     "output_type": "stream",
     "text": [
      "10 11 12\n",
      "4\n"
     ]
    }
   ],
   "source": [
    "# 곱셈\n",
    "\n",
    "A, B, C = map(int,input().split())\n",
    "\n",
    "result = (A**B)%C\n",
    "\n",
    "print(result)"
   ]
  },
  {
   "cell_type": "code",
   "execution_count": null,
   "id": "11ee1ee1",
   "metadata": {},
   "outputs": [],
   "source": []
  }
 ],
 "metadata": {
  "kernelspec": {
   "display_name": "Python 3 (ipykernel)",
   "language": "python",
   "name": "python3"
  },
  "language_info": {
   "codemirror_mode": {
    "name": "ipython",
    "version": 3
   },
   "file_extension": ".py",
   "mimetype": "text/x-python",
   "name": "python",
   "nbconvert_exporter": "python",
   "pygments_lexer": "ipython3",
   "version": "3.10.9"
  }
 },
 "nbformat": 4,
 "nbformat_minor": 5
}
