{
 "cells": [
  {
   "cell_type": "code",
   "execution_count": 2,
   "id": "f0c81f14",
   "metadata": {},
   "outputs": [
    {
     "name": "stdout",
     "output_type": "stream",
     "text": [
      "5\n",
      "1 3 4 5 5\n",
      "5\n",
      "2\n"
     ]
    }
   ],
   "source": [
    "# 10807\n",
    "\n",
    "N = int(input())\n",
    "show_N = map(int, input().split())\n",
    "N_list = list(show_N)\n",
    "v = int(input())\n",
    "\n",
    "count = 0\n",
    "\n",
    "for i in range(len(N_list)):\n",
    "    if N_list[i] == v:\n",
    "        count += 1\n",
    "\n",
    "print(count)"
   ]
  },
  {
   "cell_type": "code",
   "execution_count": 9,
   "id": "c72c7db5",
   "metadata": {},
   "outputs": [
    {
     "name": "stdout",
     "output_type": "stream",
     "text": [
      "10 5\n",
      "1 10 4 9 2 3 8 5 7 6\n",
      "1 4 2 3 \n"
     ]
    }
   ],
   "source": [
    "# 10871\n",
    "\n",
    "N, X = map(int, input().split())\n",
    "show_N = map(int, input().split())\n",
    "N_list = list(show_N)\n",
    "\n",
    "result = \"\"\n",
    "\n",
    "for i in range(len(N_list)):\n",
    "    if N_list[i] < X:\n",
    "        result += str(N_list[i]) + \" \"\n",
    "print(result)"
   ]
  },
  {
   "cell_type": "code",
   "execution_count": 2,
   "id": "e5dee3b7",
   "metadata": {},
   "outputs": [
    {
     "name": "stdout",
     "output_type": "stream",
     "text": [
      "5\n",
      "20 10 35 30 7\n",
      "7 35\n"
     ]
    }
   ],
   "source": [
    "# 10818\n",
    "\n",
    "N = int(input())\n",
    "show_N = map(int, input().split())\n",
    "N_list = list(show_N)\n",
    "\n",
    "min_value = min(N_list)\n",
    "max_value = max(N_list)\n",
    "\n",
    "print(f\"{min_value} {max_value}\")"
   ]
  },
  {
   "cell_type": "code",
   "execution_count": 4,
   "id": "a762c4b7",
   "metadata": {},
   "outputs": [
    {
     "name": "stdout",
     "output_type": "stream",
     "text": [
      "3\n",
      "29\n",
      "38\n",
      "12\n",
      "57\n",
      "74\n",
      "40\n",
      "85\n",
      "61\n",
      "85 \n",
      "7\n"
     ]
    }
   ],
   "source": [
    "# 2562\n",
    "\n",
    "N_list = []\n",
    "for i in range(9):\n",
    "    N = int(input())\n",
    "    N_list.append(N)\n",
    "    max_value = max(N_list)\n",
    "    if N_list[i] == max_value:\n",
    "        result = i+1\n",
    "\n",
    "print(f\"{max_value} \\n{result}\")"
   ]
  }
 ],
 "metadata": {
  "kernelspec": {
   "display_name": "Python 3 (ipykernel)",
   "language": "python",
   "name": "python3"
  },
  "language_info": {
   "codemirror_mode": {
    "name": "ipython",
    "version": 3
   },
   "file_extension": ".py",
   "mimetype": "text/x-python",
   "name": "python",
   "nbconvert_exporter": "python",
   "pygments_lexer": "ipython3",
   "version": "3.10.9"
  }
 },
 "nbformat": 4,
 "nbformat_minor": 5
}
