{
 "cells": [
  {
   "cell_type": "code",
   "execution_count": null,
   "id": "5868b99c",
   "metadata": {},
   "outputs": [],
   "source": [
    "# 1330\n",
    "\n",
    "A, B = map(int, input().split())\n",
    "\n",
    "if A > B:\n",
    "    print(\">\")\n",
    "elif A < B:\n",
    "    print(\"<\")\n",
    "else:\n",
    "    print(\"==\")"
   ]
  },
  {
   "cell_type": "code",
   "execution_count": 4,
   "id": "08bbfe8e",
   "metadata": {
    "scrolled": true
   },
   "outputs": [
    {
     "name": "stdout",
     "output_type": "stream",
     "text": [
      "100\n",
      "A\n"
     ]
    }
   ],
   "source": [
    "# 9498\n",
    "\n",
    "score = int(input())        \n",
    "def grade(score):\n",
    "    if score >= 90:\n",
    "        print(\"A\")\n",
    "    elif score >= 80:\n",
    "        print(\"B\")\n",
    "    elif score >= 70:\n",
    "        print(\"C\")\n",
    "    elif score >= 60:\n",
    "        print(\"D\")\n",
    "    else:\n",
    "        print(\"F\")\n",
    "    if score < 0 or score > 100:\n",
    "        print(\"invalid score\")\n",
    "grade(score)"
   ]
  },
  {
   "cell_type": "code",
   "execution_count": 11,
   "id": "6f9bbf3a",
   "metadata": {},
   "outputs": [
    {
     "name": "stdout",
     "output_type": "stream",
     "text": [
      "2000\n",
      "1\n"
     ]
    }
   ],
   "source": [
    "# 2753\n",
    "\n",
    "year = int(input())\n",
    "\n",
    "if year % 4 == 0 and (year % 100 != 0 or year % 400 == 0):\n",
    "    print(\"1\")\n",
    "else:\n",
    "    print(\"0\")"
   ]
  },
  {
   "cell_type": "code",
   "execution_count": null,
   "id": "c2fcfb78",
   "metadata": {},
   "outputs": [],
   "source": [
    "# 14681\n",
    "\n",
    "x = int(input())\n",
    "y = int(input())\n",
    "\n",
    "if x > 0 and y > 0:\n",
    "    print(\"1\")\n",
    "elif x < 0 and y > 0:\n",
    "    print(\"2\")\n",
    "elif x < 0 and y < 0:\n",
    "    print(\"3\")\n",
    "else:\n",
    "    print(\"4\")"
   ]
  },
  {
   "cell_type": "code",
   "execution_count": 19,
   "id": "a80b1662",
   "metadata": {},
   "outputs": [
    {
     "name": "stdout",
     "output_type": "stream",
     "text": [
      "23 40\n",
      "22 55\n"
     ]
    }
   ],
   "source": [
    "# 2884\n",
    "\n",
    "hour, minute = map(int, input().split())\n",
    "\n",
    "if minute >= 45:\n",
    "    print(f\"{hour} {minute-45}\")\n",
    "if minute < 45:\n",
    "    if hour > 1:\n",
    "        print(f\"{hour-1} {minute+15}\")\n",
    "    else:\n",
    "        print(f\"23 {minute + 15}\")  "
   ]
  },
  {
   "cell_type": "code",
   "execution_count": 26,
   "id": "3f84ed31",
   "metadata": {},
   "outputs": [
    {
     "name": "stdout",
     "output_type": "stream",
     "text": [
      "23 48\n",
      "25\n",
      "0 13\n"
     ]
    }
   ],
   "source": [
    "# 2525\n",
    "\n",
    "hour, minute = map(int, input().split())\n",
    "add_minute = int(input())\n",
    "result_minute = minute + add_minute\n",
    "\n",
    "if result_minute < 60:\n",
    "    if hour == 24:\n",
    "        hour = 0\n",
    "    print(f\"{hour} {result_minute}\")\n",
    "if result_minute >= 60:\n",
    "    add_hour = result_minute // 60\n",
    "    result_hour = hour + add_hour\n",
    "    rest_minute = result_minute % 60\n",
    "    if result_hour >= 24:\n",
    "        result_hour %= 24\n",
    "    print(f\"{result_hour} {rest_minute}\")"
   ]
  },
  {
   "cell_type": "code",
   "execution_count": 4,
   "id": "0133562f",
   "metadata": {},
   "outputs": [
    {
     "name": "stdout",
     "output_type": "stream",
     "text": [
      "6 2 5\n",
      "600\n"
     ]
    }
   ],
   "source": [
    "dice0, dice1, dice2 = map(int,input().split())\n",
    "dice = []\n",
    "dice.append(dice0)\n",
    "dice.append(dice1)\n",
    "dice.append(dice2)\n",
    "\n",
    "if dice[0] == dice[1] == dice[2]:\n",
    "    print(f\"{10000 + dice0 * 1000}\")\n",
    "elif dice[0] == dice[1]:\n",
    "    print(f\"{1000 + dice0 * 100}\")\n",
    "elif dice[0] == dice[2]:\n",
    "    print(f\"{1000 + dice0 * 100}\")\n",
    "elif dice[1] == dice[2]:\n",
    "    print(f\"{1000 * dice1 * 100}\")\n",
    "else:\n",
    "    print(f\"{max(dice)*100}\")"
   ]
  }
 ],
 "metadata": {
  "kernelspec": {
   "display_name": "Python 3 (ipykernel)",
   "language": "python",
   "name": "python3"
  },
  "language_info": {
   "codemirror_mode": {
    "name": "ipython",
    "version": 3
   },
   "file_extension": ".py",
   "mimetype": "text/x-python",
   "name": "python",
   "nbconvert_exporter": "python",
   "pygments_lexer": "ipython3",
   "version": "3.10.9"
  }
 },
 "nbformat": 4,
 "nbformat_minor": 5
}
