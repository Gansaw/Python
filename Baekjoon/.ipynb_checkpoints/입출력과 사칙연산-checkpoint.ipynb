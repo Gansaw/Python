{
 "cells": [
  {
   "cell_type": "code",
   "execution_count": 14,
   "id": "3ed76dec",
   "metadata": {},
   "outputs": [
    {
     "name": "stdout",
     "output_type": "stream",
     "text": [
      "Hello World!\n"
     ]
    }
   ],
   "source": [
    "# 2557\n",
    "\n",
    "print(\"Hello World!\")"
   ]
  },
  {
   "cell_type": "code",
   "execution_count": 2,
   "id": "80ddd357",
   "metadata": {},
   "outputs": [
    {
     "name": "stdout",
     "output_type": "stream",
     "text": [
      "1 2\n",
      "3\n"
     ]
    }
   ],
   "source": [
    "# 1000\n",
    "\n",
    "A, B = map(int,input().split())\n",
    "print(A+B)"
   ]
  },
  {
   "cell_type": "code",
   "execution_count": null,
   "id": "275d6dc6",
   "metadata": {},
   "outputs": [],
   "source": [
    "# 1001\n",
    "\n",
    "A, B = map(int,input().split())\n",
    "print(A-B)"
   ]
  },
  {
   "cell_type": "code",
   "execution_count": null,
   "id": "f0aaa52d",
   "metadata": {},
   "outputs": [],
   "source": [
    "# 10998\n",
    "\n",
    "A, B = map(int,input().split())\n",
    "print(A*B)"
   ]
  },
  {
   "cell_type": "code",
   "execution_count": null,
   "id": "e99eff0e",
   "metadata": {},
   "outputs": [],
   "source": [
    "# 1008\n",
    "\n",
    "A, B = map(int,input().split())\n",
    "print(A/B)"
   ]
  },
  {
   "cell_type": "code",
   "execution_count": 3,
   "id": "796dc2e7",
   "metadata": {},
   "outputs": [
    {
     "name": "stdout",
     "output_type": "stream",
     "text": [
      "7 3\n",
      "10\n",
      "4\n",
      "21\n",
      "2\n",
      "1\n"
     ]
    }
   ],
   "source": [
    "# 10869\n",
    "\n",
    "A, B = map(int,input().split())\n",
    "print(f\"{A+B}\\n{A-B}\\n{A*B}\\n{A//B}\\n{A%B}\")"
   ]
  },
  {
   "cell_type": "code",
   "execution_count": 4,
   "id": "f78b43db",
   "metadata": {},
   "outputs": [
    {
     "name": "stdout",
     "output_type": "stream",
     "text": [
      "joonas\n",
      "joonas??!\n"
     ]
    }
   ],
   "source": [
    "# 10926\n",
    "\n",
    "ID = input()\n",
    "surprise = \"??!\"\n",
    "print(f\"{ID}{surprise}\")"
   ]
  },
  {
   "cell_type": "code",
   "execution_count": 5,
   "id": "3d6fb49f",
   "metadata": {},
   "outputs": [
    {
     "name": "stdout",
     "output_type": "stream",
     "text": [
      "2541\n",
      "1998\n"
     ]
    }
   ],
   "source": [
    "# 18108\n",
    "\n",
    "y = int(input())\n",
    "result = y - 543\n",
    "\n",
    "print(result)"
   ]
  },
  {
   "cell_type": "code",
   "execution_count": 6,
   "id": "36643e7e",
   "metadata": {},
   "outputs": [
    {
     "name": "stdout",
     "output_type": "stream",
     "text": [
      "5 8 4\n",
      "1\n",
      "1\n",
      "0\n",
      "0\n"
     ]
    }
   ],
   "source": [
    "# 10430\n",
    "\n",
    "A, B, C = map(int, input().split())\n",
    "row1 = (A+B)%C\n",
    "row2 = ((A%C)+(B%C))%C\n",
    "row3 = (A*B)%C\n",
    "row4 = ((A%C)*(B%C))%C\n",
    "\n",
    "print(f\"{row1}\\n{row2}\\n{row3}\\n{row4}\")"
   ]
  },
  {
   "cell_type": "code",
   "execution_count": 13,
   "id": "047a4975",
   "metadata": {},
   "outputs": [
    {
     "name": "stdout",
     "output_type": "stream",
     "text": [
      "472\n",
      "385\n",
      "2360\n",
      "3776\n",
      "1416\n",
      "181720\n"
     ]
    }
   ],
   "source": [
    "# 2588\n",
    "\n",
    "num1 = int(input())\n",
    "num2 = int(input())\n",
    "num2_list = list(str(num2))\n",
    "multiple1 = num1 * int(num2_list[2])\n",
    "multiple2 = num1 * int(num2_list[1])\n",
    "multiple3 = num1 * int(num2_list[0])\n",
    "result = num1 * num2\n",
    "\n",
    "print(f\"{multiple1}\\n{multiple2}\\n{multiple3}\\n{result}\")"
   ]
  },
  {
   "cell_type": "code",
   "execution_count": null,
   "id": "82c25774",
   "metadata": {},
   "outputs": [],
   "source": [
    "# 11382\n",
    "\n",
    "A, B, C = map(int,input().split())\n",
    "print(A+B+C)"
   ]
  },
  {
   "cell_type": "code",
   "execution_count": null,
   "id": "2473df64",
   "metadata": {},
   "outputs": [],
   "source": [
    "# 10171\n",
    "\n",
    "print(\"\\\\    /\\\\\")\n",
    "print(\" )  ( ')\")\n",
    "print(\"(  /  )\")\n",
    "print(\" \\\\(__)|\")"
   ]
  },
  {
   "cell_type": "code",
   "execution_count": null,
   "id": "4cc6c453",
   "metadata": {},
   "outputs": [],
   "source": [
    "# 10172\n",
    "\n",
    "print(\"|\\\\_/|\")\n",
    "print(\"|q p|   /}\")\n",
    "print('( 0 )\"\"\"\\\\')\n",
    "print('|\"^\"`    |')\n",
    "print('||_/=\\\\\\\\__|')"
   ]
  }
 ],
 "metadata": {
  "kernelspec": {
   "display_name": "Python 3 (ipykernel)",
   "language": "python",
   "name": "python3"
  },
  "language_info": {
   "codemirror_mode": {
    "name": "ipython",
    "version": 3
   },
   "file_extension": ".py",
   "mimetype": "text/x-python",
   "name": "python",
   "nbconvert_exporter": "python",
   "pygments_lexer": "ipython3",
   "version": "3.10.9"
  }
 },
 "nbformat": 4,
 "nbformat_minor": 5
}
