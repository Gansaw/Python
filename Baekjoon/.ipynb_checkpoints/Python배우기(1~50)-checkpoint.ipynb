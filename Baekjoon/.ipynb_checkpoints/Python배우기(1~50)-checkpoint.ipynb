{
 "cells": [
  {
   "cell_type": "code",
   "execution_count": 1,
   "id": "6821ed04",
   "metadata": {},
   "outputs": [
    {
     "name": "stdout",
     "output_type": "stream",
     "text": [
      "Hello World!\n"
     ]
    }
   ],
   "source": [
    "print(\"Hello World!\")"
   ]
  },
  {
   "cell_type": "code",
   "execution_count": 4,
   "id": "5e755d26",
   "metadata": {},
   "outputs": [
    {
     "name": "stdout",
     "output_type": "stream",
     "text": [
      "1 2\n",
      "3\n"
     ]
    }
   ],
   "source": [
    "a, b = map(int, input().split())\n",
    "print(a+b)"
   ]
  },
  {
   "cell_type": "code",
   "execution_count": 5,
   "id": "fe56951f",
   "metadata": {},
   "outputs": [
    {
     "name": "stdout",
     "output_type": "stream",
     "text": [
      "1 2\n",
      "2\n"
     ]
    }
   ],
   "source": [
    "a, b = map(int,input().split())\n",
    "print(a*b)"
   ]
  },
  {
   "cell_type": "code",
   "execution_count": 6,
   "id": "7e74ac05",
   "metadata": {},
   "outputs": [
    {
     "name": "stdout",
     "output_type": "stream",
     "text": [
      "3 2\n",
      "1\n"
     ]
    }
   ],
   "source": [
    "a, b = map(int, input().split())\n",
    "print(a-b)"
   ]
  },
  {
   "cell_type": "code",
   "execution_count": 8,
   "id": "9cf0a8d1",
   "metadata": {},
   "outputs": [
    {
     "name": "stdout",
     "output_type": "stream",
     "text": [
      "1 3\n",
      "0.3333333333333333\n"
     ]
    }
   ],
   "source": [
    "a, b = map(int,input().split())\n",
    "print(a/b)"
   ]
  },
  {
   "cell_type": "code",
   "execution_count": 19,
   "id": "a3f1a9a5",
   "metadata": {},
   "outputs": [
    {
     "name": "stdout",
     "output_type": "stream",
     "text": [
      "7 3\n",
      "10\n",
      "4\n",
      "21\n",
      "2\n",
      "1\n"
     ]
    }
   ],
   "source": [
    "a, b = map(int, input().split())\n",
    "print(a+b)\n",
    "print(a-b)\n",
    "print(a*b)\n",
    "print(a//b)\n",
    "print(a%b)"
   ]
  },
  {
   "cell_type": "code",
   "execution_count": 21,
   "id": "d83546ca",
   "metadata": {},
   "outputs": [
    {
     "name": "stdout",
     "output_type": "stream",
     "text": [
      "5 8 4\n",
      "1\n",
      "1\n",
      "0\n",
      "0\n"
     ]
    }
   ],
   "source": [
    "a, b, c = map(int,input().split())\n",
    "print((a+b)%c)\n",
    "print(((a%c)+(b%c))%c)\n",
    "print((a*b)%c)\n",
    "print(((a%c)*(b%c))%c)"
   ]
  },
  {
   "cell_type": "code",
   "execution_count": null,
   "id": "4fc3b23b",
   "metadata": {},
   "outputs": [],
   "source": [
    "a = int(input())\n",
    "b = int(input())\n",
    "result = a + b\n",
    "print(result)"
   ]
  },
  {
   "cell_type": "code",
   "execution_count": 2,
   "id": "78e7f0bb",
   "metadata": {},
   "outputs": [
    {
     "name": "stdout",
     "output_type": "stream",
     "text": [
      "472\n",
      "385\n",
      "1416\n",
      "3776\n",
      "2360\n",
      "181720\n"
     ]
    }
   ],
   "source": [
    "a = int(input())\n",
    "b = (input())\n",
    "result1 = a * int(b[0])\n",
    "result2 = a * int(b[1])\n",
    "result3 = a * int(b[2])\n",
    "result = result1 * 100 + result2 * 10 + result3\n",
    "\n",
    "print(result1)\n",
    "print(result2)\n",
    "print(result3)\n",
    "print(result)"
   ]
  },
  {
   "cell_type": "code",
   "execution_count": 8,
   "id": "9e5b5e97",
   "metadata": {},
   "outputs": [
    {
     "name": "stdout",
     "output_type": "stream",
     "text": [
      "4 3\n",
      "2\n"
     ]
    }
   ],
   "source": [
    "R1, S = map(int,input().split())\n",
    "R2 = 2*S-R1\n",
    "print(R2)"
   ]
  },
  {
   "cell_type": "code",
   "execution_count": 10,
   "id": "fc8d8d2f",
   "metadata": {},
   "outputs": [
    {
     "name": "stdout",
     "output_type": "stream",
     "text": [
      "1 1\n",
      "0\n"
     ]
    }
   ],
   "source": [
    "N, M = map(int,input().split())\n",
    "cut = (N*M)-1\n",
    "print(cut)"
   ]
  },
  {
   "cell_type": "code",
   "execution_count": 2,
   "id": "5a360ab4",
   "metadata": {},
   "outputs": [
    {
     "name": "stdout",
     "output_type": "stream",
     "text": [
      "5\n",
      "1 1\n",
      "Case #1: 2\n",
      "2 3\n",
      "Case #2: 5\n",
      "3 4 \n",
      "Case #3: 7\n",
      "9 8\n",
      "Case #4: 17\n",
      "5 2\n",
      "Case #5: 7\n"
     ]
    }
   ],
   "source": [
    "x = int(input())\n",
    "for x in range(1,x+1):\n",
    "    A, B = map(int,input().split())\n",
    "    result = A + B\n",
    "    print(f\"Case #{x}: {result}\")"
   ]
  },
  {
   "cell_type": "code",
   "execution_count": 3,
   "id": "ac07bd44",
   "metadata": {},
   "outputs": [
    {
     "name": "stdout",
     "output_type": "stream",
     "text": [
      "2023-06-08 09:18:06.082759\n",
      "2023-06-08\n"
     ]
    }
   ],
   "source": [
    "from datetime import datetime\n",
    "\n",
    "today = datetime.today()\n",
    "print(today)\n",
    "date_str = today.strftime(\"%Y-%m-%d\")\n",
    "print(date_str)"
   ]
  },
  {
   "cell_type": "code",
   "execution_count": 2,
   "id": "8edd1124",
   "metadata": {},
   "outputs": [
    {
     "name": "stdout",
     "output_type": "stream",
     "text": [
      "16 30\n",
      "40\n",
      "17 10\n"
     ]
    }
   ],
   "source": [
    "pmin, psec = map(int,input().split())\n",
    "csec = int(input())\n",
    "totalsec = pmin * 60 + psec + csec\n",
    "minute = totalsec//60\n",
    "second = totalsec%60\n",
    "\n",
    "print(f\"{minute} {second}\")"
   ]
  },
  {
   "cell_type": "code",
   "execution_count": 12,
   "id": "f41e8180",
   "metadata": {
    "scrolled": false
   },
   "outputs": [
    {
     "name": "stdout",
     "output_type": "stream",
     "text": [
      "14 30 0\n",
      "200\n",
      "14 33 20\n"
     ]
    }
   ],
   "source": [
    "phour, pmin, psec = map(int, input().split())\n",
    "csec = int(input())\n",
    "totalsec = phour * 60 * 60 + pmin * 60 + psec + csec\n",
    "hour = totalsec // (60 * 60)\n",
    "rhour = totalsec % (60 * 60)\n",
    "minute = rhour // 60\n",
    "second = rhour % 60\n",
    "\n",
    "print(f\"{hour} {minute} {second}\")"
   ]
  },
  {
   "cell_type": "code",
   "execution_count": 17,
   "id": "0861d94d",
   "metadata": {},
   "outputs": [
    {
     "name": "stdout",
     "output_type": "stream",
     "text": [
      "38 24\n",
      "912\n"
     ]
    }
   ],
   "source": [
    "import math\n",
    "\n",
    "music, avg = map(int, input().split())\n",
    "melody = math.ceil(avg * music)\n",
    "print(melody)"
   ]
  },
  {
   "cell_type": "code",
   "execution_count": null,
   "id": "3d3864c7",
   "metadata": {},
   "outputs": [
    {
     "name": "stdout",
     "output_type": "stream",
     "text": [
      "3\n",
      "3 @ %\n",
      "14.00\n"
     ]
    }
   ],
   "source": [
    "# 입력을 받는 함수\n",
    "def parse_input():\n",
    "    data = input().split()\n",
    "    # 초기값 설정\n",
    "    result = float(data[0])\n",
    "    \n",
    "    # 두 번째부터 마지막 값까지 반복하여 수행\n",
    "    for i in range(1, len(data)):\n",
    "        if data[i] == '@':\n",
    "            result *= 3\n",
    "        elif data[i] == '%':\n",
    "            result += 5\n",
    "        elif data[i] == '#':\n",
    "            result -= 7    \n",
    "    return result\n",
    "\n",
    "# 테스트 케이스 개수 입력\n",
    "t = int(input())\n",
    "\n",
    "# 테스트 케이스 개수만큼 반복하여 결과 출력\n",
    "for _ in range(t):\n",
    "    result = parse_input()\n",
    "    # 소수점 둘째 자리까지 출력\n",
    "    print('%.2f' % result)\n"
   ]
  },
  {
   "cell_type": "code",
   "execution_count": 1,
   "id": "6dc6fdee",
   "metadata": {},
   "outputs": [
    {
     "name": "stdout",
     "output_type": "stream",
     "text": [
      "2\n",
      "3 ABC\n",
      "AAABBBCCC\n",
      "5 /HTP\n",
      "/////HHHHHTTTTTPPPPP\n"
     ]
    }
   ],
   "source": [
    "n = int(input())\n",
    "for i in range(n):\n",
    "    R, S = input().split()\n",
    "    P = \"\"\n",
    "\n",
    "    for string in S:\n",
    "        P += string * int(R)\n",
    "\n",
    "    print(P)"
   ]
  },
  {
   "cell_type": "code",
   "execution_count": 7,
   "id": "15b358b6",
   "metadata": {},
   "outputs": [
    {
     "name": "stdout",
     "output_type": "stream",
     "text": [
      "10\n",
      "+\n",
      "1000\n",
      "Result: 1010\n"
     ]
    }
   ],
   "source": [
    "def calculate(a, n, b):\n",
    "    if n == '+':\n",
    "        return a + b\n",
    "    elif n == '*':\n",
    "        return a * b\n",
    "    else:\n",
    "        print(\"+와 *만 가능합니다.\")\n",
    "\n",
    "a = int(input())\n",
    "n = input()\n",
    "b = int(input())\n",
    "\n",
    "result = calculate(a, n, b)\n",
    "print(result)"
   ]
  },
  {
   "cell_type": "code",
   "execution_count": 11,
   "id": "be8dce7f",
   "metadata": {},
   "outputs": [
    {
     "data": {
      "text/plain": [
       "'A'"
      ]
     },
     "execution_count": 11,
     "metadata": {},
     "output_type": "execute_result"
    }
   ],
   "source": [
    "def grade(n):\n",
    "    if n >= 90:\n",
    "        grade = \"A\"\n",
    "    elif n >= 80:\n",
    "        grade = \"B\"\n",
    "    elif n >= 70:\n",
    "        grade = \"C\"\n",
    "    elif n >= 60:\n",
    "        grade = \"D\"\n",
    "    else:\n",
    "        grade = \"F\"\n",
    "    return grade\n",
    "    if n < 0 or n > 100:\n",
    "        return \"유효한 점수를 입력하세요.\"\n",
    "\n",
    "grade(100)"
   ]
  },
  {
   "cell_type": "code",
   "execution_count": 22,
   "id": "cc0b32a3",
   "metadata": {},
   "outputs": [
    {
     "name": "stdout",
     "output_type": "stream",
     "text": [
      "20 10 30\n",
      "20\n"
     ]
    }
   ],
   "source": [
    "A, B, C = map(int,input().split())\n",
    "num = [A, B, C]\n",
    "result = sorted(num)\n",
    "print(result[1])"
   ]
  },
  {
   "cell_type": "code",
   "execution_count": 3,
   "id": "343539fa",
   "metadata": {},
   "outputs": [
    {
     "name": "stdout",
     "output_type": "stream",
     "text": [
      "6\n",
      "2\n",
      "3\n"
     ]
    }
   ],
   "source": [
    "num = int(input())\n",
    "while num > 1:\n",
    "    if num % 2 == 0:    \n",
    "        print(2)\n",
    "        num /= 2\n",
    "    if num % 2 == 1:\n",
    "        print(3)\n",
    "        num /= 3"
   ]
  },
  {
   "cell_type": "code",
   "execution_count": 13,
   "id": "36146b07",
   "metadata": {},
   "outputs": [
    {
     "name": "stdout",
     "output_type": "stream",
     "text": [
      "200\n",
      "19\n"
     ]
    }
   ],
   "source": [
    "S = int(input())\n",
    "\n",
    "sum = 0\n",
    "for N in range(1,S):\n",
    "    sum += N\n",
    "    if sum > S:\n",
    "        print(N-1)\n",
    "        break"
   ]
  },
  {
   "cell_type": "code",
   "execution_count": 20,
   "id": "6b470f2f",
   "metadata": {},
   "outputs": [
    {
     "name": "stdout",
     "output_type": "stream",
     "text": [
      "1900\n",
      "0\n"
     ]
    }
   ],
   "source": [
    "year = int(input())\n",
    "if year < 1 and year > 4000:\n",
    "    print(\"유효한 연도를 입력하세요.\")\n",
    "elif year%4 == 0 and (year%100 != 0 or year%400 ==0):\n",
    "    print(1)\n",
    "else:\n",
    "    print(0)"
   ]
  },
  {
   "cell_type": "code",
   "execution_count": 31,
   "id": "9b7ae6b9",
   "metadata": {},
   "outputs": [
    {
     "name": "stdout",
     "output_type": "stream",
     "text": [
      "원섭: 20\n",
      "세희: 40\n",
      "상근: 60\n",
      "숭: 80\n",
      "강수: 100\n",
      "64.0\n"
     ]
    }
   ],
   "source": [
    "s1 = int(input(\"원섭: \"))\n",
    "s2 = int(input(\"세희: \"))\n",
    "s3 = int(input(\"상근: \"))\n",
    "s4 = int(input(\"숭: \"))\n",
    "s5 = int(input(\"강수: \"))\n",
    "\n",
    "if s1 < 40:\n",
    "    s1 = 40\n",
    "if s2 < 40:\n",
    "    s2 = 40\n",
    "if s3 < 40:\n",
    "    s3 = 40\n",
    "if s4 < 40:\n",
    "    s4 = 40\n",
    "if s5 < 40:\n",
    "    s5 = 40\n",
    "avg_score = (s1+s2+s3+s4+s5)/5\n",
    "print (avg_score)"
   ]
  },
  {
   "cell_type": "code",
   "execution_count": 17,
   "id": "404c9e32",
   "metadata": {},
   "outputs": [
    {
     "name": "stdout",
     "output_type": "stream",
     "text": [
      "[2, 1, 2]\n",
      "1200원\n"
     ]
    }
   ],
   "source": [
    "import random\n",
    "\n",
    "a = random.randint(1, 6)\n",
    "b = random.randint(1, 6)\n",
    "c = random.randint(1, 6)\n",
    "print([a,b,c])\n",
    "\n",
    "if a == b == c:\n",
    "    print(f\"{10000 + a*1000}원\")\n",
    "elif a == b != c:\n",
    "    print(f\"{1000 + a*100}원\")\n",
    "elif a == c != b:    \n",
    "    print(f\"{1000 + a*100}원\")\n",
    "elif b == c != a:    \n",
    "    print(f\"{1000 + b*100}원\")\n",
    "else:\n",
    "    max_num = max(a,b,c)\n",
    "    print(f\"{max_num * 100}원\")"
   ]
  },
  {
   "cell_type": "code",
   "execution_count": 4,
   "id": "b7270e90",
   "metadata": {},
   "outputs": [
    {
     "name": "stdout",
     "output_type": "stream",
     "text": [
      "0 0\n"
     ]
    },
    {
     "ename": "ValueError",
     "evalue": "invalid literal for int() with base 10: ' '",
     "output_type": "error",
     "traceback": [
      "\u001b[1;31m---------------------------------------------------------------------------\u001b[0m",
      "\u001b[1;31mValueError\u001b[0m                                Traceback (most recent call last)",
      "Cell \u001b[1;32mIn[4], line 1\u001b[0m\n\u001b[1;32m----> 1\u001b[0m num1,num2 \u001b[38;5;241m=\u001b[39m \u001b[38;5;28mmap\u001b[39m(\u001b[38;5;28mint\u001b[39m,\u001b[38;5;28minput\u001b[39m())\n\u001b[0;32m      2\u001b[0m \u001b[38;5;28;01mif\u001b[39;00m num1 \u001b[38;5;241m>\u001b[39m num2:\n\u001b[0;32m      3\u001b[0m     \u001b[38;5;28mprint\u001b[39m(\u001b[38;5;124m\"\u001b[39m\u001b[38;5;124mYes\u001b[39m\u001b[38;5;124m\"\u001b[39m)\n",
      "\u001b[1;31mValueError\u001b[0m: invalid literal for int() with base 10: ' '"
     ]
    }
   ],
   "source": [
    "# num1,num2 = map(int,input())\n",
    "# if num1 > num2:\n",
    "#     print(\"Yes\")\n",
    "# else:\n",
    "#     print(\"No\")\n",
    "# while(num1 == 0 and num2 == 0):\n",
    "#     break"
   ]
  },
  {
   "cell_type": "code",
   "execution_count": null,
   "id": "e26eda1c",
   "metadata": {},
   "outputs": [],
   "source": []
  }
 ],
 "metadata": {
  "kernelspec": {
   "display_name": "Python 3 (ipykernel)",
   "language": "python",
   "name": "python3"
  },
  "language_info": {
   "codemirror_mode": {
    "name": "ipython",
    "version": 3
   },
   "file_extension": ".py",
   "mimetype": "text/x-python",
   "name": "python",
   "nbconvert_exporter": "python",
   "pygments_lexer": "ipython3",
   "version": "3.10.9"
  }
 },
 "nbformat": 4,
 "nbformat_minor": 5
}
