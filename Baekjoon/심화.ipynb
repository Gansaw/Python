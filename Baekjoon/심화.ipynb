{
 "cells": [
  {
   "cell_type": "code",
   "execution_count": 23,
   "id": "b859e996",
   "metadata": {},
   "outputs": [
    {
     "name": "stdout",
     "output_type": "stream",
     "text": [
      "5\n",
      "    *\n",
      "   ***\n",
      "  *****\n",
      " *******\n",
      "*********\n",
      " *******\n",
      "  *****\n",
      "   ***\n",
      "    *\n"
     ]
    }
   ],
   "source": [
    "# 2444 - 별 찍기\n",
    "\n",
    "N = int(input()) \n",
    "\n",
    "\n",
    "for i in range(N):\n",
    "    print(\" \" * (N - i - 1), end=\"\")\n",
    "    print(\"*\" * (2*i + 1))\n",
    "\n",
    "for j in range(N-2, -1, -1):\n",
    "    print(\" \" * (N - j - 1), end=\"\")\n",
    "    print(\"*\" * (2*j + 1))"
   ]
  },
  {
   "cell_type": "code",
   "execution_count": 24,
   "id": "25e0aeb1",
   "metadata": {},
   "outputs": [
    {
     "ename": "IndentationError",
     "evalue": "expected an indented block after function definition on line 3 (3679750772.py, line 5)",
     "output_type": "error",
     "traceback": [
      "\u001b[1;36m  Cell \u001b[1;32mIn[24], line 5\u001b[1;36m\u001b[0m\n\u001b[1;33m    def grade(score):\u001b[0m\n\u001b[1;37m    ^\u001b[0m\n\u001b[1;31mIndentationError\u001b[0m\u001b[1;31m:\u001b[0m expected an indented block after function definition on line 3\n"
     ]
    }
   ],
   "source": [
    "# 25206 - 졸업 학점\n",
    "\n",
    "\n",
    "def __init__(self, subject, score, grade):\n",
    "    self.subject = subject\n",
    "    self.score = score\n",
    "    self.grade = grade\n",
    "    \n",
    "def scoreResult(self, grade):\n",
    "    if grade == \"A+\":\n",
    "        return 4.5\n",
    "    elif grade == \"A0\":\n",
    "        return 4.0\n",
    "    elif grade == \"B+\":\n",
    "        return 3.5\n",
    "    elif grade == \"B0\":\n",
    "        return 3.0\n",
    "    elif grade == \"C+\":\n",
    "        return 2.5\n",
    "    elif grade == \"C0\":\n",
    "        return 2.0\n",
    "    elif grade == \"D+\":\n",
    "        return 1.5\n",
    "    elif grade == \"D0\":\n",
    "        return 1.0\n",
    "    elif grade == \"F\":\n",
    "        return 0\n",
    "    elif grade == \"P\":\n",
    "        return None\n",
    "\n",
    "def calculate(self):\n",
    "    return self.scoreResult(self.grade) * self.credit"
   ]
  },
  {
   "cell_type": "code",
   "execution_count": null,
   "id": "e5f40d5e",
   "metadata": {},
   "outputs": [],
   "source": []
  }
 ],
 "metadata": {
  "kernelspec": {
   "display_name": "Python 3 (ipykernel)",
   "language": "python",
   "name": "python3"
  },
  "language_info": {
   "codemirror_mode": {
    "name": "ipython",
    "version": 3
   },
   "file_extension": ".py",
   "mimetype": "text/x-python",
   "name": "python",
   "nbconvert_exporter": "python",
   "pygments_lexer": "ipython3",
   "version": "3.10.9"
  }
 },
 "nbformat": 4,
 "nbformat_minor": 5
}
