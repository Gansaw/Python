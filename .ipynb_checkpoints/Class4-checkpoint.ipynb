{
 "cells": [
  {
   "cell_type": "code",
   "execution_count": 16,
   "id": "271c2091",
   "metadata": {},
   "outputs": [
    {
     "name": "stdout",
     "output_type": "stream",
     "text": [
      "Your word: Buffa\n",
      "lo\n"
     ]
    }
   ],
   "source": [
    "s = \"Your word: Buffalo\"\n",
    "index_a = s.find('a')\n",
    "\n",
    "if index_a != -1:\n",
    "    print(s[:index_a + 1])\n",
    "    print(s[index_a+1:])\n",
    "else:\n",
    "    print(s)"
   ]
  },
  {
   "cell_type": "code",
   "execution_count": 25,
   "id": "ad8314af",
   "metadata": {},
   "outputs": [
    {
     "name": "stdout",
     "output_type": "stream",
     "text": [
      "13501\n"
     ]
    }
   ],
   "source": [
    "total = 0\n",
    "\n",
    "for num in range(1, 1001):\n",
    "    digits_sum = 0\n",
    "    for digit in str(num):\n",
    "        digits_sum += int(digit)\n",
    "    total += digits_sum\n",
    "print(total)"
   ]
  },
  {
   "cell_type": "code",
   "execution_count": 28,
   "id": "8228d645",
   "metadata": {},
   "outputs": [
    {
     "name": "stdout",
     "output_type": "stream",
     "text": [
      "[2, 4, 6, 8, 10]\n",
      "[2, 3, 4, 5, 6]\n"
     ]
    }
   ],
   "source": [
    "even_numbers = [num for num in range(1,11) if num%2 ==0]\n",
    "print(even_numbers)\n",
    "\n",
    "original_list = [1,2,3,4,5]\n",
    "new_list = [num + 1 for num in original_list]\n",
    "print(new_list)"
   ]
  },
  {
   "cell_type": "code",
   "execution_count": 30,
   "id": "31dde965",
   "metadata": {},
   "outputs": [
    {
     "name": "stdout",
     "output_type": "stream",
     "text": [
      "[5, 6, 6, 6]\n",
      "['APPLE', 'BANANA', 'ORANGE', 'GRAPE', 'WATERMELON']\n"
     ]
    }
   ],
   "source": [
    "words = ['apple', 'banana', 'cherry', 'durian']\n",
    "word_lengths = [len(word) for word in words]\n",
    "print(word_lengths)  # [5, 6, 6, 6]\n",
    "\n",
    "words = [\"apple\", \"banana\", \"orange\", \"grape\", \"watermelon\"]\n",
    "result = [word.upper() for word in words if len(word) >= 5]\n",
    "print(result)  # ['BANANA', 'ORANGE', 'WATERMELON']\n"
   ]
  },
  {
   "cell_type": "code",
   "execution_count": 31,
   "id": "ab1d7b2b",
   "metadata": {},
   "outputs": [
    {
     "name": "stdout",
     "output_type": "stream",
     "text": [
      "[1, 2, 3, 4, 5, 6]\n",
      "[2, 4, 6, 8]\n"
     ]
    }
   ],
   "source": [
    "original_list = [[1, 2], [3, 4], [5, 6]]\n",
    "new_list = [num for sublist in original_list for num in sublist]\n",
    "print(new_list)  # [1, 2, 3, 4, 5, 6]\n",
    "\n",
    "matrix = [[1, 2, 3], [4, 5, 6], [7, 8, 9]]\n",
    "result = [num for row in matrix for num in row if num % 2 == 0]\n",
    "print(result)  # [2, 4, 6, 8]\n"
   ]
  },
  {
   "cell_type": "code",
   "execution_count": 33,
   "id": "11549795",
   "metadata": {},
   "outputs": [
    {
     "name": "stdout",
     "output_type": "stream",
     "text": [
      "apple\n",
      "banana\n",
      "cherry\n"
     ]
    }
   ],
   "source": [
    "# 리스트 인덱싱 예시\n",
    "fruits = [\"apple\", \"banana\", \"cherry\"]\n",
    "print(fruits[0])  # \"apple\" 출력\n",
    "print(fruits[1])  # \"banana\" 출력\n",
    "print(fruits[-1])  # \"cherry\" 출력\n"
   ]
  },
  {
   "cell_type": "code",
   "execution_count": 38,
   "id": "097948c9",
   "metadata": {},
   "outputs": [
    {
     "name": "stdout",
     "output_type": "stream",
     "text": [
      "[1, 2, 3]\n",
      "[4, 5, 6]\n",
      "[7, 8, 9]\n",
      "2\n",
      "6\n"
     ]
    }
   ],
   "source": [
    "matrix = [\n",
    "    [1, 2, 3],\n",
    "    [4, 5, 6],\n",
    "    [7, 8, 9]\n",
    "]\n",
    "\n",
    "print(matrix[0])  # [1, 2, 3] 출력\n",
    "print(matrix[1])  # [4, 5, 6] 출력\n",
    "print(matrix[2])  # [7, 8, 9] 출력\n",
    "print(matrix[0][1])  # 2 출력\n",
    "print(matrix[1][2])  # 6 출력"
   ]
  },
  {
   "cell_type": "code",
   "execution_count": 39,
   "id": "b14e6440",
   "metadata": {},
   "outputs": [
    {
     "name": "stdout",
     "output_type": "stream",
     "text": [
      "[2, 3, 4]\n",
      "[1, 2, 3]\n",
      "[3, 4, 5]\n",
      "[1, 3, 5]\n"
     ]
    }
   ],
   "source": [
    "my_list = [1, 2, 3, 4, 5]\n",
    "print(my_list[1:4])   # [2, 3, 4]\n",
    "print(my_list[:3])    # [1, 2, 3]\n",
    "print(my_list[2:])    # [3, 4, 5]\n",
    "print(my_list[::2])   # [1, 3, 5]\n"
   ]
  },
  {
   "cell_type": "code",
   "execution_count": 40,
   "id": "05487e35",
   "metadata": {},
   "outputs": [
    {
     "name": "stdout",
     "output_type": "stream",
     "text": [
      "[3, 4, 5]\n",
      "[1, 2, 3]\n"
     ]
    }
   ],
   "source": [
    "my_list = [1, 2, 3, 4, 5]\n",
    "print(my_list[-3:])   # [3, 4, 5]\n",
    "print(my_list[:-2])   # [1, 2, 3]\n"
   ]
  },
  {
   "cell_type": "code",
   "execution_count": 41,
   "id": "7fa9679c",
   "metadata": {},
   "outputs": [
    {
     "name": "stdout",
     "output_type": "stream",
     "text": [
      "[1, 2, 3, 4, 5, 6]\n",
      "[1, 2, 3, 4, 5, 6]\n"
     ]
    }
   ],
   "source": [
    "list1 = [1, 2, 3]\n",
    "list2 = [4, 5, 6]\n",
    "list3 = list1 + list2\n",
    "print(list3) # 출력 결과: [1, 2, 3, 4, 5, 6]\n",
    "\n",
    "list1 = [1, 2, 3]\n",
    "list2 = [4, 5, 6]\n",
    "list1.extend(list2)\n",
    "list3 = list1\n",
    "print(list3) # 출력 결과: [1, 2, 3, 4, 5, 6]\n"
   ]
  },
  {
   "cell_type": "code",
   "execution_count": 42,
   "id": "6ac96a31",
   "metadata": {},
   "outputs": [
    {
     "name": "stdout",
     "output_type": "stream",
     "text": [
      "[1, 2, 5, 4]\n",
      "[1, 5, 6, 4]\n"
     ]
    }
   ],
   "source": [
    "my_list = [1, 2, 3, 4]\n",
    "my_list[2] = 5\n",
    "print(my_list) # 출력 결과: [1, 2, 5, 4]\n",
    "\n",
    "my_list = [1, 2, 3, 4]\n",
    "my_list[1:3] = [5, 6]\n",
    "print(my_list) # 출력 결과: [1, 5, 6, 4]\n"
   ]
  },
  {
   "cell_type": "code",
   "execution_count": null,
   "id": "653f502f",
   "metadata": {},
   "outputs": [],
   "source": [
    "my_list = [1, 2, 3, 4]\n",
    "my_list.append(5)\n",
    "print(my_list) # 출력 결과: [1, 2, 3, 4, 5]\n",
    "\n",
    "my_list = [1, 2, 3, 4]\n",
    "my_list.insert(2, 5)\n",
    "print(my_list) # 출력 결과: [1, 2, 5, 3, 4]\n"
   ]
  },
  {
   "cell_type": "code",
   "execution_count": null,
   "id": "42149853",
   "metadata": {},
   "outputs": [],
   "source": [
    "my_list = [1, 2, 3, 4, 5]\n",
    "my_list[1:4] = []\n",
    "print(my_list) # 출력 결과: [1, 5]\n",
    "\n",
    "my_list = [1, 2, 3, 4]\n",
    "del my_list[2]\n",
    "print(my_list) # 출력 결과: [1, 2, 4]\n"
   ]
  },
  {
   "cell_type": "code",
   "execution_count": null,
   "id": "4ec8f3fd",
   "metadata": {},
   "outputs": [],
   "source": [
    "my_list = [1, 2, 3, 4]\n",
    "my_list.remove(3)\n",
    "print(my_list) # 출력 결과: [1, 2, 4]\n",
    "\n",
    "my_list = [1, 2, 3, 4]\n",
    "my_list.pop()\n",
    "print(my_list) # 출력 결과: [1, 2, 3]\n",
    "\n",
    "my_list = [1, 2, 3, 4, 5]\n",
    "removed_item = my_list.pop(2)\n",
    "print(my_list) # 출력 결과: [1, 2, 4, 5]\n",
    "print(removed_item) # 출력 결과: 3\n"
   ]
  },
  {
   "cell_type": "code",
   "execution_count": null,
   "id": "7e32dee0",
   "metadata": {},
   "outputs": [],
   "source": [
    "my_list = [1, 2, 3, 4, 5]\n",
    "my_list.clear()\n",
    "print(my_list) # 출력 결과: []\n"
   ]
  },
  {
   "cell_type": "code",
   "execution_count": 45,
   "id": "5f4b3c86",
   "metadata": {},
   "outputs": [
    {
     "name": "stdout",
     "output_type": "stream",
     "text": [
      "[1, 2, 3]\n",
      "[3, 2, 1]\n",
      "[1, 2, 3]\n",
      "[3, 2, 1]\n",
      "[1, 2, 3]\n",
      "[3, 2, 1]\n",
      "<list_reverseiterator object at 0x00000260D4259CF0>\n"
     ]
    }
   ],
   "source": [
    "a = [3, 2, 1]\n",
    "a.sort()\n",
    "print(a)  # 출력: [1, 2, 3]\n",
    "\n",
    "a = [3, 2, 1]\n",
    "b = sorted(a)\n",
    "print(a)  # 출력: [3, 2, 1]\n",
    "print(b)  # 출력: [1, 2, 3]\n",
    "\n",
    "a = [1, 2, 3]\n",
    "a.reverse()\n",
    "print(a)  # 출력: [3, 2, 1]\n",
    "\n",
    "a = [1, 2, 3]\n",
    "b = reversed(a)\n",
    "print(a)  # 출력: [1, 2, 3]]\n",
    "# list로 형변환해야 결과가 출력됨\n",
    "print(list(b))  # 출력: [3, 2, 1]\n",
    "print(b)  # 출력: [3, 2, 1]"
   ]
  },
  {
   "cell_type": "code",
   "execution_count": 46,
   "id": "5fadba62",
   "metadata": {},
   "outputs": [
    {
     "name": "stdout",
     "output_type": "stream",
     "text": [
      "1\n",
      "2\n",
      "3\n"
     ]
    }
   ],
   "source": [
    "# 이터러블 객체를 만들고\n",
    "my_list = [1, 2, 3, 4, 5]\n",
    "\n",
    "# 이터러블 객체로 이터레이터 생성\n",
    "my_iter = iter(my_list)\n",
    "\n",
    "# 이터레이터를 사용하여 값을 출력\n",
    "print(next(my_iter))  # 1\n",
    "print(next(my_iter))  # 2\n",
    "print(next(my_iter))  # 3"
   ]
  },
  {
   "cell_type": "code",
   "execution_count": 60,
   "id": "55e57ed7",
   "metadata": {},
   "outputs": [
    {
     "name": "stdout",
     "output_type": "stream",
     "text": [
      "['철수', '길동', '영희', '기철', '기영']\n",
      "['철수', '길동', '미진', '영희', '기철', '기영']\n",
      "['철수', '길동', '미진', '영희', '기철', '기영', '희환']\n"
     ]
    }
   ],
   "source": [
    "f = ['철수', '영희', '기철', '기영']\n",
    "\n",
    "f.insert(1,'길동')\n",
    "print(f)\n",
    "f.insert(2, '미진')\n",
    "print(f)\n",
    "f.append('희환')\n",
    "print(f)"
   ]
  },
  {
   "cell_type": "code",
   "execution_count": 80,
   "id": "ee41808b",
   "metadata": {},
   "outputs": [
    {
     "name": "stdout",
     "output_type": "stream",
     "text": [
      "[1, 17, 3, 4, 5]\n",
      "[1, 17, 3, 4, 5, 4, 5, 6]\n",
      "[17, 3, 4, 5]\n",
      "[3, 4, 5, 17]\n",
      "[3, 4, 5, 25, 17]\n"
     ]
    }
   ],
   "source": [
    "list = [1,2,3,4,5]\n",
    "list[1] = 17\n",
    "print(list)\n",
    "list2 = [4,5,6]\n",
    "print(list + list2)\n",
    "remove = list.pop(0)\n",
    "print(list)\n",
    "list.sort()\n",
    "print(list)\n",
    "list.insert(3, 25)\n",
    "print(list)\n"
   ]
  },
  {
   "cell_type": "code",
   "execution_count": 89,
   "id": "71565e7e",
   "metadata": {},
   "outputs": [
    {
     "name": "stdout",
     "output_type": "stream",
     "text": [
      "[0, 1, 2, 3, 4, 5, 6, 7, 8, 9, 10, 11, 12, 13, 14, 15, 16, 17, 18, 19, 20, 21, 22, 23, 24, 25, 26, 27, 28, 29, 30, 31, 32, 33, 34, 35, 36, 37, 38, 39, 40, 41, 42, 43, 44, 45, 46, 47, 48, 49]\n",
      "[1, 4, 9, 16, 25, 36, 49, 64, 81, 100, 121, 144, 169, 196, 225, 256, 289, 324, 361, 400, 441, 484, 529, 576, 625, 676, 729, 784, 841, 900, 961, 1024, 1089, 1156, 1225, 1296, 1369, 1444, 1521, 1600, 1681, 1764, 1849, 1936, 2025, 2116, 2209, 2304, 2401, 2500]\n"
     ]
    }
   ],
   "source": [
    "list1 = [list1 for list1 in range(0,50)]\n",
    "print(list1)\n",
    "list2 = [list2**2 for list2 in range(1,51)]\n",
    "print(list2)"
   ]
  },
  {
   "cell_type": "code",
   "execution_count": 104,
   "id": "0e9f4d93",
   "metadata": {},
   "outputs": [
    {
     "name": "stdout",
     "output_type": "stream",
     "text": [
      "[5, 7, 9]\n"
     ]
    }
   ],
   "source": [
    "L = [1,2,3]\n",
    "M = [4,5,6]\n",
    "N = []\n",
    "for i in range(len(L)):\n",
    "    N.append(L[i]+M[i])\n",
    "print(N)\n",
    "\n",
    "\n",
    "# N = [L[0]+M[0],L[1]+M[1],L[2]+M[2]]\n",
    "# print(N)"
   ]
  },
  {
   "cell_type": "code",
   "execution_count": 106,
   "id": "ca8e2845",
   "metadata": {},
   "outputs": [
    {
     "name": "stdout",
     "output_type": "stream",
     "text": [
      "숫자 5개를 입력하세요 (구분자 : 띄어쓰기): 1 3 4 5 8 7 6 10\n",
      "1+3+4+5+8+7+6+10\n"
     ]
    }
   ],
   "source": [
    "list = input(\"숫자 5개를 입력하세요 (구분자 : 띄어쓰기): \").split()\n",
    "result = \"+\".join(list)\n",
    "print(result)"
   ]
  },
  {
   "cell_type": "code",
   "execution_count": 108,
   "id": "a0156685",
   "metadata": {},
   "outputs": [
    {
     "name": "stdout",
     "output_type": "stream",
     "text": [
      "2 1\n"
     ]
    }
   ],
   "source": [
    "x = 1\n",
    "y = 2\n",
    "x,y = y,x\n",
    "print(x,y)"
   ]
  },
  {
   "cell_type": "code",
   "execution_count": 112,
   "id": "4336430b",
   "metadata": {},
   "outputs": [
    {
     "name": "stdout",
     "output_type": "stream",
     "text": [
      "{'name': 'John', 'age': 25, 3: 'three', (1, 2): 'tuple'}\n",
      "Alice\n",
      "Alice\n"
     ]
    }
   ],
   "source": [
    "# 빈 딕셔너리 생성\n",
    "empty_dict = {}\n",
    "\n",
    "# 문자열과 숫자로 이루어진 딕셔너리 생성\n",
    "my_dict = {'apple': 1, 'banana': 2, 'cherry': 3}\n",
    "\n",
    "# 다양한 타입으로 이루어진 딕셔너리 생성\n",
    "mixed_dict = {'name': 'John', 'age': 25, 3: 'three', (1, 2): 'tuple'}\n",
    "\n",
    "print(mixed_dict)\n",
    "\n",
    "my_dict = {'name': 'Alice', 'age': 25, 'city': 'New York'}\n",
    "print(my_dict['name'])  # 'Alice'\n",
    "# print(my_dict['phone'])  # KeyError\n",
    "\n",
    "my_dict = {'name': 'Alice', 'age': 25, 'city': 'New York'}\n",
    "if 'name' in my_dict:\n",
    "    print(my_dict['name'])  # 'Alice'\n",
    "if 'phone' in my_dict:\n",
    "    print(my_dict['phone'])  # 실행되지 않음\n"
   ]
  },
  {
   "cell_type": "code",
   "execution_count": null,
   "id": "b3844adc",
   "metadata": {},
   "outputs": [],
   "source": [
    "# 딕셔너리 생성\n",
    "person = {\"name\": \"Alice\", \"age\": 25, \"gender\": \"female\"}\n",
    "\n",
    "# \"name\" 키의 값을 \"Bob\"으로 수정\n",
    "person[\"name\"] = \"Bob\"\n",
    "\n",
    "# 딕셔너리 출력\n",
    "print(person)  # {\"name\": \"Bob\", \"age\": 25, \"gender\": \"female\"}\n"
   ]
  },
  {
   "cell_type": "code",
   "execution_count": 113,
   "id": "0f5079a2",
   "metadata": {},
   "outputs": [
    {
     "name": "stdout",
     "output_type": "stream",
     "text": [
      "{'a': 1, 'b': 2, 'c': 3}\n",
      "{'a': 1, 'b': 2, 'c': 3, 'd': 4}\n"
     ]
    }
   ],
   "source": [
    "my_dict = {'a': 1, 'b': 2}\n",
    "my_dict['c'] = 3\n",
    "print(my_dict)  # {'a': 1, 'b': 2, 'c': 3}\n",
    "\n",
    "my_dict = {'a': 1, 'b': 2, 'c' : 3}\n",
    "my_dict.update({'c': 3, 'd': 4})\n",
    "print(my_dict)  # {'a': 1, 'b': 2, 'c': 3, 'd': 4}\n"
   ]
  },
  {
   "cell_type": "code",
   "execution_count": 116,
   "id": "c3609105",
   "metadata": {},
   "outputs": [
    {
     "name": "stdout",
     "output_type": "stream",
     "text": [
      "{'apple': 2, 'banana': 3, 'grape': 4}\n",
      "orange 키가 존재하지 않습니다.\n"
     ]
    }
   ],
   "source": [
    "fruits = {'apple': 2, 'banana': 3, 'orange': 1, 'grape': 4}\n",
    "del fruits['orange']\n",
    "print(fruits)  # {'apple': 2, 'banana': 3, 'grape': 4}\n",
    "\n",
    "if 'orange' in fruits:\n",
    "    del fruits['orange']\n",
    "else:\n",
    "    print('orange 키가 존재하지 않습니다.')"
   ]
  },
  {
   "cell_type": "code",
   "execution_count": 3,
   "id": "31751329",
   "metadata": {},
   "outputs": [
    {
     "name": "stdout",
     "output_type": "stream",
     "text": [
      "몇 월인가요? :Jan\n",
      "['April', 'August', 'December', 'February', 'January', 'July', 'June', 'March', 'May', 'November', 'October', 'September']\n",
      "January March May July August October December [('February', 28), ('April', 30), ('June', 30), ('November', 30), ('September', 30), ('August', 31), ('December', 31), ('January', 31), ('July', 31), ('March', 31), ('May', 31), ('October', 31)]\n",
      "31\n"
     ]
    }
   ],
   "source": [
    "days = {'January':31, 'February':28, 'March':31, 'April':30,'May':31, 'June':30,\n",
    "        'July':31, 'August':31,'September':30, 'October':31, 'November':30, 'December':31}\n",
    "month = input(\"몇 월인가요? :\")\n",
    "\n",
    "# # 1번\n",
    "# days_get = days[month]\n",
    "# print(days_get)\n",
    "\n",
    "# 2번\n",
    "days_keys = list(days.keys())\n",
    "print(sorted(days_keys))\n",
    "\n",
    "# 3번\n",
    "for mon in days:\n",
    "    if days[mon] == 31:\n",
    "        print(mon, end =\" \")\n",
    "\n",
    "# 4번\n",
    "days_items = list(days.items())\n",
    "t_days = [(days, month) for (month, days) in days_items]\n",
    "t_days.sort()\n",
    "t_days = [(month, days) for (days, month) in t_days]\n",
    "print(t_days)\n",
    "\n",
    "\n",
    "# 5번\n",
    "for month in days:\n",
    "    if month[:3] == month.title():\n",
    "        print(days[month])"
   ]
  },
  {
   "cell_type": "code",
   "execution_count": 3,
   "id": "8eb6d977",
   "metadata": {},
   "outputs": [
    {
     "name": "stdout",
     "output_type": "stream",
     "text": [
      "Todd\n",
      "Helga\n",
      "Princess\n",
      "LJ\n",
      "\n",
      "Princess\n",
      "\n",
      "사용자 이름을 입력하세요: dfa\n",
      "이름이 없습니다.\n",
      "이름이 없습니다.\n",
      "이름이 없습니다.\n",
      "이름이 없습니다.\n"
     ]
    }
   ],
   "source": [
    "d=[{'name':'Todd', 'phone':'555-1414', 'email':'todd@mail.net'},{'name':'Helga', 'phone':'555-1618', 'email':'helga@mail.net'},\n",
    "   {'name':'Princess', 'phone':'555-3141', 'email':''},{'name':'LJ', 'phone':'555-2718', 'email':'lj@mail.net'}]\n",
    "\n",
    "# 1번\n",
    "for d_phone in d:\n",
    "    if len(d_phone['phone']) == 8:\n",
    "        print(d_phone['name'])\n",
    "print()\n",
    "# 2번\n",
    "for d_email in d:\n",
    "    if d_email['email'] == \"\":\n",
    "        print(d_email['name'])        \n",
    "print()\n",
    "\n",
    "# 3번\n",
    "d_name = input(\"사용자 이름을 입력하세요: \")\n",
    "isTrue = False\n",
    "for d_info in d:\n",
    "    if d_info['name'] == d_name:\n",
    "        d_number = d_info['phone']\n",
    "        d_mail = d_info['email']\n",
    "        print(f\"전화번호: {d_number}, 이메일: {d_mail}\")\n",
    "        isTrue = True\n",
    "        break\n",
    "        \n",
    "if not isTrue:\n",
    "    print(\"이름이 없습니다.\")    "
   ]
  },
  {
   "cell_type": "code",
   "execution_count": 28,
   "id": "9feb12db",
   "metadata": {},
   "outputs": [
    {
     "name": "stdout",
     "output_type": "stream",
     "text": [
      "{39, 7, 42, 12, 21, 27}\n",
      "[7, 12, 21, 27, 39, 42]\n"
     ]
    }
   ],
   "source": [
    "import random\n",
    "\n",
    "pick = set()\n",
    "\n",
    "while(len(pick) < 6):\n",
    "    rand = random.randint(1,45)\n",
    "    pick.add(rand)\n",
    "\n",
    "print(pick)\n",
    "print(sorted(pick))"
   ]
  },
  {
   "cell_type": "code",
   "execution_count": 33,
   "id": "081e440c",
   "metadata": {},
   "outputs": [
    {
     "name": "stdout",
     "output_type": "stream",
     "text": [
      "Average grades: \n",
      "Alice: 90.0\n",
      "Bob: 80.0\n",
      "Charlie: 95.0\n"
     ]
    }
   ],
   "source": [
    "d = {\"Alice\": [85, 90, 95],\"Bob\": [75, 80, 85],\"Charlie\": [95, 95, 95]}\n",
    "print(\"Average grades: \")\n",
    "for name, grade_list in d.items():\n",
    "    avg = sum(grade_list) / len(grade_list)\n",
    "    print(f\"{name}: {avg}\")"
   ]
  },
  {
   "cell_type": "code",
   "execution_count": 35,
   "id": "dac95baf",
   "metadata": {},
   "outputs": [
    {
     "name": "stdout",
     "output_type": "stream",
     "text": [
      "{1, 2, 3, 4, 5}\n",
      "15\n"
     ]
    }
   ],
   "source": [
    "d = [1,2,2,3,3,3,4,4,5]\n",
    "d_set = set(d)\n",
    "print(d_set)\n",
    "print(sum(d_set))"
   ]
  },
  {
   "cell_type": "code",
   "execution_count": 96,
   "id": "efed095a",
   "metadata": {},
   "outputs": [
    {
     "name": "stdout",
     "output_type": "stream",
     "text": [
      "문자열을 입력하세요.adsfkjaspgbonaspobgnopsnoadgsonsdgpo\n",
      "{'a': 4, 'd': 3, 's': 6, 'f': 1, 'k': 1, 'j': 1, 'p': 4, 'g': 4, 'b': 2, 'o': 6, 'n': 4}\n"
     ]
    }
   ],
   "source": [
    "text = input(\"문자열을 입력하세요.\")\n",
    "result = {}\n",
    "\n",
    "for char in text:\n",
    "    if char in result:\n",
    "        result[char] += 1\n",
    "    else:\n",
    "        result[char] = 1\n",
    "print(result)"
   ]
  },
  {
   "cell_type": "code",
   "execution_count": 100,
   "id": "54e36b35",
   "metadata": {},
   "outputs": [
    {
     "name": "stdout",
     "output_type": "stream",
     "text": [
      "리스트 A를 입력하세요1 2 3 7 4 9 8 \n",
      "리스트 B를 입력하세요58 12 96 1 3 5\n",
      "['1', '3']\n"
     ]
    }
   ],
   "source": [
    "# 띄워쓰기로 input 받기\n",
    "listA = input(\"리스트 A를 입력하세요\").split()\n",
    "listB = input(\"리스트 B를 입력하세요\").split()\n",
    "\n",
    "setA = set(listA)\n",
    "setB = set(listB)\n",
    "print(sorted(setA & setB))"
   ]
  },
  {
   "cell_type": "code",
   "execution_count": 108,
   "id": "12a5a7e7",
   "metadata": {},
   "outputs": [
    {
     "data": {
      "text/plain": [
       "55"
      ]
     },
     "execution_count": 108,
     "metadata": {},
     "output_type": "execute_result"
    }
   ],
   "source": [
    "def sum(n):\n",
    "    total = 0\n",
    "    for i in range(1, n+1):\n",
    "        total += i\n",
    "    return total\n",
    "sum(10)   "
   ]
  },
  {
   "cell_type": "code",
   "execution_count": 114,
   "id": "726614c8",
   "metadata": {},
   "outputs": [
    {
     "data": {
      "text/plain": [
       "21.98"
      ]
     },
     "execution_count": 114,
     "metadata": {},
     "output_type": "execute_result"
    }
   ],
   "source": [
    "def cir_area(r):\n",
    "    area = 2*3.14*r\n",
    "    return area\n",
    "cir_area(3.5)"
   ]
  },
  {
   "cell_type": "code",
   "execution_count": 113,
   "id": "26b4226d",
   "metadata": {},
   "outputs": [
    {
     "data": {
      "text/plain": [
       "38.465"
      ]
     },
     "execution_count": 113,
     "metadata": {},
     "output_type": "execute_result"
    }
   ],
   "source": [
    "def cir_cirm(r):\n",
    "    cirm = 3.14*r**2\n",
    "    return cirm\n",
    "cir_cirm(3.5)"
   ]
  },
  {
   "cell_type": "code",
   "execution_count": null,
   "id": "1a0c5be1",
   "metadata": {},
   "outputs": [],
   "source": [
    "def den(n):\n",
    "    for i in range(i, n+1):\n",
    "        if n % i == 0:\n",
    "            return den\n",
    "    "
   ]
  },
  {
   "cell_type": "code",
   "execution_count": 4,
   "id": "12cb84ea",
   "metadata": {},
   "outputs": [
    {
     "name": "stdout",
     "output_type": "stream",
     "text": [
      "Name: Alice\n",
      "Age: 25\n",
      "Gender: Female\n",
      "Name: Bob\n",
      "Age: 30\n",
      "Gender: Male\n"
     ]
    }
   ],
   "source": [
    "# 위치 인자와 키워드 인자 사용 예시\n",
    "def print_info(name, age, gender):\n",
    "    print(f\"Name: {name}\")\n",
    "    print(f\"Age: {age}\")\n",
    "    print(f\"Gender: {gender}\")\n",
    "\n",
    "# 위치 인자를 사용하여 함수 호출\n",
    "print_info(\"Alice\", 25, \"Female\")\n",
    "\n",
    "# 키워드 인자를 사용하여 함수 호출\n",
    "print_info(age=30, name=\"Bob\", gender=\"Male\")\n"
   ]
  },
  {
   "cell_type": "code",
   "execution_count": 4,
   "id": "2cd9aecb",
   "metadata": {},
   "outputs": [
    {
     "name": "stdout",
     "output_type": "stream",
     "text": [
      "[{'name': 'Bob', 'score': 90}, {'name': 'Alice', 'score': 80}, {'name': 'Charlie', 'score': 70}]\n"
     ]
    }
   ],
   "source": [
    "students = [\n",
    "    {'name': 'Alice', 'score': 80},\n",
    "    {'name': 'Bob', 'score': 90},\n",
    "    {'name': 'Charlie', 'score': 70},\n",
    "]\n",
    "\n",
    "# 점수(score)를 기준으로 학생 리스트 정렬\n",
    "sorted_students = sorted(students, key=lambda student: student['score'], reverse=True)\n",
    "print(sorted_students)\n",
    "# 출력 결과: [{'name': 'Bob', 'score': 90}, {'name': 'Alice', 'score': 80}, {'name': 'Charlie', 'score': 70}]\n"
   ]
  },
  {
   "cell_type": "code",
   "execution_count": 3,
   "id": "bffe018b",
   "metadata": {},
   "outputs": [],
   "source": [
    "def get_operator(operator):\n",
    "    if operator == '+':\n",
    "        return lambda a, b: a + b\n",
    "    elif operator == '-':\n",
    "        return lambda a, b: a - b\n",
    "    elif operator == '*':\n",
    "        return lambda a, b: a * b\n",
    "    elif operator == '/':\n",
    "        return lambda a, b: a / b\n",
    "\n",
    "# 함수의 반환값으로 람다 함수 사용\n",
    "add_func = get_operator('+')\n",
    "result1 = add_func(3, 4)  # 7\n",
    "\n",
    "multiply_func = get_operator('*')\n",
    "result2 = multiply_func(3, 4)  # 12"
   ]
  },
  {
   "cell_type": "code",
   "execution_count": 2,
   "id": "9b753190",
   "metadata": {},
   "outputs": [
    {
     "name": "stdout",
     "output_type": "stream",
     "text": [
      "****\n",
      "****\n"
     ]
    }
   ],
   "source": [
    "def func(m,n):\n",
    "    for i in range(m):\n",
    "        print(\"*\" * n)\n",
    "        \n",
    "func(2,4)"
   ]
  },
  {
   "cell_type": "code",
   "execution_count": 14,
   "id": "4d6e23bf",
   "metadata": {},
   "outputs": [
    {
     "data": {
      "text/plain": [
       "8"
      ]
     },
     "execution_count": 14,
     "metadata": {},
     "output_type": "execute_result"
    }
   ],
   "source": [
    "def func(n):\n",
    "    num = str(n)\n",
    "    digit_sum = 0\n",
    "    for digit in num:\n",
    "        digit_sum += int(digit)\n",
    "    return digit_sum\n",
    "\n",
    "func(2411)"
   ]
  },
  {
   "cell_type": "code",
   "execution_count": 18,
   "id": "83c41ba2",
   "metadata": {},
   "outputs": [
    {
     "data": {
      "text/plain": [
       "5050.0"
      ]
     },
     "execution_count": 18,
     "metadata": {},
     "output_type": "execute_result"
    }
   ],
   "source": [
    "def func(n):\n",
    "    if n == 1:\n",
    "        return 1\n",
    "    else:\n",
    "        return (1+n)*n/2\n",
    "func(100)"
   ]
  }
 ],
 "metadata": {
  "kernelspec": {
   "display_name": "Python 3 (ipykernel)",
   "language": "python",
   "name": "python3"
  },
  "language_info": {
   "codemirror_mode": {
    "name": "ipython",
    "version": 3
   },
   "file_extension": ".py",
   "mimetype": "text/x-python",
   "name": "python",
   "nbconvert_exporter": "python",
   "pygments_lexer": "ipython3",
   "version": "3.10.9"
  }
 },
 "nbformat": 4,
 "nbformat_minor": 5
}
