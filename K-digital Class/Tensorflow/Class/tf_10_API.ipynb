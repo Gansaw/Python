{
 "cells": [
  {
   "cell_type": "code",
   "execution_count": 1,
   "metadata": {},
   "outputs": [],
   "source": [
    "import tensorflow as tf\n",
    "import numpy as np"
   ]
  },
  {
   "cell_type": "code",
   "execution_count": 6,
   "metadata": {},
   "outputs": [],
   "source": [
    "A = np.array([[1,2,3,4],\n",
    "             [5,6,7,8]], dtype='float32')\n",
    "A = A.reshape(1,2,4,1)"
   ]
  },
  {
   "cell_type": "code",
   "execution_count": 3,
   "metadata": {},
   "outputs": [
    {
     "name": "stdout",
     "output_type": "stream",
     "text": [
      "Model: \"model\"\n",
      "__________________________________________________________________________________________________\n",
      " Layer (type)                Output Shape                 Param #   Connected to                  \n",
      "==================================================================================================\n",
      " input_1 (InputLayer)        [(None, 2, 4, 1)]            0         []                            \n",
      "                                                                                                  \n",
      " reshape (Reshape)           (None, 4, 2, 1)              0         ['input_1[0][0]']             \n",
      "                                                                                                  \n",
      " permute (Permute)           (None, 4, 2, 1)              0         ['input_1[0][0]']             \n",
      "                                                                                                  \n",
      "==================================================================================================\n",
      "Total params: 0 (0.00 Byte)\n",
      "Trainable params: 0 (0.00 Byte)\n",
      "Non-trainable params: 0 (0.00 Byte)\n",
      "__________________________________________________________________________________________________\n"
     ]
    }
   ],
   "source": [
    "x = tf.keras.Input(shape = A.shape[1:])\n",
    "y = tf.keras.layers.Reshape([4,2,1])(x)\n",
    "z = tf.keras.layers.Permute([2,1,3])(x)\n",
    "\n",
    "model = tf.keras.Model(inputs = x, outputs = [y,z])\n",
    "model.summary()"
   ]
  },
  {
   "cell_type": "code",
   "execution_count": 4,
   "metadata": {},
   "outputs": [
    {
     "name": "stdout",
     "output_type": "stream",
     "text": [
      "1/1 [==============================] - 0s 64ms/step\n",
      "A[0,:,:,0]=  [[1. 2. 3. 4.]\n",
      " [5. 6. 7. 8.]]\n",
      "output[0]=  [[1. 2.]\n",
      " [3. 4.]\n",
      " [5. 6.]\n",
      " [7. 8.]]\n",
      "output[1]=  [[1. 5.]\n",
      " [2. 6.]\n",
      " [3. 7.]\n",
      " [4. 8.]]\n"
     ]
    }
   ],
   "source": [
    "output = model.predict(A)\n",
    "print('A[0,:,:,0]= ', A[0,:,:,0])\n",
    "print('output[0]= ', output[0][0,:,:,0])\n",
    "print('output[1]= ', output[1][0,:,:,0])"
   ]
  },
  {
   "cell_type": "code",
   "execution_count": 8,
   "metadata": {},
   "outputs": [
    {
     "name": "stdout",
     "output_type": "stream",
     "text": [
      "Model: \"model_1\"\n",
      "__________________________________________________________________________________________________\n",
      " Layer (type)                Output Shape                 Param #   Connected to                  \n",
      "==================================================================================================\n",
      " input_4 (InputLayer)        [(None, 2, 4, 1)]            0         []                            \n",
      "                                                                                                  \n"
     ]
    },
    {
     "name": "stdout",
     "output_type": "stream",
     "text": [
      " reshape_3 (Reshape)         (None, 8, 1)                 0         ['input_4[0][0]']             \n",
      "                                                                                                  \n",
      " up_sampling2d_2 (UpSamplin  (None, 4, 8, 1)              0         ['input_4[0][0]']             \n",
      " g2D)                                                                                             \n",
      "                                                                                                  \n",
      " up_sampling1d_2 (UpSamplin  (None, 16, 1)                0         ['reshape_3[0][0]']           \n",
      " g1D)                                                                                             \n",
      "                                                                                                  \n",
      "==================================================================================================\n",
      "Total params: 0 (0.00 Byte)\n",
      "Trainable params: 0 (0.00 Byte)\n",
      "Non-trainable params: 0 (0.00 Byte)\n",
      "__________________________________________________________________________________________________\n"
     ]
    }
   ],
   "source": [
    "x = tf.keras.Input(shape = A.shape[1:])\n",
    "y = tf.keras.layers.UpSampling2D()(x)\n",
    "\n",
    "u = tf.keras.layers.Reshape([8,1])(x)\n",
    "z = tf.keras.layers.UpSampling1D()(u)\n",
    "\n",
    "model = tf.keras.Model(inputs = x, outputs = [y,z])\n",
    "model.summary()"
   ]
  },
  {
   "cell_type": "code",
   "execution_count": 10,
   "metadata": {},
   "outputs": [
    {
     "name": "stdout",
     "output_type": "stream",
     "text": [
      "1/1 [==============================] - 0s 18ms/step\n",
      "A[0,:,:,0]=  [[1. 2. 3. 4.]\n",
      " [5. 6. 7. 8.]]\n",
      "output[0]=  [[1. 1. 2. 2. 3. 3. 4. 4.]\n",
      " [1. 1. 2. 2. 3. 3. 4. 4.]\n",
      " [5. 5. 6. 6. 7. 7. 8. 8.]\n",
      " [5. 5. 6. 6. 7. 7. 8. 8.]]\n",
      "output[1]=  [1. 1. 2. 2. 3. 3. 4. 4. 5. 5. 6. 6. 7. 7. 8. 8.]\n"
     ]
    }
   ],
   "source": [
    "output = model.predict(A)\n",
    "print('A[0,:,:,0]= ', A[0,:,:,0])\n",
    "print('output[0]= ', output[0][0,:,:,0])\n",
    "print('output[1]= ', output[1][0,:,0])"
   ]
  },
  {
   "cell_type": "code",
   "execution_count": 3,
   "metadata": {},
   "outputs": [],
   "source": [
    "A = np.array([1,2,3,4,5]).astype('float32')\n",
    "B = np.array([1,2,3,4,5,6,7,8]).astype('float32')\n",
    "A = np.reshape(A, (1,-1,1))\n",
    "B = np.reshape(B, (1,-1,1))"
   ]
  },
  {
   "cell_type": "code",
   "execution_count": 6,
   "metadata": {},
   "outputs": [
    {
     "name": "stdout",
     "output_type": "stream",
     "text": [
      "model output shape:  [(None, 4, 1), (None, 4, 1), (None, 4, 1), (None, 4, 2), (None, 1, 1), (None, 4, 4)]\n"
     ]
    }
   ],
   "source": [
    "input_x = tf.keras.layers.Input(shape=A.shape[1:])\n",
    "input_y = tf.keras.layers.Input(shape=B.shape[1:])\n",
    "\n",
    "x = tf.keras.layers.MaxPool1D()(input_x)\n",
    "y = tf.keras.layers.MaxPool1D()(input_y)\n",
    "\n",
    "pad = y.shape[1] - x.shape[1]\n",
    "x = tf.keras.layers.ZeroPadding1D(padding=(0,pad))(x)\n",
    "\n",
    "out2 = tf.keras.layers.Add()([x,y])\n",
    "out3 = tf.keras.layers.Concatenate()([x,y])\n",
    "\n",
    "# 데이터 간의 유사도를 구할 때 많이 사용 (내적)\n",
    "out4 = tf.keras.layers.Dot(axes = [1,1])([x,y])\n",
    "\n",
    "out5 = tf.keras.layers.Dot(axes = -1)([x,y])\n",
    "\n",
    "out_list = [x, y, out2, out3, out4, out5]\n",
    "model = tf.keras.Model(inputs = [input_x, input_y], outputs = out_list)\n",
    "print(\"model output shape: \", model.output_shape)"
   ]
  },
  {
   "cell_type": "code",
   "execution_count": 7,
   "metadata": {},
   "outputs": [
    {
     "name": "stdout",
     "output_type": "stream",
     "text": [
      "1/1 [==============================] - 0s 52ms/step\n",
      "output[0]= [[[2.]\n",
      "  [4.]\n",
      "  [0.]\n",
      "  [0.]]]\n",
      "output[1]= [[[2.]\n",
      "  [4.]\n",
      "  [6.]\n",
      "  [8.]]]\n",
      "output[2]= [[[4.]\n",
      "  [8.]\n",
      "  [6.]\n",
      "  [8.]]]\n",
      "output[3]= [[[2. 2.]\n",
      "  [4. 4.]\n",
      "  [0. 6.]\n",
      "  [0. 8.]]]\n",
      "output[4]= [[[20.]]]\n",
      "output[5]= [[[ 4.  8. 12. 16.]\n",
      "  [ 8. 16. 24. 32.]\n",
      "  [ 0.  0.  0.  0.]\n",
      "  [ 0.  0.  0.  0.]]]\n"
     ]
    }
   ],
   "source": [
    "output = model.predict([A,B])\n",
    "for i in range(len(output)):\n",
    "    print(f\"output[{i}]= {output[i]}\")"
   ]
  },
  {
   "cell_type": "code",
   "execution_count": 3,
   "metadata": {},
   "outputs": [],
   "source": [
    "A = np.array([[1,2],[3,4]], dtype='float32')\n",
    "A = A.reshape(-1,2,2,1)\n",
    "B = np.array([[5,6],[7,8]], dtype='float32')\n",
    "B = B.reshape(-1,2,2,1)\n",
    "\n",
    "C = np.array([1,2,3]).astype('float32')\n",
    "C = C.reshape(-1,3,1,1)"
   ]
  },
  {
   "cell_type": "code",
   "execution_count": 6,
   "metadata": {},
   "outputs": [
    {
     "name": "stdout",
     "output_type": "stream",
     "text": [
      "model output shape:  [(None, 2, 2, 1), (None, 2, 2, 1), (None, 3, 1, 1), (None, 2, 2, 1), (None, 2, 2, 2), (None, 2, 2, 2, 2), (None, 2, 2, 3, 1)]\n",
      "KerasTensor(type_spec=TensorSpec(shape=(None, 2, 2, 2), dtype=tf.float32, name=None), name='concatenate_1/concat:0', description=\"created by layer 'concatenate_1'\")\n"
     ]
    }
   ],
   "source": [
    "x = tf.keras.layers.Input(shape=A.shape[1:])\n",
    "y = tf.keras.layers.Input(shape=B.shape[1:])\n",
    "z = tf.keras.layers.Input(shape=C.shape[1:])\n",
    "\n",
    "out3 = tf.keras.layers.Add()([x,y])\n",
    "out4 = tf.keras.layers.Concatenate()([x,y])\n",
    "out5 = tf.keras.layers.Dot(axes = -1)([x,y])\n",
    "out6 = tf.keras.layers.Dot(axes = -1)([x,z])\n",
    "\n",
    "out_list = [x,y,z,out3,out4,out5,out6]\n",
    "model = tf.keras.Model(inputs=[x,y,z], outputs=out_list)\n",
    "\n",
    "print(\"model output shape: \", model.output_shape)"
   ]
  },
  {
   "cell_type": "code",
   "execution_count": 7,
   "metadata": {},
   "outputs": [
    {
     "name": "stdout",
     "output_type": "stream",
     "text": [
      "1/1 [==============================] - 0s 110ms/step\n",
      "output[0]= [[[[1.]\n",
      "   [2.]]\n",
      "\n",
      "  [[3.]\n",
      "   [4.]]]]\n",
      "output[1]= [[[[5.]\n",
      "   [6.]]\n",
      "\n",
      "  [[7.]\n",
      "   [8.]]]]\n",
      "output[2]= [[[[1.]]\n",
      "\n",
      "  [[2.]]\n",
      "\n",
      "  [[3.]]]]\n",
      "output[3]= [[[[ 6.]\n",
      "   [ 8.]]\n",
      "\n",
      "  [[10.]\n",
      "   [12.]]]]\n",
      "output[4]= [[[[1. 5.]\n",
      "   [2. 6.]]\n",
      "\n",
      "  [[3. 7.]\n",
      "   [4. 8.]]]]\n",
      "output[5]= [[[[[ 5.  6.]\n",
      "    [ 7.  8.]]\n",
      "\n",
      "   [[10. 12.]\n",
      "    [14. 16.]]]\n",
      "\n",
      "\n",
      "  [[[15. 18.]\n",
      "    [21. 24.]]\n",
      "\n",
      "   [[20. 24.]\n",
      "    [28. 32.]]]]]\n",
      "output[6]= [[[[[ 1.]\n",
      "    [ 2.]\n",
      "    [ 3.]]\n",
      "\n",
      "   [[ 2.]\n",
      "    [ 4.]\n",
      "    [ 6.]]]\n",
      "\n",
      "\n",
      "  [[[ 3.]\n",
      "    [ 6.]\n",
      "    [ 9.]]\n",
      "\n",
      "   [[ 4.]\n",
      "    [ 8.]\n",
      "    [12.]]]]]\n"
     ]
    }
   ],
   "source": [
    "output = model.predict([A,B,C])\n",
    "for i in range(len(output)):\n",
    "    print(f\"output[{i}]= {output[i]}\")"
   ]
  },
  {
   "cell_type": "code",
   "execution_count": 53,
   "metadata": {},
   "outputs": [],
   "source": [
    "import tensorflow as tf\n",
    "import matplotlib.pyplot as plt\n",
    "import numpy as np"
   ]
  },
  {
   "cell_type": "code",
   "execution_count": 54,
   "metadata": {},
   "outputs": [],
   "source": [
    "X = np.array([[0,0],[0,1],[1,0],[1,1]], dtype=np.float32)\n",
    "\n",
    "y_and = np.array([[0],[0],[0],[1]], dtype=np.float32)\n",
    "y_or = np.array([[0],[1],[1],[1]], dtype=np.float32)\n",
    "y_xor = np.array([[0],[1],[1],[0]], dtype=np.float32)"
   ]
  },
  {
   "cell_type": "code",
   "execution_count": 55,
   "metadata": {},
   "outputs": [],
   "source": [
    "y_and = tf.keras.utils.to_categorical(y_and)\n",
    "y_or = tf.keras.utils.to_categorical(y_or)\n",
    "y_xor = tf.keras.utils.to_categorical(y_xor)\n"
   ]
  },
  {
   "cell_type": "code",
   "execution_count": 56,
   "metadata": {},
   "outputs": [
    {
     "name": "stdout",
     "output_type": "stream",
     "text": [
      "Model: \"model_8\"\n",
      "__________________________________________________________________________________________________\n",
      " Layer (type)                Output Shape                 Param #   Connected to                  \n",
      "==================================================================================================\n",
      " input_23 (InputLayer)       [(None, 2)]                  0         []                            \n",
      "                                                                                                  \n",
      " input_24 (InputLayer)       [(None, 2)]                  0         []                            \n",
      "                                                                                                  \n",
      " input_25 (InputLayer)       [(None, 2)]                  0         []                            \n",
      "                                                                                                  \n",
      " dense_12 (Dense)            (None, 2)                    6         ['input_23[0][0]']            \n",
      "                                                                                                  \n",
      " dense_13 (Dense)            (None, 2)                    6         ['input_24[0][0]']            \n",
      "                                                                                                  \n",
      " dense_14 (Dense)            (None, 2)                    6         ['input_25[0][0]']            \n",
      "                                                                                                  \n",
      " and (Dense)                 (None, 2)                    6         ['dense_12[0][0]']            \n",
      "                                                                                                  \n",
      " or (Dense)                  (None, 2)                    6         ['dense_13[0][0]']            \n",
      "                                                                                                  \n",
      " xor (Dense)                 (None, 2)                    6         ['dense_14[0][0]']            \n",
      "                                                                                                  \n",
      "==================================================================================================\n",
      "Total params: 36 (144.00 Byte)\n",
      "Trainable params: 36 (144.00 Byte)\n",
      "Non-trainable params: 0 (0.00 Byte)\n",
      "__________________________________________________________________________________________________\n"
     ]
    }
   ],
   "source": [
    "x_and = tf.keras.Input(shape=(2,))\n",
    "x = tf.keras.layers.Dense(units=2, activation='swish')(x_and)\n",
    "# out_and = tf.keras.layers.Dense(units=1, activation='sigmoid', name='and')(x_and)\n",
    "out_and = tf.keras.layers.Dense(units=2, activation='softmax', name = 'and')(x)\n",
    "\n",
    "x_or = tf.keras.Input(shape=(2,))\n",
    "x = tf.keras.layers.Dense(units=2, activation='swish')(x_or)\n",
    "# out_or = tf.keras.layers.Dense(units=1, activation='sigmoid', name='or')(x_or)\n",
    "out_or = tf.keras.layers.Dense(units=2, activation='softmax', name = 'or')(x)\n",
    "\n",
    "x_xor = tf.keras.Input(shape=(2,))\n",
    "x = tf.keras.layers.Dense(units=2, activation='swish')(x_xor)\n",
    "out_xor = tf.keras.layers.Dense(units=2, activation='softmax', name='xor')(x)\n",
    "\n",
    "# model = tf.keras.Model(inputs=[x_and, x_or], outputs=[out_and, out_or])\n",
    "model = tf.keras.Model(inputs=[x_and, x_or, x_xor], outputs=[out_and, out_or, out_xor])\n",
    "model.summary()"
   ]
  },
  {
   "cell_type": "code",
   "execution_count": 57,
   "metadata": {},
   "outputs": [],
   "source": [
    "opt = tf.keras.optimizers.RMSprop(learning_rate=0.1)\n",
    "model.compile(optimizer=opt, loss='mse', metrics=['accuracy'])"
   ]
  },
  {
   "cell_type": "code",
   "execution_count": 58,
   "metadata": {},
   "outputs": [],
   "source": [
    "# ret = model.fit(x = [X,X], y = [y_and, y_or], epochs=100, batch_size=4, verbose=2)\n",
    "ret = model.fit(x = [X,X,X], y = [y_and, y_or, y_xor], epochs=100, batch_size=4, verbose=0)"
   ]
  },
  {
   "cell_type": "code",
   "execution_count": 59,
   "metadata": {},
   "outputs": [
    {
     "name": "stdout",
     "output_type": "stream",
     "text": [
      "total loss:  5.3209365432849154e-05\n",
      "and: loss= 2.1388994355220348e-05, acc= 1.0\n",
      "or: loss= 4.7614125833206344e-06, acc= 1.0\n",
      "xor: loss= 2.7058958949055523e-05, acc= 1.0\n"
     ]
    }
   ],
   "source": [
    "# test = model.evaluate(x = [X,X], y = [y_and, y_or], verbose=0)\n",
    "test = model.evaluate(x = [X,X,X], y = [y_and, y_or, y_xor], verbose=0)\n",
    "print('total loss: ', test[0])\n",
    "print(f'and: loss= {test[1]}, acc= {test[4]}')\n",
    "print(f'or: loss= {test[2]}, acc= {test[5]}')\n",
    "print(f'xor: loss= {test[3]}, acc= {test[6]}')"
   ]
  },
  {
   "cell_type": "code",
   "execution_count": 60,
   "metadata": {},
   "outputs": [
    {
     "data": {
      "image/png": "[encoded data removed]",
      "text/plain": [
       "<Figure size 640x480 with 1 Axes>"
      ]
     },
     "metadata": {},
     "output_type": "display_data"
    }
   ],
   "source": [
    "plt.plot(ret.history['loss'],'k--', label = 'loss')\n",
    "plt.plot(ret.history['and_loss'], 'r--', label = 'and_loss')\n",
    "plt.plot(ret.history['or_loss'], 'g--', label = 'or_loss')\n",
    "plt.plot(ret.history['xor_loss'], 'b--', label = 'xor_loss')\n",
    "\n",
    "plt.plot(ret.history['and_accuracy'], 'r-', label = 'and_acc')\n",
    "plt.plot(ret.history['or_accuracy'], 'g-', label = 'or_acc')\n",
    "plt.plot(ret.history['xor_accuracy'], 'b-', label = 'xor_acc')\n",
    "\n",
    "plt.xlabel('epochs')\n",
    "plt.ylabel('loss and accuracy')\n",
    "plt.legend(loc='best')\n",
    "plt.show()\n"
   ]
  },
  {
   "cell_type": "code",
   "execution_count": 87,
   "metadata": {},
   "outputs": [],
   "source": [
    "import tensorflow as tf\n",
    "import matplotlib.pyplot as plt\n",
    "import numpy as np\n",
    "import pandas as pd\n",
    "from tensorflow.keras.datasets import mnist"
   ]
  },
  {
   "cell_type": "code",
   "execution_count": 95,
   "metadata": {},
   "outputs": [],
   "source": [
    "gpus = tf.config.experimental.list_physical_devices('GPU')"
   ]
  },
  {
   "cell_type": "code",
   "execution_count": 96,
   "metadata": {},
   "outputs": [],
   "source": [
    "(x_train, y_train), (x_test, y_test) = mnist.load_data()\n",
    "x_train = x_train.astype('float32')\n",
    "x_test = x_test.astype('float32')\n",
    "x_train /= 255.0\n",
    "x_test /= 255.0"
   ]
  },
  {
   "cell_type": "code",
   "execution_count": 97,
   "metadata": {},
   "outputs": [],
   "source": [
    "x_train = np.expand_dims(x_train, axis=3)\n",
    "x_test = np.expand_dims(x_test, axis=3)"
   ]
  },
  {
   "cell_type": "code",
   "execution_count": 98,
   "metadata": {},
   "outputs": [],
   "source": [
    "y_train = tf.keras.utils.to_categorical(y_train)\n",
    "y_test = tf.keras.utils.to_categorical(y_test)"
   ]
  },
  {
   "cell_type": "code",
   "execution_count": 99,
   "metadata": {},
   "outputs": [],
   "source": [
    "def create_cnn2d(input_shape, num_class = 10):\n",
    "    inputs = tf.keras.Input(shape = input_shape)\n",
    "    x = tf.keras.layers.Conv2D(filters=16, kernel_size=(3,3), activation='relu')(inputs)\n",
    "    x = tf.keras.layers.BatchNormalization()(x)\n",
    "    x = tf.keras.layers.MaxPool2D()(x)\n",
    "    x = tf.keras.layers.Conv2D(filters=32, kernel_size=(3,3), activation='relu')(x)\n",
    "    x = tf.keras.layers.MaxPool2D()(x)\n",
    "    x = tf.keras.layers.Dropout(rate=0.2)(x)\n",
    "\n",
    "    x = tf.keras.layers.Flatten()(x)\n",
    "\n",
    "    outputs = tf.keras.layers.Dense(units=10, activation='softmax')(x)\n",
    "    model = tf.keras.Model(inputs=inputs, outputs=outputs)\n",
    "\n",
    "    return model\n",
    "\n",
    "model = create_cnn2d(input_shape=x_train.shape[1:])"
   ]
  },
  {
   "cell_type": "code",
   "execution_count": 100,
   "metadata": {},
   "outputs": [
    {
     "name": "stdout",
     "output_type": "stream",
     "text": [
      "Epoch 1/100\n",
      "150/150 [==============================] - 14s 93ms/step - loss: 0.4625 - accuracy: 0.8831\n",
      "Epoch 2/100\n",
      "150/150 [==============================] - 15s 101ms/step - loss: 0.0863 - accuracy: 0.9747\n",
      "Epoch 3/100\n",
      "150/150 [==============================] - 17s 114ms/step - loss: 0.0686 - accuracy: 0.9792\n",
      "Epoch 4/100\n",
      "150/150 [==============================] - 17s 111ms/step - loss: 0.0603 - accuracy: 0.9816\n",
      "Epoch 5/100\n",
      "150/150 [==============================] - 16s 110ms/step - loss: 0.0503 - accuracy: 0.9848\n",
      "Epoch 6/100\n",
      "150/150 [==============================] - 15s 103ms/step - loss: 0.0461 - accuracy: 0.9857\n",
      "Epoch 7/100\n",
      "150/150 [==============================] - 16s 105ms/step - loss: 0.0434 - accuracy: 0.9865\n",
      "Epoch 8/100\n",
      "150/150 [==============================] - 16s 108ms/step - loss: 0.0406 - accuracy: 0.9875\n",
      "Epoch 9/100\n",
      "150/150 [==============================] - 15s 102ms/step - loss: 0.0379 - accuracy: 0.9879\n",
      "Epoch 10/100\n",
      "150/150 [==============================] - 14s 94ms/step - loss: 0.0348 - accuracy: 0.9889\n",
      "Epoch 11/100\n",
      "150/150 [==============================] - 14s 92ms/step - loss: 0.0354 - accuracy: 0.9891\n",
      "Epoch 12/100\n",
      "150/150 [==============================] - 14s 92ms/step - loss: 0.0323 - accuracy: 0.9901\n",
      "Epoch 13/100\n",
      "150/150 [==============================] - 14s 96ms/step - loss: 0.0314 - accuracy: 0.9903\n",
      "Epoch 14/100\n",
      "150/150 [==============================] - 14s 92ms/step - loss: 0.0317 - accuracy: 0.9901\n",
      "Epoch 15/100\n",
      "150/150 [==============================] - 14s 92ms/step - loss: 0.0305 - accuracy: 0.9906\n",
      "Epoch 16/100\n",
      "150/150 [==============================] - 14s 92ms/step - loss: 0.0298 - accuracy: 0.9909\n",
      "Epoch 17/100\n",
      "150/150 [==============================] - 14s 92ms/step - loss: 0.0297 - accuracy: 0.9909\n",
      "Epoch 18/100\n",
      "150/150 [==============================] - 14s 92ms/step - loss: 0.0273 - accuracy: 0.9916\n",
      "Epoch 19/100\n",
      "150/150 [==============================] - 14s 92ms/step - loss: 0.0276 - accuracy: 0.9911\n",
      "Epoch 20/100\n",
      "150/150 [==============================] - 14s 93ms/step - loss: 0.0280 - accuracy: 0.9910\n",
      "Epoch 21/100\n",
      "150/150 [==============================] - 14s 92ms/step - loss: 0.0252 - accuracy: 0.9919\n",
      "Epoch 22/100\n",
      "150/150 [==============================] - 14s 92ms/step - loss: 0.0280 - accuracy: 0.9914\n",
      "Epoch 23/100\n",
      "150/150 [==============================] - 14s 96ms/step - loss: 0.0265 - accuracy: 0.9916\n",
      "Epoch 24/100\n",
      "150/150 [==============================] - 15s 101ms/step - loss: 0.0267 - accuracy: 0.9913\n",
      "Epoch 25/100\n",
      "150/150 [==============================] - 15s 101ms/step - loss: 0.0241 - accuracy: 0.9924\n",
      "Epoch 26/100\n",
      "150/150 [==============================] - 14s 95ms/step - loss: 0.0245 - accuracy: 0.9921\n",
      "Epoch 27/100\n",
      "150/150 [==============================] - 14s 95ms/step - loss: 0.0251 - accuracy: 0.9917\n",
      "Epoch 28/100\n",
      "150/150 [==============================] - 15s 97ms/step - loss: 0.0242 - accuracy: 0.9922\n",
      "Epoch 29/100\n",
      "150/150 [==============================] - 15s 100ms/step - loss: 0.0230 - accuracy: 0.9927\n",
      "Epoch 30/100\n",
      "150/150 [==============================] - 15s 98ms/step - loss: 0.0227 - accuracy: 0.9927\n",
      "Epoch 31/100\n",
      "150/150 [==============================] - 15s 100ms/step - loss: 0.0236 - accuracy: 0.9931\n",
      "Epoch 32/100\n",
      "150/150 [==============================] - 15s 98ms/step - loss: 0.0228 - accuracy: 0.9934\n",
      "Epoch 33/100\n",
      "150/150 [==============================] - 14s 94ms/step - loss: 0.0231 - accuracy: 0.9927\n",
      "Epoch 34/100\n",
      "150/150 [==============================] - 14s 97ms/step - loss: 0.0225 - accuracy: 0.9927\n",
      "Epoch 35/100\n",
      "150/150 [==============================] - 13s 87ms/step - loss: 0.0225 - accuracy: 0.9928\n",
      "Epoch 36/100\n",
      "150/150 [==============================] - 13s 87ms/step - loss: 0.0220 - accuracy: 0.9930\n",
      "Epoch 37/100\n",
      "150/150 [==============================] - 13s 89ms/step - loss: 0.0214 - accuracy: 0.9935\n",
      "Epoch 38/100\n",
      "150/150 [==============================] - 15s 98ms/step - loss: 0.0237 - accuracy: 0.9932\n",
      "Epoch 39/100\n",
      "150/150 [==============================] - 14s 94ms/step - loss: 0.0229 - accuracy: 0.9928\n",
      "Epoch 40/100\n",
      "150/150 [==============================] - 13s 88ms/step - loss: 0.0230 - accuracy: 0.9931\n",
      "Epoch 41/100\n",
      "150/150 [==============================] - 13s 86ms/step - loss: 0.0223 - accuracy: 0.9933\n",
      "Epoch 42/100\n",
      "150/150 [==============================] - 13s 90ms/step - loss: 0.0236 - accuracy: 0.9931\n",
      "Epoch 43/100\n",
      "150/150 [==============================] - 13s 86ms/step - loss: 0.0224 - accuracy: 0.9934\n",
      "Epoch 44/100\n",
      "150/150 [==============================] - 14s 91ms/step - loss: 0.0214 - accuracy: 0.9937\n",
      "Epoch 45/100\n",
      "150/150 [==============================] - 14s 93ms/step - loss: 0.0207 - accuracy: 0.9937\n",
      "Epoch 46/100\n",
      "150/150 [==============================] - 14s 92ms/step - loss: 0.0220 - accuracy: 0.9933\n",
      "Epoch 47/100\n",
      "150/150 [==============================] - 14s 93ms/step - loss: 0.0216 - accuracy: 0.9934\n",
      "Epoch 48/100\n",
      "150/150 [==============================] - 14s 93ms/step - loss: 0.0220 - accuracy: 0.9937\n",
      "Epoch 49/100\n",
      "150/150 [==============================] - 14s 94ms/step - loss: 0.0201 - accuracy: 0.9943\n",
      "Epoch 50/100\n",
      "150/150 [==============================] - 14s 92ms/step - loss: 0.0213 - accuracy: 0.9939\n",
      "Epoch 51/100\n",
      "150/150 [==============================] - 14s 93ms/step - loss: 0.0225 - accuracy: 0.9933\n",
      "Epoch 52/100\n",
      "150/150 [==============================] - 14s 92ms/step - loss: 0.0215 - accuracy: 0.9935\n",
      "Epoch 53/100\n",
      "150/150 [==============================] - 14s 92ms/step - loss: 0.0199 - accuracy: 0.9941\n",
      "Epoch 54/100\n",
      "150/150 [==============================] - 16s 105ms/step - loss: 0.0211 - accuracy: 0.9937\n",
      "Epoch 55/100\n",
      "150/150 [==============================] - 15s 102ms/step - loss: 0.0231 - accuracy: 0.9931\n",
      "Epoch 56/100\n",
      "150/150 [==============================] - 19s 124ms/step - loss: 0.0218 - accuracy: 0.9937\n",
      "Epoch 57/100\n",
      "150/150 [==============================] - 19s 126ms/step - loss: 0.0228 - accuracy: 0.9936\n",
      "Epoch 58/100\n",
      "150/150 [==============================] - 15s 98ms/step - loss: 0.0217 - accuracy: 0.9936\n",
      "Epoch 59/100\n",
      "150/150 [==============================] - 15s 100ms/step - loss: 0.0191 - accuracy: 0.9945\n",
      "Epoch 60/100\n",
      "150/150 [==============================] - 15s 97ms/step - loss: 0.0207 - accuracy: 0.9937\n",
      "Epoch 61/100\n",
      "150/150 [==============================] - 15s 98ms/step - loss: 0.0212 - accuracy: 0.9936\n",
      "Epoch 62/100\n",
      "150/150 [==============================] - 14s 96ms/step - loss: 0.0209 - accuracy: 0.9942\n",
      "Epoch 63/100\n",
      "150/150 [==============================] - 13s 89ms/step - loss: 0.0218 - accuracy: 0.9937\n",
      "Epoch 64/100\n",
      "150/150 [==============================] - 13s 89ms/step - loss: 0.0189 - accuracy: 0.9945\n",
      "Epoch 65/100\n",
      "150/150 [==============================] - 13s 90ms/step - loss: 0.0212 - accuracy: 0.9940\n",
      "Epoch 66/100\n",
      "150/150 [==============================] - 13s 89ms/step - loss: 0.0204 - accuracy: 0.9942\n",
      "Epoch 67/100\n",
      "150/150 [==============================] - 13s 89ms/step - loss: 0.0196 - accuracy: 0.9941\n",
      "Epoch 68/100\n",
      "150/150 [==============================] - 13s 89ms/step - loss: 0.0205 - accuracy: 0.9938\n",
      "Epoch 69/100\n",
      "150/150 [==============================] - 14s 92ms/step - loss: 0.0199 - accuracy: 0.9944\n",
      "Epoch 70/100\n",
      "150/150 [==============================] - 14s 97ms/step - loss: 0.0218 - accuracy: 0.9936\n",
      "Epoch 71/100\n",
      "150/150 [==============================] - 14s 93ms/step - loss: 0.0218 - accuracy: 0.9934\n",
      "Epoch 72/100\n",
      "150/150 [==============================] - 15s 99ms/step - loss: 0.0208 - accuracy: 0.9942\n",
      "Epoch 73/100\n",
      "150/150 [==============================] - 14s 93ms/step - loss: 0.0211 - accuracy: 0.9939\n",
      "Epoch 74/100\n",
      "150/150 [==============================] - 15s 99ms/step - loss: 0.0220 - accuracy: 0.9935\n",
      "Epoch 75/100\n",
      "150/150 [==============================] - 15s 101ms/step - loss: 0.0206 - accuracy: 0.9944\n",
      "Epoch 76/100\n",
      "150/150 [==============================] - 15s 99ms/step - loss: 0.0211 - accuracy: 0.9940\n",
      "Epoch 77/100\n",
      "150/150 [==============================] - 14s 95ms/step - loss: 0.0218 - accuracy: 0.9942\n",
      "Epoch 78/100\n",
      "150/150 [==============================] - 15s 99ms/step - loss: 0.0207 - accuracy: 0.9939\n",
      "Epoch 79/100\n",
      "150/150 [==============================] - 15s 100ms/step - loss: 0.0200 - accuracy: 0.9944\n",
      "Epoch 80/100\n",
      "150/150 [==============================] - 14s 95ms/step - loss: 0.0205 - accuracy: 0.9945\n",
      "Epoch 81/100\n",
      "150/150 [==============================] - 14s 94ms/step - loss: 0.0222 - accuracy: 0.9939\n",
      "Epoch 82/100\n",
      "150/150 [==============================] - 14s 96ms/step - loss: 0.0223 - accuracy: 0.9938\n",
      "Epoch 83/100\n",
      "150/150 [==============================] - 15s 100ms/step - loss: 0.0224 - accuracy: 0.9940\n",
      "Epoch 84/100\n",
      "150/150 [==============================] - 15s 101ms/step - loss: 0.0198 - accuracy: 0.9945\n",
      "Epoch 85/100\n",
      "150/150 [==============================] - 14s 94ms/step - loss: 0.0198 - accuracy: 0.9945\n",
      "Epoch 86/100\n",
      "150/150 [==============================] - 14s 96ms/step - loss: 0.0205 - accuracy: 0.9942\n",
      "Epoch 87/100\n",
      "150/150 [==============================] - 14s 95ms/step - loss: 0.0217 - accuracy: 0.9937\n",
      "Epoch 88/100\n",
      "150/150 [==============================] - 15s 100ms/step - loss: 0.0221 - accuracy: 0.9940\n",
      "Epoch 89/100\n",
      "150/150 [==============================] - 15s 98ms/step - loss: 0.0213 - accuracy: 0.9942\n",
      "Epoch 90/100\n",
      "150/150 [==============================] - 14s 97ms/step - loss: 0.0193 - accuracy: 0.9944\n",
      "Epoch 91/100\n",
      "150/150 [==============================] - 14s 96ms/step - loss: 0.0198 - accuracy: 0.9945\n",
      "Epoch 92/100\n",
      "150/150 [==============================] - 17s 112ms/step - loss: 0.0203 - accuracy: 0.9945\n",
      "Epoch 93/100\n",
      "150/150 [==============================] - 16s 108ms/step - loss: 0.0204 - accuracy: 0.9942\n",
      "Epoch 94/100\n",
      "150/150 [==============================] - 16s 103ms/step - loss: 0.0188 - accuracy: 0.9945\n",
      "Epoch 95/100\n",
      "150/150 [==============================] - 17s 112ms/step - loss: 0.0183 - accuracy: 0.9946\n",
      "Epoch 96/100\n",
      "150/150 [==============================] - 16s 109ms/step - loss: 0.0209 - accuracy: 0.9945\n",
      "Epoch 97/100\n",
      "150/150 [==============================] - 17s 114ms/step - loss: 0.0202 - accuracy: 0.9947\n",
      "Epoch 98/100\n",
      "150/150 [==============================] - 17s 113ms/step - loss: 0.0193 - accuracy: 0.9950\n",
      "Epoch 99/100\n",
      "150/150 [==============================] - 17s 115ms/step - loss: 0.0217 - accuracy: 0.9937\n",
      "Epoch 100/100\n",
      "150/150 [==============================] - 16s 109ms/step - loss: 0.0205 - accuracy: 0.9945\n"
     ]
    }
   ],
   "source": [
    "opt = tf.keras.optimizers.RMSprop(learning_rate=0.01)\n",
    "model.compile(optimizer=opt, loss='categorical_crossentropy', metrics=['accuracy'])\n",
    "ret = model.fit(x_train, y_train, epochs=100, batch_size=400, verbose=1)"
   ]
  },
  {
   "cell_type": "code",
   "execution_count": null,
   "metadata": {},
   "outputs": [],
   "source": [
    "y_pred = model.predict(x_train)\n",
    "y_label = np.argmax(y_pred, axis = 1)\n",
    "C = tf.math.confusion_matrix(np.argmax(y_train, axis=1), y_label)\n",
    "print(\"confusion matrix: \", C)"
   ]
  },
  {
   "cell_type": "code",
   "execution_count": null,
   "metadata": {},
   "outputs": [],
   "source": [
    "train_loss, train_acc = model.evaluate(x_train, y_train, verbose = 2)\n",
    "test_loss, test_acc = model.evaluate(x_test, y_test, verbose = 2)"
   ]
  }
 ],
 "metadata": {
  "kernelspec": {
   "display_name": "Python 3",
   "language": "python",
   "name": "python3"
  },
  "language_info": {
   "codemirror_mode": {
    "name": "ipython",
    "version": 3
   },
   "file_extension": ".py",
   "mimetype": "text/x-python",
   "name": "python",
   "nbconvert_exporter": "python",
   "pygments_lexer": "ipython3",
   "version": "3.11.4"
  },
  "orig_nbformat": 4
 },
 "nbformat": 4,
 "nbformat_minor": 2
}
