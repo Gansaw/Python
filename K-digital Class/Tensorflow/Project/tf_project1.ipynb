{
 "cells": [
  {
   "cell_type": "code",
   "execution_count": 4,
   "metadata": {
    "id": "CyrIW-E4R47s"
   },
   "outputs": [],
   "source": [
    "import numpy as np\n",
    "import tensorflow as tf\n",
    "import pandas as pd\n",
    "import matplotlib.pyplot as plt"
   ]
  },
  {
   "cell_type": "markdown",
   "metadata": {
    "id": "gvpaE8KJSRPx"
   },
   "source": [
    "# 과제 001\n",
    "\n",
    "주어진 함수를 이용하여 gradient descent 를 직접 구현하고 그래프를 그리시오.\n",
    "\n",
    "\n",
    "**제출**\n",
    "\n",
    "구현한 코드가 담긴 colab 파일을 PLATO \"텐서플로 과제 제출 01\"에 제출하세요. (23/7/6까지)\n",
    "\n",
    "```\n",
    "def f(x):\n",
    "    return x**4 - 3*x**3 +2\n",
    "\n",
    "def fprime(x):\n",
    "    h = 0.001\n",
    "    return (f(x+h) - f(x))/h\n",
    "```\n",
    "\n",
    "* 힌트: 교과서 44p를 **참고**"
   ]
  },
  {
   "cell_type": "code",
   "execution_count": 3,
   "metadata": {
    "colab": {
     "base_uri": "https://localhost:8080/",
     "height": 482
    },
    "id": "E1SZ_DUDSTHS",
    "outputId": "ebc2d459-c528-470a-cba7-16b8d08a0e47"
   },
   "outputs": [
    {
     "data": {
      "text/plain": [
       "Text(0, 0.5, '$y=x^4-3x^3+2$')"
      ]
     },
     "execution_count": 3,
     "metadata": {},
     "output_type": "execute_result"
    },
    {
     "data": {
      "image/png": "[encoded data removed]",
      "text/plain": [
       "<Figure size 500x500 with 1 Axes>"
      ]
     },
     "metadata": {},
     "output_type": "display_data"
    }
   ],
   "source": [
    "def f(x):\n",
    "    return x**4 - 3*x**3 + 2\n",
    "\n",
    "def fprime(x):\n",
    "  h = 0.001\n",
    "  return (f(x+h)-f(x))/h\n",
    "\n",
    "all_x = tf.linspace(-5,5,100)\n",
    "all_y = f(all_x)\n",
    "\n",
    "x = tf.Variable(-4.) # 초기값 : x = -4\n",
    "LR = 0.001\n",
    "\n",
    "x_history, y_history = [], []\n",
    "for _ in range(100):\n",
    "  y = f(x)\n",
    "  step = LR*fprime(x)\n",
    "\n",
    "  x_history.append(x.numpy())\n",
    "  y_history.append(y.numpy())\n",
    "\n",
    "  x.assign_sub(step)  # x = x - lr*dx => 최소점을 향해 가기\n",
    "\n",
    "fig, ax = plt.subplots(figsize=(5,5))\n",
    "ax.plot(all_x, all_y)\n",
    "ax.scatter(x_history, y_history)\n",
    "plt.xlabel('$x$')\n",
    "plt.ylabel('$y=x^4-3x^3+2$')"
   ]
  },
  {
   "cell_type": "markdown",
   "metadata": {
    "id": "FHZYl3LdTjop"
   },
   "source": [
    "# 과제 002\n",
    "\n",
    "주어진 보스톤 주택 가격 데이터 셋을 이용하여 주택 가격을 예측하는 multiple variables regression 을 수행하는 프로그램을 직접 작성하시오.\n",
    "\n",
    "단, 아래 조건을 만족하여 구현하시오.\n",
    "\n",
    "* loss 함수: tensorflow 의 MSE\n",
    "* gradient 계산: tensorflow의 GradientTape()\n",
    "* optimizer: tensorflow의 Adam\n",
    "\n",
    "**제출**\n",
    "\n",
    "구현한 코드가 담긴 colab 파일을 PLATO \"텐서플로 과제 제출 01\"에 제출하세요. (23/7/6까지)\n",
    "\n",
    "```python\n",
    "import tensorflow as tf\n",
    "import pandas as pd\n",
    "import matplotlib.pyplot as plt\n",
    "import numpy as np\n",
    "\n",
    "# https://www.tensorflow.org/api_docs/python/tf/keras/datasets/boston_housing/load_data\n",
    "# features 설명 (http://lib.stat.cmu.edu/datasets/boston)\n",
    "# 보스톤 주택 가격(MEDV) 예측 (1인당 범죄율, 주택당 평균 방 개수, 학생대 교사 비율 등의 features 이용함)\n",
    "# MEDV(주택 가격 중앙값, 단위: $1,000)\n",
    "\n",
    "(x_train, y_train), (x_test, y_test) = tf.keras.datasets.boston_housing.load_data(\n",
    "    path='boston_housing.npz', test_split=0.2, seed=113\n",
    ")\n",
    "print('x_train.shape', 'y_train.shape', x_train.shape, y_train.shape)\n",
    "\n",
    "all_train_data = np.hstack((x_train, y_train.reshape((-1, 1))))\n",
    "column_names = ['CRIM', 'ZN', 'INDUS', 'CHAS', 'NOX', 'RM', 'AGE', 'DIS', 'RAD', 'TAX', 'PTRATIO', 'B', 'LSTAT', 'MEDV']\n",
    "df = pd.DataFrame(all_train_data, columns=column_names)\n",
    "df.head()\n",
    "sns.pairplot(df[['CRIM', 'ZN', 'INDUS', 'TAX', 'MEDV']], diag_kind='kde')\n",
    "```\n",
    "\n",
    "* 힌트:\n",
    "https://dschloe.github.io/python/tensorflow2.0/ch4_4_boston_housing_deeplearning/"
   ]
  },
  {
   "cell_type": "code",
   "execution_count": 5,
   "metadata": {
    "colab": {
     "base_uri": "https://localhost:8080/"
    },
    "id": "Hw9pkdqhTzfI",
    "outputId": "8d2f0ceb-0473-4f31-d341-c7f1220cfb08"
   },
   "outputs": [
    {
     "name": "stdout",
     "output_type": "stream",
     "text": [
      "4/4 [==============================] - 0s 6ms/step\n",
      "[[ -96.8468   ]\n",
      " [  48.32348  ]\n",
      " [  76.95633  ]\n",
      " [  44.005127 ]\n",
      " [  75.860275 ]\n",
      " [  38.75057  ]\n",
      " [  51.31665  ]\n",
      " [  70.83162  ]\n",
      " [ 105.351364 ]\n",
      " [ -14.111196 ]\n",
      " [ -22.085455 ]\n",
      " [  76.3788   ]\n",
      " [  55.360615 ]\n",
      " [  86.44219  ]\n",
      " [ -35.183514 ]\n",
      " [  52.921986 ]\n",
      " [  41.962543 ]\n",
      " [  16.63255  ]\n",
      " [ -12.817314 ]\n",
      " [  -9.803963 ]\n",
      " [ -18.2379   ]\n",
      " [-112.38673  ]\n",
      " [  65.899086 ]\n",
      " [  65.74705  ]\n",
      " [  69.217316 ]\n",
      " [ -17.36933  ]\n",
      " [  68.66558  ]\n",
      " [ 104.18683  ]\n",
      " [ -89.35072  ]\n",
      " [  43.822502 ]\n",
      " [  40.212048 ]\n",
      " [ -84.231964 ]\n",
      " [  75.666504 ]\n",
      " [  40.018017 ]\n",
      " [ -21.597424 ]\n",
      " [ -10.804615 ]\n",
      " [  45.87691  ]\n",
      " [   9.768038 ]\n",
      " [ -10.466065 ]\n",
      " [  79.82431  ]\n",
      " [  87.95355  ]\n",
      " [  60.603558 ]\n",
      " [  -4.5904856]\n",
      " [  41.6904   ]\n",
      " [ 103.49804  ]\n",
      " [  89.55886  ]\n",
      " [  90.11301  ]\n",
      " [  69.77897  ]\n",
      " [  -7.8875623]\n",
      " [  64.40702  ]\n",
      " [  93.46291  ]\n",
      " [  67.49771  ]\n",
      " [  -6.556379 ]\n",
      " [  80.152115 ]\n",
      " [  47.50932  ]\n",
      " [  75.2104   ]\n",
      " [  -4.422551 ]\n",
      " [  77.64658  ]\n",
      " [  78.738106 ]\n",
      " [  86.91632  ]\n",
      " [ -21.227976 ]\n",
      " [  -5.4279766]\n",
      " [ -57.9358   ]\n",
      " [  47.88782  ]\n",
      " [  67.15317  ]\n",
      " [  74.11588  ]\n",
      " [ -27.52453  ]\n",
      " [  70.33351  ]\n",
      " [ -25.829819 ]\n",
      " [  -5.880541 ]\n",
      " [  -7.668637 ]\n",
      " [  41.524258 ]\n",
      " [  -7.415547 ]\n",
      " [ -18.745378 ]\n",
      " [  47.92528  ]\n",
      " [  74.23057  ]\n",
      " [  48.55587  ]\n",
      " [  58.56297  ]\n",
      " [  78.439064 ]\n",
      " [ -11.93859  ]\n",
      " [  60.691853 ]\n",
      " [  87.140305 ]\n",
      " [  64.59512  ]\n",
      " [  -6.5065155]\n",
      " [  72.36523  ]\n",
      " [  79.14214  ]\n",
      " [ -12.091571 ]\n",
      " [  85.357315 ]\n",
      " [  78.401665 ]\n",
      " [ -12.145439 ]\n",
      " [  89.152374 ]\n",
      " [  39.719673 ]\n",
      " [  69.49695  ]\n",
      " [  45.49696  ]\n",
      " [  77.62695  ]\n",
      " [  52.931995 ]\n",
      " [  89.983604 ]\n",
      " [ -18.017187 ]\n",
      " [  23.657486 ]\n",
      " [  59.803604 ]\n",
      " [  73.4119   ]\n",
      " [  18.604568 ]]\n"
     ]
    },
    {
     "data": {
      "image/png": "[encoded data removed]",
      "text/plain": [
       "<Figure size 640x480 with 1 Axes>"
      ]
     },
     "metadata": {},
     "output_type": "display_data"
    }
   ],
   "source": [
    "from tensorflow.keras.datasets import boston_housing\n",
    "from tensorflow.keras.models import Sequential\n",
    "from tensorflow.keras.layers import Dense\n",
    "\n",
    "# 학습 데이터\n",
    "(train_X, train_Y), (test_X, test_Y) = boston_housing.load_data()\n",
    "\n",
    "# 학습 모델 불러오기\n",
    "model = Sequential()\n",
    "model.add(Dense(1, input_shape=(train_X.shape[1],)))\n",
    "\n",
    "# 최소제곱오차 및 adam 학습\n",
    "optimizer = tf.keras.optimizers.Adam()\n",
    "\n",
    "# GradientTape() 적용\n",
    "num_epochs = 100\n",
    "batch_size = 32\n",
    "\n",
    "for epoch in range(num_epochs):\n",
    "    with tf.GradientTape() as tape:\n",
    "        predictions = model(train_X)\n",
    "        loss = tf.reduce_mean(tf.square(predictions - train_Y))\n",
    "\n",
    "    gradients = tape.gradient(loss, model.trainable_variables)\n",
    "    optimizer.apply_gradients(zip(gradients, model.trainable_variables))\n",
    "\n",
    "# 예측 모델\n",
    "predictions = model.predict(test_X)\n",
    "print(predictions)\n",
    "\n",
    "# 산점도 작성\n",
    "plt.scatter(predictions,test_Y)\n",
    "plt.xlabel('Predicted Values')\n",
    "plt.ylabel('Actual Values')\n",
    "plt.title('Actual vs. Predicted Values')\n",
    "plt.show()"
   ]
  }
 ],
 "metadata": {
  "colab": {
   "provenance": []
  },
  "kernelspec": {
   "display_name": "Python 3 (ipykernel)",
   "language": "python",
   "name": "python3"
  },
  "language_info": {
   "codemirror_mode": {
    "name": "ipython",
    "version": 3
   },
   "file_extension": ".py",
   "mimetype": "text/x-python",
   "name": "python",
   "nbconvert_exporter": "python",
   "pygments_lexer": "ipython3",
   "version": "3.10.9"
  }
 },
 "nbformat": 4,
 "nbformat_minor": 1
}
