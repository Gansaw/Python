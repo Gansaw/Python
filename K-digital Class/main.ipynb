{
 "cells": [
  {
   "cell_type": "code",
   "execution_count": 1,
   "id": "962cf1f6",
   "metadata": {},
   "outputs": [
    {
     "ename": "AttributeError",
     "evalue": "module 'mymath' has no attribute 'add'",
     "output_type": "error",
     "traceback": [
      "\u001b[1;31m---------------------------------------------------------------------------\u001b[0m",
      "\u001b[1;31mAttributeError\u001b[0m                            Traceback (most recent call last)",
      "Cell \u001b[1;32mIn[1], line 6\u001b[0m\n\u001b[0;32m      3\u001b[0m x \u001b[38;5;241m=\u001b[39m \u001b[38;5;241m4\u001b[39m\n\u001b[0;32m      4\u001b[0m y \u001b[38;5;241m=\u001b[39m \u001b[38;5;241m3\u001b[39m\n\u001b[1;32m----> 6\u001b[0m \u001b[38;5;28mprint\u001b[39m(\u001b[43mmymath\u001b[49m\u001b[38;5;241;43m.\u001b[39;49m\u001b[43madd\u001b[49m(x, y))\n\u001b[0;32m      7\u001b[0m \u001b[38;5;28mprint\u001b[39m(mymath\u001b[38;5;241m.\u001b[39msubtract(x, y))\n\u001b[0;32m      8\u001b[0m \u001b[38;5;28mprint\u001b[39m(mymath\u001b[38;5;241m.\u001b[39mmultiply(x, y))\n",
      "\u001b[1;31mAttributeError\u001b[0m: module 'mymath' has no attribute 'add'"
     ]
    }
   ],
   "source": [
    "import mymath\n",
    "\n",
    "x = 4\n",
    "y = 3\n",
    "\n",
    "print(mymath.add(x, y))\n",
    "print(mymath.subtract(x, y))\n",
    "print(mymath.multiply(x, y))\n",
    "print(mymath.divide(x, y))"
   ]
  },
  {
   "cell_type": "code",
   "execution_count": 3,
   "id": "a766f01e",
   "metadata": {},
   "outputs": [
    {
     "name": "stdout",
     "output_type": "stream",
     "text": [
      "3.10.9 | packaged by Anaconda, Inc. | (main, Mar  1 2023, 18:18:15) [MSC v.1916 64 bit (AMD64)]\n"
     ]
    }
   ],
   "source": [
    "import sys\n",
    "\n",
    "print(sys.version)"
   ]
  }
 ],
 "metadata": {
  "kernelspec": {
   "display_name": "Python 3 (ipykernel)",
   "language": "python",
   "name": "python3"
  },
  "language_info": {
   "codemirror_mode": {
    "name": "ipython",
    "version": 3
   },
   "file_extension": ".py",
   "mimetype": "text/x-python",
   "name": "python",
   "nbconvert_exporter": "python",
   "pygments_lexer": "ipython3",
   "version": "3.10.9"
  }
 },
 "nbformat": 4,
 "nbformat_minor": 5
}
