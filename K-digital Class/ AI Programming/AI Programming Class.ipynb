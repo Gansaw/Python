{
 "cells": [
  {
   "cell_type": "code",
   "execution_count": 4,
   "id": "5be43052",
   "metadata": {},
   "outputs": [
    {
     "name": "stdout",
     "output_type": "stream",
     "text": [
      "Enter as Integer: 50\n",
      "No, it is a little lower than that.\n",
      "Enter as Integer: 22\n",
      "No, it is a little higher than that.\n",
      "Enter as Integer: 23\n",
      "Congratulations, you guessed it.\n",
      "The while loop is over.\n",
      "Done\n"
     ]
    }
   ],
   "source": [
    "# While Loop\n",
    "\n",
    "number = 23\n",
    "running = True\n",
    "\n",
    "while running:\n",
    "    guess = int(input(\"Enter as Integer: \"))\n",
    "    if guess == number:\n",
    "        print(\"Congratulations, you guessed it.\")\n",
    "        running = False\n",
    "    elif guess < number:\n",
    "        print(\"No, it is a little higher than that.\")\n",
    "    else:\n",
    "        print(\"No, it is a little lower than that.\")\n",
    "else:\n",
    "    print(\"The while loop is over.\")\n",
    "    \n",
    "print(\"Done\")"
   ]
  }
 ],
 "metadata": {
  "kernelspec": {
   "display_name": "Python 3 (ipykernel)",
   "language": "python",
   "name": "python3"
  },
  "language_info": {
   "codemirror_mode": {
    "name": "ipython",
    "version": 3
   },
   "file_extension": ".py",
   "mimetype": "text/x-python",
   "name": "python",
   "nbconvert_exporter": "python",
   "pygments_lexer": "ipython3",
   "version": "3.10.9"
  }
 },
 "nbformat": 4,
 "nbformat_minor": 5
}
