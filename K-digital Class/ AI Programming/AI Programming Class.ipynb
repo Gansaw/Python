{
 "cells": [
  {
   "cell_type": "code",
   "execution_count": 4,
   "id": "5be43052",
   "metadata": {},
   "outputs": [
    {
     "name": "stdout",
     "output_type": "stream",
     "text": [
      "Enter as Integer: 50\n",
      "No, it is a little lower than that.\n",
      "Enter as Integer: 22\n",
      "No, it is a little higher than that.\n",
      "Enter as Integer: 23\n",
      "Congratulations, you guessed it.\n",
      "The while loop is over.\n",
      "Done\n"
     ]
    }
   ],
   "source": [
    "# While Loop\n",
    "\n",
    "number = 23\n",
    "running = True\n",
    "\n",
    "while running:\n",
    "    guess = int(input(\"Enter as Integer: \"))\n",
    "    if guess == number:\n",
    "        print(\"Congratulations, you guessed it.\")\n",
    "        running = False\n",
    "    elif guess < number:\n",
    "        print(\"No, it is a little higher than that.\")\n",
    "    else:\n",
    "        print(\"No, it is a little lower than that.\")\n",
    "else:\n",
    "    print(\"The while loop is over.\")\n",
    "    \n",
    "print(\"Done\")"
   ]
  },
  {
   "cell_type": "code",
   "execution_count": 6,
   "id": "687e638c",
   "metadata": {},
   "outputs": [
    {
     "name": "stdout",
     "output_type": "stream",
     "text": [
      "(\"Enter -1 to terminate entering numbers.\")\n",
      "Enter a nonnegative integer: 1\n",
      "Enter a nonnegative integer: 2\n",
      "Enter a nonnegative integer: 3\n",
      "Enter a nonnegative integer: 4\n",
      "Enter a nonnegative integer: 5\n",
      "Enter a nonnegative integer: 6\n",
      "Enter a nonnegative integer: 7\n",
      "Enter a nonnegative integer: -1\n",
      "Entered 7 numbers\n",
      "Minimum 1\n",
      "Maximum 7\n",
      "Average 4.0\n"
     ]
    }
   ],
   "source": [
    "# While Loop\n",
    "\n",
    "count = 0\n",
    "total = 0\n",
    "\n",
    "print('(\"Enter -1 to terminate entering numbers.\")')\n",
    "num = int(input(\"Enter a nonnegative integer: \"))\n",
    "min_val = num\n",
    "max_val = num\n",
    "\n",
    "while num != -1:\n",
    "    count += 1\n",
    "    total += num\n",
    "    if num < min_val:\n",
    "        min_val = num\n",
    "    if num > min_val:\n",
    "        max_val = num        \n",
    "    num = int(input(\"Enter a nonnegative integer: \"))    \n",
    "if count > 0:\n",
    "    print(f\"Entered {count} number/numbers\")\n",
    "    print(\"Minimum\", min_val)\n",
    "    print(\"Maximum\", max_val)\n",
    "    print(\"Average\", total/count)\n",
    "\n",
    "else:\n",
    "    print(\"No \")"
   ]
  },
  {
   "cell_type": "code",
   "execution_count": 11,
   "id": "7630b16f",
   "metadata": {},
   "outputs": [
    {
     "name": "stdout",
     "output_type": "stream",
     "text": [
      "1\n",
      "2\n",
      "3\n",
      "4\n",
      "The for loop is over\n"
     ]
    }
   ],
   "source": [
    "# For Loop\n",
    "\n",
    "for i in range(1,5):\n",
    "    print(i)\n",
    "else:\n",
    "    print(\"The for loop is over\")"
   ]
  },
  {
   "cell_type": "code",
   "execution_count": 14,
   "id": "c1742e25",
   "metadata": {},
   "outputs": [
    {
     "name": "stdout",
     "output_type": "stream",
     "text": [
      "Enter a number from 1 to 20: 5\n",
      "*\n",
      "**\n",
      "***\n",
      "****\n",
      "*****\n"
     ]
    }
   ],
   "source": [
    "# For Loop\n",
    "\n",
    "numberOfRows = int(input(\"Enter a number from 1 to 20: \"))\n",
    "\n",
    "for i in range(numberOfRows):\n",
    "    for j in range(i+1):\n",
    "        print(\"*\", end=\"\")\n",
    "    print()"
   ]
  },
  {
   "cell_type": "code",
   "execution_count": 44,
   "id": "0f923bbe",
   "metadata": {},
   "outputs": [
    {
     "name": "stdout",
     "output_type": "stream",
     "text": [
      "Enter a number from 1 to 20: 5\n",
      "*++++\n",
      "**+++\n",
      "***++\n",
      "****+\n",
      "*****\n",
      "****+\n",
      "***++\n",
      "**+++\n",
      "*++++\n",
      "+++++\n"
     ]
    }
   ],
   "source": [
    "# For Loop\n",
    "\n",
    "numberOfRows = int(input(\"Enter a number from 1 to 20: \"))\n",
    "\n",
    "for i in range(numberOfRows):\n",
    "    for j in range(i+1):\n",
    "        print(\"*\", end = \"\")\n",
    "    for j in range(numberOfRows - i - 1):\n",
    "        print(\"+\", end = \"\")\n",
    "    print()"
   ]
  },
  {
   "cell_type": "code",
   "execution_count": 45,
   "id": "0b8d203e",
   "metadata": {},
   "outputs": [
    {
     "name": "stdout",
     "output_type": "stream",
     "text": [
      "Enter a number from 1 to 20: 5\n",
      "*++++\n",
      "**+++\n",
      "***++\n",
      "****+\n",
      "*****\n"
     ]
    }
   ],
   "source": [
    "## For Loop\n",
    "\n",
    "numberOfRows = int(input(\"Enter a number from 1 to 20: \"))\n",
    "string = \"+\" * numberOfRows\n",
    "for i in range(numberOfRows):\n",
    "    result = string.replace(\"+\",\"*\", i+1)\n",
    "    print(result)"
   ]
  },
  {
   "cell_type": "code",
   "execution_count": 52,
   "id": "248394c0",
   "metadata": {},
   "outputs": [
    {
     "name": "stdout",
     "output_type": "stream",
     "text": [
      "Enter a word: hihihihi\n",
      "The reversed word is ihihihih.\n",
      "The reversed word is ihihihih\n"
     ]
    }
   ],
   "source": [
    "# For Loop\n",
    "\n",
    "word = input(\"Enter a word: \")\n",
    "reversedWord = \"\"\n",
    "\n",
    "for ch in word:\n",
    "    reversedWord = ch + reversedWord\n",
    "print(\"The reversed word is \" + reversedWord + \".\")\n",
    "print(\"The reversed word is \" + word[::-1])"
   ]
  },
  {
   "cell_type": "code",
   "execution_count": 63,
   "id": "b211f3b7",
   "metadata": {},
   "outputs": [
    {
     "name": "stdout",
     "output_type": "stream",
     "text": [
      "hello world\n"
     ]
    }
   ],
   "source": [
    "# For Loop\n",
    "\n",
    "infile = open('textfile.txt','r')   # file open\n",
    "firstName = \"hello\"\n",
    "\n",
    "for s in infile:\n",
    "#     print(s, end = \"\")\n",
    "    if s.startswith(firstName + \" \"):\n",
    "        print(s.rstrip())    \n",
    "infile.close()"
   ]
  },
  {
   "cell_type": "code",
   "execution_count": 2,
   "id": "5ad0f5b0",
   "metadata": {},
   "outputs": [
    {
     "name": "stdout",
     "output_type": "stream",
     "text": [
      "Enter QUIT to terminate entering something\n",
      "Enter Something : hi\n",
      "Too short\n",
      "Enter Something : hello\n",
      "Input is of sufficient length\n",
      "Length of the String is 5\n",
      "Enter Something : QUIT\n",
      "Done\n"
     ]
    }
   ],
   "source": [
    "print(\"Enter QUIT to terminate entering something\")\n",
    "while True:\n",
    "    s = input(\"Enter Something : \")\n",
    "    if s == \"QUIT\":\n",
    "        break\n",
    "    if len(s) < 3:\n",
    "        print(\"Too short\")\n",
    "        continue\n",
    "    print(\"Input is of sufficient length\")\n",
    "    print(\"Length of the String is\", len(s))\n",
    "print(\"Done\")"
   ]
  },
  {
   "cell_type": "code",
   "execution_count": 5,
   "id": "a06ce0b8",
   "metadata": {},
   "outputs": [
    {
     "name": "stdout",
     "output_type": "stream",
     "text": [
      "Enter a word: abcde\n",
      "abced\n"
     ]
    }
   ],
   "source": [
    "word = input(\"Enter a word: \")\n",
    "result = ''\n",
    "\n",
    "# result = word[:-2] + word[-1] + word[-2]\n",
    "result = word[:-2] + word[-1:-3:-1]\n",
    "print(result)"
   ]
  },
  {
   "cell_type": "code",
   "execution_count": 23,
   "id": "b5716a5e",
   "metadata": {},
   "outputs": [
    {
     "name": "stdout",
     "output_type": "stream",
     "text": [
      "Enter a sentence: apple apple banana peach\n",
      "Enter word to replace: apple\n",
      "Enter replacement word: watermelon\n",
      "watermelon watermelon banana peach\n"
     ]
    }
   ],
   "source": [
    "# Exercise 2.2\n",
    "\n",
    "sentence = input(\"Enter a sentence: \")\n",
    "word_choose = input(\"Enter word to replace: \")\n",
    "word_replace = input(\"Enter replacement word: \")\n",
    "\n",
    "words = sentence.split()\n",
    "replaced = []\n",
    "\n",
    "for w in words:\n",
    "    if w == word_choose:\n",
    "        w = word_replace\n",
    "    replaced.append(w)\n",
    "\n",
    "replaced = ' '.join(replaced)\n",
    "print(replaced)"
   ]
  },
  {
   "cell_type": "code",
   "execution_count": 25,
   "id": "d391b7a4",
   "metadata": {},
   "outputs": [
    {
     "name": "stdout",
     "output_type": "stream",
     "text": [
      "Enter future value: 10000\n",
      "Enter interest rate (as %): 4\n",
      "Enter number of years: 6\n",
      "Present Value: $7,903.15\n"
     ]
    }
   ],
   "source": [
    "# Exercise 2.3\n",
    "\n",
    "future_value = eval(input(\"Enter future value: \"))\n",
    "interest = eval(input(\"Enter interest rate (as %): \"))\n",
    "year = eval(input(\"Enter number of years: \"))\n",
    "\n",
    "present_value = future_value / (1+interest/100)**year\n",
    "print(f\"Present Value: ${present_value:,.2f}\")"
   ]
  },
  {
   "cell_type": "code",
   "execution_count": 34,
   "id": "9fae3cec",
   "metadata": {},
   "outputs": [
    {
     "name": "stdout",
     "output_type": "stream",
     "text": [
      "To be or not to be.\n",
      "snap crackle pop\n"
     ]
    }
   ],
   "source": [
    "# .join\n",
    "\n",
    "line = ['To','be','or','not','to','be.']\n",
    "string = ' '.join(line)\n",
    "print(string)\n",
    "\n",
    "krispies = ['snap', 'crackle', 'pop']\n",
    "print(' '.join(krispies))"
   ]
  },
  {
   "cell_type": "code",
   "execution_count": 37,
   "id": "cf6e0e06",
   "metadata": {},
   "outputs": [
    {
     "name": "stdout",
     "output_type": "stream",
     "text": [
      "(1, 2, 3)\n",
      "1\n",
      "2\n",
      "3\n"
     ]
    }
   ],
   "source": [
    "# tuple\n",
    "\n",
    "def tmp():\n",
    "    return 1, 2, 3\n",
    "\n",
    "r1 = tmp()\n",
    "print(r1)\n",
    "\n",
    "v1, v2, v3 = tmp()\n",
    "print(v1)\n",
    "print(v2)\n",
    "print(v3)"
   ]
  },
  {
   "cell_type": "code",
   "execution_count": 41,
   "id": "02734cad",
   "metadata": {},
   "outputs": [
    {
     "name": "stdout",
     "output_type": "stream",
     "text": [
      "('NE', 55.3)\n",
      "55.3\n",
      "S\n",
      "114.6\n"
     ]
    }
   ],
   "source": [
    "# list 안에 tuple\n",
    "\n",
    "regions = [('NE',55.3),('MW',66.9),('S',114.6),('W',71.9)]\n",
    "\n",
    "print(regions[0])\n",
    "\n",
    "print(regions[0][1])\n",
    "\n",
    "print(regions[2][0])\n",
    "\n",
    "print(regions[2][1])"
   ]
  },
  {
   "cell_type": "code",
   "execution_count": 42,
   "id": "6ad08168",
   "metadata": {},
   "outputs": [
    {
     "name": "stdout",
     "output_type": "stream",
     "text": [
      "['mango', 'game', 'car']\n",
      "['mango', 'game', 'car']\n"
     ]
    }
   ],
   "source": [
    "# List\n",
    "\n",
    "shopList = ['apple','mango','game','car']\n",
    "\n",
    "myList = shopList\n",
    "del myList[0]\n",
    "\n",
    "print(shopList)\n",
    "print(myList)"
   ]
  },
  {
   "cell_type": "code",
   "execution_count": 43,
   "id": "fd830f5c",
   "metadata": {},
   "outputs": [
    {
     "name": "stdout",
     "output_type": "stream",
     "text": [
      "['apple', 'mango', 'game', 'car']\n",
      "['mango', 'game', 'car']\n"
     ]
    }
   ],
   "source": [
    "# List\n",
    "\n",
    "shopList = ['apple','mango','game','car']\n",
    "\n",
    "myList = shopList[:]\n",
    "del myList[0]\n",
    "\n",
    "print(shopList)\n",
    "print(myList)"
   ]
  }
 ],
 "metadata": {
  "kernelspec": {
   "display_name": "Python 3 (ipykernel)",
   "language": "python",
   "name": "python3"
  },
  "language_info": {
   "codemirror_mode": {
    "name": "ipython",
    "version": 3
   },
   "file_extension": ".py",
   "mimetype": "text/x-python",
   "name": "python",
   "nbconvert_exporter": "python",
   "pygments_lexer": "ipython3",
   "version": "3.10.9"
  }
 },
 "nbformat": 4,
 "nbformat_minor": 5
}
