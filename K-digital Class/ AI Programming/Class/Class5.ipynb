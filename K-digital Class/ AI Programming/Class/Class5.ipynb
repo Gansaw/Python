{
 "cells": [
  {
   "cell_type": "code",
   "execution_count": 25,
   "id": "9e330413",
   "metadata": {},
   "outputs": [
    {
     "name": "stdout",
     "output_type": "stream",
     "text": [
      "I Y P "
     ]
    }
   ],
   "source": [
    "# Exercise 6.2\n",
    "## Alphabet\n",
    "\n",
    "import random\n",
    "\n",
    "for i in range(3):\n",
    "    alphabet = random.randint(ord('A'),ord('Z'))\n",
    "    print(chr(alphabet), end = \" \")"
   ]
  },
  {
   "cell_type": "code",
   "execution_count": 20,
   "id": "1528f2eb",
   "metadata": {},
   "outputs": [
    {
     "name": "stdout",
     "output_type": "stream",
     "text": [
      "['F', 'V', 'F']\n"
     ]
    }
   ],
   "source": [
    "# Exercise 6.2\n",
    "## Alphabet\n",
    "\n",
    "import random\n",
    "\n",
    "# List Comprehension\n",
    "selected = [chr(random.randint(ord('A'), ord('Z'))) for _ in range(3)]\n",
    "print(selected)"
   ]
  },
  {
   "cell_type": "code",
   "execution_count": 14,
   "id": "afa7c8f8",
   "metadata": {},
   "outputs": [
    {
     "name": "stdout",
     "output_type": "stream",
     "text": [
      "39\n"
     ]
    }
   ],
   "source": [
    "# Exercise 6.2\n",
    "## Coin\n",
    "\n",
    "import random\n",
    "\n",
    "head = 0\n",
    "\n",
    "# head: 0, bottom: 1\n",
    "for i in range(100):\n",
    "    coin = random.randint(0,1)\n",
    "    if coin == 0:   \n",
    "        head += 1\n",
    "        \n",
    "print(head)"
   ]
  },
  {
   "cell_type": "code",
   "execution_count": 24,
   "id": "1360e745",
   "metadata": {},
   "outputs": [
    {
     "name": "stdout",
     "output_type": "stream",
     "text": [
      "Head: 43\n"
     ]
    }
   ],
   "source": [
    "# Exercise 6.2\n",
    "## Coin\n",
    "\n",
    "import random\n",
    "\n",
    "cnt = 0\n",
    "\n",
    "for _ in range(100):\n",
    "    if random.choice(['H','T']) == 'H':\n",
    "        cnt += 1\n",
    "        \n",
    "print('Head:',cnt)"
   ]
  },
  {
   "cell_type": "code",
   "execution_count": null,
   "id": "05a4a92a",
   "metadata": {},
   "outputs": [],
   "source": [
    "# Recursion\n",
    "\n",
    "## import sys\n",
    "## (sys.getrecursionlimit())"
   ]
  },
  {
   "cell_type": "code",
   "execution_count": 51,
   "id": "5a99134a",
   "metadata": {},
   "outputs": [
    {
     "name": "stdout",
     "output_type": "stream",
     "text": [
      "Input words: apple banana orange\n",
      "True\n"
     ]
    }
   ],
   "source": [
    "# Exercise 6.4\n",
    "## Alphabet Order\n",
    "\n",
    "def main():\n",
    "    L = list(map(str, input(\"Input words: \").split()))\n",
    "#     print(isAlpha(L))\n",
    "    print(isAlpharecursion(L))\n",
    "\n",
    "def isAlpha(L):    \n",
    "    for i in range(len(L) - 1):\n",
    "        if L[i] > L[i + 1]:\n",
    "            return False\n",
    "    return True\n",
    "\n",
    "def isAlpharecursion(L):\n",
    "    if len(L) <= 1:\n",
    "        return True\n",
    "    elif L[0] <= L[1]:\n",
    "        return isAlpharecursion(L[1:])\n",
    "    else:\n",
    "        return False\n",
    "\n",
    "main()"
   ]
  },
  {
   "cell_type": "code",
   "execution_count": 46,
   "id": "b7520ccc",
   "metadata": {},
   "outputs": [
    {
     "name": "stdout",
     "output_type": "stream",
     "text": [
      "input num1, num2: 7 8\n",
      "7 8 "
     ]
    }
   ],
   "source": [
    "# Exercise 6.4\n",
    "## Sequence number\n",
    "\n",
    "def main():\n",
    "#     m = int(input(\"number1: \"))\n",
    "#     n = int(input(\"number2: \"))\n",
    "    m, n = map(int,input(\"input num1, num2: \").split())\n",
    "#     displaySequenceOfNumbers(m,n)\n",
    "    displaySequenceOfNumbersRecursion(m,n)\n",
    "\n",
    "def displaySqeuenceOfNumbers(m,n):    \n",
    "    while m <= n:\n",
    "        print(m)\n",
    "        m = m + 1\n",
    "        \n",
    "def displaySequenceOfNumbersRecursion(m,n):\n",
    "    if m > n:\n",
    "        return\n",
    "    elif m == n:\n",
    "        print(m, end = \" \")\n",
    "    else:\n",
    "        print(m, end = \" \")\n",
    "        displaySequenceOfNumbersRecursion(m+1,n)\n",
    "                \n",
    "main()"
   ]
  }
 ],
 "metadata": {
  "kernelspec": {
   "display_name": "Python 3 (ipykernel)",
   "language": "python",
   "name": "python3"
  },
  "language_info": {
   "codemirror_mode": {
    "name": "ipython",
    "version": 3
   },
   "file_extension": ".py",
   "mimetype": "text/x-python",
   "name": "python",
   "nbconvert_exporter": "python",
   "pygments_lexer": "ipython3",
   "version": "3.10.9"
  }
 },
 "nbformat": 4,
 "nbformat_minor": 5
}
