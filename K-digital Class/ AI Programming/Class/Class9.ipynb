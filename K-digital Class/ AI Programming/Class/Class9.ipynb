{
 "cells": [
  {
   "cell_type": "code",
   "execution_count": 5,
   "id": "1afd50c8",
   "metadata": {},
   "outputs": [
    {
     "name": "stdout",
     "output_type": "stream",
     "text": [
      "Hello\n",
      "Create Exception\n"
     ]
    }
   ],
   "source": [
    "# try-except\n",
    "\n",
    "class CreateException(Exception):\n",
    "    def __init__(self):\n",
    "        super().__init__(\"Create Exception\")\n",
    "        \n",
    "def main():\n",
    "    try:\n",
    "        print(\"Hello\")\n",
    "        raise CreateException\n",
    "    except CreateException as e:\n",
    "        print(e)\n",
    "        \n",
    "main()"
   ]
  },
  {
   "cell_type": "code",
   "execution_count": 11,
   "id": "abb5ea4c",
   "metadata": {},
   "outputs": [
    {
     "name": "stdout",
     "output_type": "stream",
     "text": [
      "fun1\n",
      "\n"
     ]
    }
   ],
   "source": [
    "def fun1():\n",
    "    try:\n",
    "        print('fun1')\n",
    "        raise ValueError\n",
    "    except AttributeError as e:\n",
    "        print(e)\n",
    "        \n",
    "def fun2():\n",
    "    try:\n",
    "        print('fun2')\n",
    "        fun1()\n",
    "    except ZeroDivisionError as e:\n",
    "        print(e)\n",
    "        \n",
    "def main():\n",
    "    try:\n",
    "        fun1()\n",
    "    except ValueError as e:\n",
    "        print(e)\n",
    "        \n",
    "main()"
   ]
  },
  {
   "cell_type": "code",
   "execution_count": 16,
   "id": "3fb0e66d",
   "metadata": {},
   "outputs": [
    {
     "data": {
      "text/plain": [
       "1"
      ]
     },
     "execution_count": 16,
     "metadata": {},
     "output_type": "execute_result"
    }
   ],
   "source": [
    "L = [1,2,3]\n",
    "\n",
    "it = L.__iter__()\n",
    "    \n",
    "it.__next__()\n"
   ]
  },
  {
   "cell_type": "code",
   "execution_count": 24,
   "id": "00579f18",
   "metadata": {},
   "outputs": [
    {
     "name": "stdout",
     "output_type": "stream",
     "text": [
      "0\n",
      "1\n",
      "2\n",
      "짝\n",
      "4\n",
      "5\n",
      "짝\n",
      "7\n",
      "8\n",
      "짝\n"
     ]
    }
   ],
   "source": [
    "class Counter:\n",
    "    def __init__(self, *args):\n",
    "        if len(args) == 1:\n",
    "            self._current = 0\n",
    "            self._stop = args[0]\n",
    "            self._interval = 1\n",
    "        elif len(args) == 2:\n",
    "            self._current = args[0]\n",
    "            self._stop = args[1]\n",
    "            self._interval = 1\n",
    "        elif len(args) == 3:\n",
    "            self._current = args[0]\n",
    "            self._stop = args[1]\n",
    "            self._interval = args[2]\n",
    "        else:\n",
    "            raise NotImplementedError\n",
    "\n",
    "    def __iter__(self):\n",
    "        return self\n",
    "\n",
    "    def __next__(self):\n",
    "        if self._current < self._stop:\n",
    "            r = self._current\n",
    "            self._current += self._interval\n",
    "            if r > 0 and r % 3 == 0:\n",
    "                r = \"짝\"\n",
    "            return r\n",
    "        else:\n",
    "            raise StopIteration\n",
    "\n",
    "# Testing the Counter class\n",
    "for i in Counter(10):\n",
    "    print(i)\n"
   ]
  }
 ],
 "metadata": {
  "kernelspec": {
   "display_name": "Python 3 (ipykernel)",
   "language": "python",
   "name": "python3"
  },
  "language_info": {
   "codemirror_mode": {
    "name": "ipython",
    "version": 3
   },
   "file_extension": ".py",
   "mimetype": "text/x-python",
   "name": "python",
   "nbconvert_exporter": "python",
   "pygments_lexer": "ipython3",
   "version": "3.10.9"
  }
 },
 "nbformat": 4,
 "nbformat_minor": 5
}
