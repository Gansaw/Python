{
 "cells": [
  {
   "cell_type": "code",
   "execution_count": null,
   "id": "e1c8aad3",
   "metadata": {},
   "outputs": [],
   "source": [
    "# Class\n",
    "\n",
    "# raise : exception 발생\n",
    "# raise.NotImplementedError(\"Error!\")\n",
    "\n",
    "\n",
    "# 추상클래스 - 매서드만 생성\n",
    "\n",
    "# from abc import *\n",
    "\n",
    "# class Stdent(metaclass=ABCMeta):\n",
    "#     pass\n",
    "\n",
    "# @abstractMethod\n",
    "# class calcSemGrade(self):\n",
    "#     pass"
   ]
  }
 ],
 "metadata": {
  "kernelspec": {
   "display_name": "Python 3 (ipykernel)",
   "language": "python",
   "name": "python3"
  },
  "language_info": {
   "codemirror_mode": {
    "name": "ipython",
    "version": 3
   },
   "file_extension": ".py",
   "mimetype": "text/x-python",
   "name": "python",
   "nbconvert_exporter": "python",
   "pygments_lexer": "ipython3",
   "version": "3.10.9"
  }
 },
 "nbformat": 4,
 "nbformat_minor": 5
}
