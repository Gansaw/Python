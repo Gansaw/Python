{
 "cells": [
  {
   "cell_type": "code",
   "execution_count": 11,
   "id": "a49c1561",
   "metadata": {},
   "outputs": [],
   "source": [
    ">>> def print_numbers(a, b, c):\n",
    "...     print(a)\n",
    "...     print(b)\n",
    "...     print(c)"
   ]
  },
  {
   "cell_type": "code",
   "execution_count": 12,
   "id": "95a537ec",
   "metadata": {},
   "outputs": [
    {
     "name": "stdout",
     "output_type": "stream",
     "text": [
      "10\n",
      "20\n",
      "30\n"
     ]
    },
    {
     "data": {
      "text/plain": [
       "30"
      ]
     },
     "execution_count": 12,
     "metadata": {},
     "output_type": "execute_result"
    }
   ],
   "source": [
    ">>> x = [10, 20, 30]\n",
    ">>> print_numbers(*x)\n",
    "10\n",
    "20\n",
    "30"
   ]
  },
  {
   "cell_type": "code",
   "execution_count": 13,
   "id": "ffb01ed5",
   "metadata": {},
   "outputs": [
    {
     "name": "stdout",
     "output_type": "stream",
     "text": [
      "10\n",
      "20\n",
      "30\n"
     ]
    },
    {
     "data": {
      "text/plain": [
       "30"
      ]
     },
     "execution_count": 13,
     "metadata": {},
     "output_type": "execute_result"
    }
   ],
   "source": [
    ">>> print_numbers(*[10, 20, 30])\n",
    "10\n",
    "20\n",
    "30"
   ]
  },
  {
   "cell_type": "code",
   "execution_count": 15,
   "id": "51d2d408",
   "metadata": {},
   "outputs": [],
   "source": [
    ">>> def print_numbers(*args):\n",
    "...     for arg in args:\n",
    "...         print(arg)\n",
    "..."
   ]
  },
  {
   "cell_type": "code",
   "execution_count": 16,
   "id": "c1ddd32d",
   "metadata": {},
   "outputs": [
    {
     "name": "stdout",
     "output_type": "stream",
     "text": [
      "10\n",
      "10\n",
      "20\n",
      "30\n",
      "40\n"
     ]
    },
    {
     "data": {
      "text/plain": [
       "40"
      ]
     },
     "execution_count": 16,
     "metadata": {},
     "output_type": "execute_result"
    }
   ],
   "source": [
    ">>> print_numbers(10)\n",
    "10\n",
    ">>> print_numbers(10, 20, 30, 40)\n",
    "10\n",
    "20\n",
    "30\n",
    "40"
   ]
  },
  {
   "cell_type": "code",
   "execution_count": 17,
   "id": "6dfdd816",
   "metadata": {},
   "outputs": [
    {
     "name": "stdout",
     "output_type": "stream",
     "text": [
      "10\n",
      "10\n",
      "20\n",
      "30\n",
      "40\n"
     ]
    },
    {
     "data": {
      "text/plain": [
       "40"
      ]
     },
     "execution_count": 17,
     "metadata": {},
     "output_type": "execute_result"
    }
   ],
   "source": [
    ">>> x = [10]\n",
    ">>> print_numbers(*x)\n",
    "10\n",
    ">>> y = [10, 20, 30, 40]\n",
    ">>> print_numbers(*y)\n",
    "10\n",
    "20\n",
    "30\n",
    "40\n"
   ]
  },
  {
   "cell_type": "code",
   "execution_count": 18,
   "id": "09feb193",
   "metadata": {},
   "outputs": [
    {
     "name": "stdout",
     "output_type": "stream",
     "text": [
      "1\n",
      "()\n",
      "1\n",
      "(10, 20)\n",
      "10\n",
      "(20, 30)\n"
     ]
    },
    {
     "data": {
      "text/plain": [
       "(20, 30)"
      ]
     },
     "execution_count": 18,
     "metadata": {},
     "output_type": "execute_result"
    }
   ],
   "source": [
    ">>> def print_numbers(a, *args):\n",
    "...     print(a)\n",
    "...     print(args)\n",
    "...\n",
    ">>> print_numbers(1)\n",
    "1\n",
    "()\n",
    ">>> print_numbers(1, 10, 20)\n",
    "1\n",
    "(10, 20)\n",
    ">>> print_numbers(*[10, 20, 30])\n",
    "10\n",
    "(20, 30)"
   ]
  },
  {
   "cell_type": "code",
   "execution_count": 19,
   "id": "72f2fb5b",
   "metadata": {},
   "outputs": [],
   "source": [
    ">>> def personal_info(name, age, address):\n",
    "...     print('이름: ', name)\n",
    "...     print('나이: ', age)\n",
    "...     print('주소: ', address)\n",
    "..."
   ]
  },
  {
   "cell_type": "code",
   "execution_count": 21,
   "id": "6b0f11f8",
   "metadata": {},
   "outputs": [
    {
     "name": "stdout",
     "output_type": "stream",
     "text": [
      "이름:  홍길동\n",
      "나이:  30\n",
      "주소:  서울시 용산구 이촌동\n"
     ]
    }
   ],
   "source": [
    ">>> personal_info('홍길동', 30, '서울시 용산구 이촌동')\n",
    "# 이름:  홍길동\n",
    "# 나이:  30\n",
    "# 주소:  서울시 용산구 이촌동"
   ]
  },
  {
   "cell_type": "code",
   "execution_count": 22,
   "id": "83b7c631",
   "metadata": {},
   "outputs": [
    {
     "name": "stdout",
     "output_type": "stream",
     "text": [
      "이름:  홍길동\n",
      "나이:  30\n",
      "주소:  서울시 용산구 이촌동\n"
     ]
    }
   ],
   "source": [
    ">>> personal_info(name='홍길동', age=30, address='서울시 용산구 이촌동')\n",
    "# 이름:  홍길동\n",
    "# 나이:  30\n",
    "# 주소:  서울시 용산구 이촌동"
   ]
  },
  {
   "cell_type": "code",
   "execution_count": 23,
   "id": "b76ac6f7",
   "metadata": {},
   "outputs": [
    {
     "name": "stdout",
     "output_type": "stream",
     "text": [
      "이름:  홍길동\n",
      "나이:  30\n",
      "주소:  서울시 용산구 이촌동\n"
     ]
    }
   ],
   "source": [
    ">>> personal_info(age=30, address='서울시 용산구 이촌동', name='홍길동')\n",
    "# 이름:  홍길동\n",
    "# 나이:  30\n",
    "# 주소:  서울시 용산구 이촌동"
   ]
  },
  {
   "cell_type": "code",
   "execution_count": 24,
   "id": "ad5c8475",
   "metadata": {},
   "outputs": [
    {
     "name": "stdout",
     "output_type": "stream",
     "text": [
      "10:20:30"
     ]
    }
   ],
   "source": [
    "print(10, 20, 30, sep=':', end='')"
   ]
  },
  {
   "cell_type": "code",
   "execution_count": 25,
   "id": "c6301b9d",
   "metadata": {},
   "outputs": [
    {
     "name": "stdout",
     "output_type": "stream",
     "text": [
      "이름:  홍길동\n",
      "나이:  30\n",
      "주소:  서울시 용산구 이촌동\n"
     ]
    }
   ],
   "source": [
    ">>> x = {'name': '홍길동', 'age': 30, 'address': '서울시 용산구 이촌동'}\n",
    ">>> personal_info(**x)\n",
    "# 이름:  홍길동\n",
    "# 나이:  30\n",
    "# 주소:  서울시 용산구 이촌동"
   ]
  },
  {
   "cell_type": "code",
   "execution_count": 26,
   "id": "876c43dc",
   "metadata": {},
   "outputs": [
    {
     "name": "stdout",
     "output_type": "stream",
     "text": [
      "이름:  홍길동\n",
      "나이:  30\n",
      "주소:  서울시 용산구 이촌동\n"
     ]
    }
   ],
   "source": [
    ">>> personal_info(**{'name': '홍길동', 'age': 30, 'address': '서울시 용산구 이촌동'})\n",
    "# 이름:  홍길동\n",
    "# 나이:  30\n",
    "# 주소:  서울시 용산구 이촌동"
   ]
  },
  {
   "cell_type": "code",
   "execution_count": 27,
   "id": "abfda995",
   "metadata": {},
   "outputs": [
    {
     "name": "stdout",
     "output_type": "stream",
     "text": [
      "이름:  name\n",
      "나이:  age\n",
      "주소:  address\n"
     ]
    }
   ],
   "source": [
    ">>> x = {'name': '홍길동', 'age': 30, 'address': '서울시 용산구 이촌동'}\n",
    ">>> personal_info(*x)\n",
    "# 이름:  name\n",
    "# 나이:  age\n",
    "# 주소:  address"
   ]
  },
  {
   "cell_type": "code",
   "execution_count": 30,
   "id": "6c4eb22f",
   "metadata": {},
   "outputs": [],
   "source": [
    ">>> def personal_info(**kwargs):\n",
    "...     for k, v in kwargs.items():\n",
    "...         print(f\"{k}: {v}\")\n",
    "..."
   ]
  },
  {
   "cell_type": "code",
   "execution_count": 31,
   "id": "3877c5dc",
   "metadata": {},
   "outputs": [
    {
     "name": "stdout",
     "output_type": "stream",
     "text": [
      "name: 홍길동\n",
      "name: 홍길동\n",
      "age: 30\n",
      "address: 서울시 용산구 이촌동\n"
     ]
    }
   ],
   "source": [
    ">>> personal_info(name='홍길동')\n",
    "# name: 홍길동\n",
    ">>> personal_info(name='홍길동', age=30, address='서울시 용산구 이촌동')\n",
    "# name: 홍길동\n",
    "# age: 30\n",
    "# address: 서울시 용산구 이촌동"
   ]
  }
 ],
 "metadata": {
  "kernelspec": {
   "display_name": "Python 3 (ipykernel)",
   "language": "python",
   "name": "python3"
  },
  "language_info": {
   "codemirror_mode": {
    "name": "ipython",
    "version": 3
   },
   "file_extension": ".py",
   "mimetype": "text/x-python",
   "name": "python",
   "nbconvert_exporter": "python",
   "pygments_lexer": "ipython3",
   "version": "3.10.9"
  }
 },
 "nbformat": 4,
 "nbformat_minor": 5
}
