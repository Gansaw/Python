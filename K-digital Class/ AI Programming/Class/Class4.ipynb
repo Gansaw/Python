{
 "cells": [
  {
   "cell_type": "code",
   "execution_count": 8,
   "id": "47f7772a",
   "metadata": {
    "scrolled": true
   },
   "outputs": [
    {
     "name": "stdout",
     "output_type": "stream",
     "text": [
      "Gettysburg Address contains:  268 words.\n",
      "Gettysburg Address contains:  139 different words.\n",
      "\n",
      "Most common words, frequencies:\n",
      "      that: 13\n",
      "      the: 11\n",
      "      we: 10\n",
      "      to: 8\n",
      "      here: 8\n",
      "      a: 7\n",
      "      and: 6\n"
     ]
    }
   ],
   "source": [
    "# USing a Dictionary\n",
    "\n",
    "def formListOfWords(fileName):\n",
    "    infile = open(fileName)\n",
    "    originalLine = infile.readline().lower()\n",
    "    line = \"\"\n",
    "    for ch in originalLine:\n",
    "        if('a' <= ch <= 'z') or (ch == \" \"):\n",
    "            line = line + ch\n",
    "    listOfWords = line.split()\n",
    "    return listOfWords\n",
    "\n",
    "def createFrequencyDictionary(listOfWords):\n",
    "    freq = {}\n",
    "#     for word in listOfWords:\n",
    "#         freq[word] = 0\n",
    "    for word in listOfWords:\n",
    "#         freq[word] = freq[word] + 1\n",
    "        freq[word] = freq.get(word, 0) + 1\n",
    "    return freq\n",
    "\n",
    "def displayWordCount(listOfWords, freq):\n",
    "    print(\"Gettysburg Address contains: \", len(listOfWords), \"words.\")\n",
    "    print(\"Gettysburg Address contains: \", len(freq), \"different words.\")    \n",
    "    print()\n",
    "    \n",
    "\n",
    "def displayMostCommonWords(freq):\n",
    "    print(\"Most common words, frequencies:\")    \n",
    "#     listOfMostCommonWords = []    \n",
    "#     for word in freq.keys():\n",
    "#         if freq[word] >= 6:\n",
    "#             listOfMostCommonWords.append((word, freq[word]))\n",
    "    listOfMostCommonWords = [[word, freq[word]] for word in freq if freq[word] >= 6]        \n",
    "    listOfMostCommonWords.sort(key = lambda x: x[1], reverse = True)\n",
    "    for item in listOfMostCommonWords:\n",
    "        print(\"     \", item[0] + \":\", item[1])\n",
    "    \n",
    "    \n",
    "\n",
    "\n",
    "def main():\n",
    "    listOfWords = formListOfWords(\"Gettysburg.txt\")\n",
    "    freq = createFrequencyDictionary(listOfWords)\n",
    "    displayWordCount(listOfWords, freq)\n",
    "    displayMostCommonWords(freq)\n",
    "    \n",
    "\n",
    "main()"
   ]
  },
  {
   "cell_type": "code",
   "execution_count": 13,
   "id": "83a796cd",
   "metadata": {},
   "outputs": [
    {
     "data": {
      "text/plain": [
       "34.8"
      ]
     },
     "execution_count": 13,
     "metadata": {},
     "output_type": "execute_result"
    }
   ],
   "source": [
    "import pickle\n",
    "\n",
    "infile = open('UNdict.dat', 'rb')\n",
    "countries = pickle.load(infile)\n",
    "infile.close()\n",
    "\n",
    "countries['Canada']['popl']"
   ]
  },
  {
   "cell_type": "code",
   "execution_count": 43,
   "id": "4c59bcdd",
   "metadata": {},
   "outputs": [
    {
     "name": "stdout",
     "output_type": "stream",
     "text": [
      "Enter a word: thirsty\n",
      "The word has three consecutive letters \n",
      "in consecutive in the alphabet.\n"
     ]
    }
   ],
   "source": [
    "# Alphabetical Order\n",
    "\n",
    "def isTripleConsecutive(word):    \n",
    "    for i in range(len(word) - 2):        \n",
    "        if word[i].isalpha() and ord(word[i]) == ord(word[i+1]) - 1 == ord(word[i+2]) - 2:\n",
    "            return True\n",
    "        \n",
    "    return False\n",
    "\n",
    "def getInit():\n",
    "    word = input(\"Enter a word: \")\n",
    "    return word\n",
    "    \n",
    "\n",
    "def main():    \n",
    "    word = getInit()    \n",
    "    if isTripleConsecutive(word.upper()):\n",
    "        print(\"The word has three consecutive letters \\nin consecutive in the alphabet.\")\n",
    "    else:\n",
    "        print(\"The word doesn't have three consecutive letters \\nin consecutive in the alphabet.\")\n",
    "    \n",
    "main()"
   ]
  },
  {
   "cell_type": "code",
   "execution_count": 5,
   "id": "64abb09b",
   "metadata": {},
   "outputs": [
    {
     "name": "stdout",
     "output_type": "stream",
     "text": [
      "UNITS OF LENGTH\n",
      "inches      furlongs    yards       \n",
      "fathoms     feet        kilometers  \n",
      "meters      miles       rods        \n",
      "\n",
      "Unit to convert from: yards\n",
      "Unit to convert to: miles\n",
      "Enter length in yards: 555\n",
      "Length in miles: 0.3153\n"
     ]
    }
   ],
   "source": [
    "# Unit conversion\n",
    "\n",
    "def readUnits(fileName):\n",
    "    infile = open(fileName, 'r')\n",
    "    dic = {}\n",
    "    for line in infile:\n",
    "        name, value = line.split(',')\n",
    "        dic[name] = float(value)\n",
    "    infile.close()\n",
    "    return dic\n",
    "\n",
    "\n",
    "def convertUnits(unit_from, unit_to, length, dic):\n",
    "    if unit_from not in dic or unit_to not in dic:\n",
    "        return None\n",
    "    else:\n",
    "        dic_from = dic[unit_from]\n",
    "        dic_to = dic[unit_to]\n",
    "        convert_result = length * (dic_from / dic_to)\n",
    "        return convert_result\n",
    "\n",
    "\n",
    "def getInput():\n",
    "    unit_from = input(\"Unit to convert from: \")\n",
    "    unit_to = input(\"Unit to convert to: \")\n",
    "    length = float(input(f\"Enter length in {unit_from}: \"))\n",
    "    return unit_from, unit_to, length\n",
    "\n",
    "\n",
    "def main():\n",
    "    fileName = 'Units.txt'\n",
    "    dic = readUnits(fileName)\n",
    "    \n",
    "    print(\"UNITS OF LENGTH\")\n",
    "    units = list(dic.keys())\n",
    "    for i, unit in enumerate(units, start=1):\n",
    "        if i % 3 == 0:\n",
    "            print(f\"{unit:<12}\")\n",
    "        else:\n",
    "            print(f\"{unit:<12}\", end='')\n",
    "\n",
    "    print()\n",
    "\n",
    "    unit_from, unit_to, length = getInput()\n",
    "    convert_result = convertUnits(unit_from, unit_to, length, dic)\n",
    "    print(f\"Length in {unit_to}: {convert_result:.4f}\")\n",
    "\n",
    "    \n",
    "main()"
   ]
  },
  {
   "cell_type": "code",
   "execution_count": 11,
   "id": "c147e15e",
   "metadata": {},
   "outputs": [
    {
     "name": "stdout",
     "output_type": "stream",
     "text": [
      "Enter number: hi\n",
      "Error found!\n",
      "Error message: invalid literal for int() with base 10: 'hi'\n"
     ]
    }
   ],
   "source": [
    "# try - except\n",
    "try:\n",
    "    num = int(input(\"Enter number: \"))\n",
    "    print(f\"Entered number: {num}\")\n",
    "except ValueError as exp:\n",
    "    print(\"Error found!\")\n",
    "    print(f\"Error message: {exp}\")"
   ]
  },
  {
   "cell_type": "code",
   "execution_count": 29,
   "id": "3e50f20e",
   "metadata": {},
   "outputs": [
    {
     "name": "stdout",
     "output_type": "stream",
     "text": [
      "Enter filename: num.txt\n",
      "float division by zero\n"
     ]
    }
   ],
   "source": [
    "def main():\n",
    "    try:\n",
    "        fileName = input(\"Enter filename: \")\n",
    "        infile = open(fileName, 'r')\n",
    "        num = float(infile.readline())\n",
    "        print(1/num)\n",
    "    except FileNotFoundError as err1:\n",
    "        print(err1)\n",
    "    except ValueError as err2:\n",
    "        print(err2)\n",
    "    except ZeroDivisionError as err3:\n",
    "        print(err3)\n",
    "    finally:\n",
    "        infile.close()\n",
    "\n",
    "main()"
   ]
  },
  {
   "cell_type": "code",
   "execution_count": 31,
   "id": "4cd072ce",
   "metadata": {},
   "outputs": [
    {
     "name": "stdout",
     "output_type": "stream",
     "text": [
      "Enter filename: num.txt\n",
      "ZeroDivisionError is occured\n",
      "float division by zero\n",
      "Try statement finish\n"
     ]
    }
   ],
   "source": [
    "def main():\n",
    "    try:\n",
    "        fileName = input(\"Enter filename: \")\n",
    "        infile = open(fileName, 'r')\n",
    "        num = float(infile.readline())\n",
    "        print(1/num)\n",
    "    except Exception as exc:\n",
    "        print(f\"{exc.__class__.__name__} is occured\")\n",
    "        print(exc)\n",
    "    else:\n",
    "        print(\"No error occured\")\n",
    "    finally:\n",
    "        infile.close()\n",
    "        print(\"Try statement finish\")\n",
    "\n",
    "main()"
   ]
  },
  {
   "cell_type": "code",
   "execution_count": 45,
   "id": "3ef751ca",
   "metadata": {},
   "outputs": [
    {
     "name": "stdout",
     "output_type": "stream",
     "text": [
      "Select Iteration: 10000\n",
      "\n",
      "Cherries: 2488 (0.2488)\n",
      "Oranges: 2488 (0.2488)\n",
      "Melon: 1467 (0.1467)\n",
      "Plums: 2498 (0.2498)\n",
      "Bell: 519 (0.0519)\n",
      "Bar: 540 (0.054)\n"
     ]
    }
   ],
   "source": [
    "import random\n",
    "\n",
    "def main():\n",
    "#     for i in range(3):\n",
    "#         outcome = spinWheel()\n",
    "#         print(outcome, end = \" \")\n",
    "    num = int(input(\"Select Iteration: \"))\n",
    "    print()\n",
    "    dict_cnt = {}\n",
    "    for _ in range(num):\n",
    "        outcome = spinWheel()\n",
    "        dict_cnt[outcome] = dict_cnt.get(outcome, 0) + 1\n",
    "        \n",
    "    for k, v in dict_cnt.items():\n",
    "        print(f\"{k}: {v} ({v/num})\")\n",
    "        \n",
    "def spinWheel():\n",
    "    n = random.randint(1,20)\n",
    "    if n > 15:\n",
    "        return \"Cherries\"\n",
    "    elif n > 10:\n",
    "        return \"Oranges\"\n",
    "    elif n > 5:\n",
    "        return \"Plums\"\n",
    "    elif n > 2:\n",
    "        return \"Melon\"\n",
    "    elif n > 1:\n",
    "        return \"Bell\"\n",
    "    else:\n",
    "        return \"Bar\"\n",
    "    \n",
    "main()"
   ]
  }
 ],
 "metadata": {
  "kernelspec": {
   "display_name": "Python 3 (ipykernel)",
   "language": "python",
   "name": "python3"
  },
  "language_info": {
   "codemirror_mode": {
    "name": "ipython",
    "version": 3
   },
   "file_extension": ".py",
   "mimetype": "text/x-python",
   "name": "python",
   "nbconvert_exporter": "python",
   "pygments_lexer": "ipython3",
   "version": "3.10.9"
  }
 },
 "nbformat": 4,
 "nbformat_minor": 5
}
