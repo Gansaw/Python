{
 "cells": [
  {
   "cell_type": "code",
   "execution_count": 2,
   "id": "2df1f90e",
   "metadata": {},
   "outputs": [
    {
     "name": "stdout",
     "output_type": "stream",
     "text": [
      "숫자를 입력하세요: 5\n",
      "5은(는) 홀수입니다.\n"
     ]
    }
   ],
   "source": [
    "# 조건문 => if-else\n",
    "num = int(input(\"숫자를 입력하세요: \"))\n",
    "\n",
    "if num % 2 == 0:\n",
    "    print(f\"{num}은(는) 짝수입니다.\")\n",
    "else:\n",
    "    print(f\"{num}은(는) 홀수입니다.\")"
   ]
  },
  {
   "cell_type": "code",
   "execution_count": 4,
   "id": "762d7a16",
   "metadata": {},
   "outputs": [
    {
     "name": "stdout",
     "output_type": "stream",
     "text": [
      "숫자를 입력하세요: -1\n",
      "음수입니다\n"
     ]
    }
   ],
   "source": [
    "# 조건문 => if-elif-else\n",
    "num = int(input(\"숫자를 입력하세요: \"))\n",
    "\n",
    "if num > 0:\n",
    "    print(\"양수입니다\")\n",
    "elif num < 0:\n",
    "    print(\"음수입니다\")\n",
    "else:\n",
    "    print(\"0입니다\")"
   ]
  },
  {
   "cell_type": "code",
   "execution_count": 6,
   "id": "4e14039e",
   "metadata": {},
   "outputs": [
    {
     "name": "stdout",
     "output_type": "stream",
     "text": [
      "문자열을 입력하세요: Happy Birthday to you\n",
      "문자열의 길이는 21 입니다.\n"
     ]
    }
   ],
   "source": [
    "# 문자열 조건문\n",
    "string = input(\"문자열을 입력하세요: \")\n",
    "length = len(string) if string else 0\n",
    "print(\"문자열의 길이는\", length, \"입니다.\")"
   ]
  },
  {
   "cell_type": "code",
   "execution_count": 26,
   "id": "134b0f36",
   "metadata": {},
   "outputs": [
    {
     "name": "stdout",
     "output_type": "stream",
     "text": [
      "[성적 계산기]\n",
      "\n",
      "국어 성적을 입력하세요: 89\n",
      "영어 성적을 입력하세요: 79\n",
      "수학 성적을 입력하세요: 78\n",
      "\n",
      "[성적 결과]\n",
      "국어 : 89점, 영어 : 79점, 수학 : 78점\n",
      "각 과목의 평균 점수 : 89.00점, 79.00점, 78.00점\n",
      "총 평균 점수 : 82.80점\n",
      "학점 :  B\n"
     ]
    }
   ],
   "source": [
    "a = \"[성적 계산기]\"\n",
    "b = \"[성적 결과]\"\n",
    "\n",
    "print(a)\n",
    "print(\"\")\n",
    "kor = int(input(\"국어 성적을 입력하세요: \"))\n",
    "eng = int(input(\"영어 성적을 입력하세요: \"))\n",
    "math = int(input(\"수학 성적을 입력하세요: \"))\n",
    "\n",
    "score = 0.4*kor + 0.4*eng + 0.2*math\n",
    "\n",
    "##grade = \"A\" if score >= 90 else (\"B\" if score >= 80 else (\"C\" if score >= 70 else (\"D\" if score >= 60 else \"F\")))\n",
    "\n",
    "if score >= 90:\n",
    "    grade = \"A\"\n",
    "elif score >= 80:\n",
    "    grade = \"B\"\n",
    "elif score >= 70:\n",
    "    grade = \"C\"\n",
    "elif score >= 60:\n",
    "    grade = \"D\"\n",
    "else:\n",
    "    grade = \"F\"\n",
    "\n",
    "print(\"\")\n",
    "print(b)\n",
    "print(f\"국어 : {kor}점, 영어 : {eng}점, 수학 : {math}점\")\n",
    "print(f\"각 과목의 평균 점수 : {kor:.2f}점, {eng:.2f}점, {math:.2f}점\")\n",
    "print(f\"총 평균 점수 : {score:.2f}점\")\n",
    "print(\"학점 : \", grade)"
   ]
  },
  {
   "cell_type": "code",
   "execution_count": 27,
   "id": "138e53f0",
   "metadata": {},
   "outputs": [
    {
     "name": "stdout",
     "output_type": "stream",
     "text": [
      "첫 번째 수를 입력하세요: 5\n",
      "두 번째 수를 입력하세요: 8\n",
      "큰 수는 8.0 입니다.\n"
     ]
    }
   ],
   "source": [
    "# 중첩 if문\n",
    "num1 = float(input(\"첫 번째 수를 입력하세요: \"))\n",
    "num2 = float(input(\"두 번째 수를 입력하세요: \"))\n",
    "\n",
    "if num1 > num2:\n",
    "    print(\"큰 수는\", num1, \"입니다.\")\n",
    "else:\n",
    "    if num1 == num2:\n",
    "        print(\"두 수는 같습니다.\")\n",
    "    else:\n",
    "        print(\"큰 수는\", num2, \"입니다.\")"
   ]
  },
  {
   "cell_type": "code",
   "execution_count": 33,
   "id": "a97ecd99",
   "metadata": {},
   "outputs": [
    {
     "name": "stdout",
     "output_type": "stream",
     "text": [
      "길이를 입력하세요(inch) 1\n",
      "1 인치 =  2.54 cm\n"
     ]
    }
   ],
   "source": [
    "inch = int(input(\"길이를 입력하세요(inch) \"))\n",
    "\n",
    "if inch > 0:\n",
    "    print(inch, \"인치 = \", 2.54*inch, \"cm\")\n",
    "elif inch < 0:\n",
    "    print(\"잘못 입력하였습니다.\")\n",
    "else:\n",
    "    print(\"0 cm\")\n",
    "    "
   ]
  },
  {
   "cell_type": "code",
   "execution_count": 34,
   "id": "57268cc5",
   "metadata": {},
   "outputs": [
    {
     "name": "stdout",
     "output_type": "stream",
     "text": [
      "학점을 입력하세요 : 45\n",
      "2학년입니다.\n"
     ]
    }
   ],
   "source": [
    "학점 = int(input(\"학점을 입력하세요 : \"))\n",
    "\n",
    "if 학점 >= 80:\n",
    "    print(\"졸업반입니다.\")\n",
    "elif 학점 >= 40:\n",
    "    print(\"2학년입니다.\")\n",
    "else:\n",
    "    print(\"1학년입니다.\")"
   ]
  },
  {
   "cell_type": "code",
   "execution_count": null,
   "id": "382bec0e",
   "metadata": {},
   "outputs": [],
   "source": [
    "## 변수 지정\n",
    "time = int(input(\"Enter Hour: \"))\n",
    "apm = int(input(\"am (1) or pm (2)? \"))\n",
    "ahead = int(input(\"How many hours ahead? \"))\n",
    "result = (time + ahead) % 24\n",
    "\n",
    "## 1부터 12까지의 숫자만 입력\n",
    "if time < 1 or time > 12:\n",
    "    print(\"1 ~ 12 사이의 숫자를 입력하세요.\")\n",
    "\n",
    "## AM 조건\n",
    "if apm == 1:\n",
    "    if result > 12:\n",
    "        print(f\"New hour : {result-12} pm\")\n",
    "    elif result == 12:\n",
    "        print(f\"New hour : {result} pm\")\n",
    "    else:\n",
    "        print(f\"New hour : {result} am\")\n",
    "## PM 조건\n",
    "elif apm == 2: \n",
    "    if result > 12:\n",
    "        print(f\"New hour : {result-12} am\")\n",
    "    elif result == 12:\n",
    "        print(f\"New hour : {result} am\")\n",
    "    else:\n",
    "        print(f\"New hour : {result} pm\")    \n",
    "else:\n",
    "    print(\"am은 1, pm은 2를 입력해주세요\")"
   ]
  },
  {
   "cell_type": "code",
   "execution_count": null,
   "id": "5ca3c572",
   "metadata": {},
   "outputs": [],
   "source": []
  },
  {
   "cell_type": "code",
   "execution_count": null,
   "id": "3fd0721d",
   "metadata": {},
   "outputs": [],
   "source": []
  },
  {
   "cell_type": "code",
   "execution_count": null,
   "id": "9b9744bd",
   "metadata": {},
   "outputs": [],
   "source": []
  }
 ],
 "metadata": {
  "kernelspec": {
   "display_name": "Python 3 (ipykernel)",
   "language": "python",
   "name": "python3"
  },
  "language_info": {
   "codemirror_mode": {
    "name": "ipython",
    "version": 3
   },
   "file_extension": ".py",
   "mimetype": "text/x-python",
   "name": "python",
   "nbconvert_exporter": "python",
   "pygments_lexer": "ipython3",
   "version": "3.10.9"
  }
 },
 "nbformat": 4,
 "nbformat_minor": 5
}
