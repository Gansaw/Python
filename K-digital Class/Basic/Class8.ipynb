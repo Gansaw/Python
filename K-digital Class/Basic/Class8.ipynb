{
 "cells": [
  {
   "cell_type": "code",
   "execution_count": 10,
   "id": "a7beb0dd",
   "metadata": {},
   "outputs": [
    {
     "name": "stdout",
     "output_type": "stream",
     "text": [
      "Hello, world!\n",
      "This is an example file.\n",
      "We will use it to demonstrate file writing in Python.\n",
      "We can write multiple lines at once.\n",
      "\n"
     ]
    }
   ],
   "source": [
    "file = open(\"example.txt\", \"r\")\n",
    "\n",
    "# 파일 내용 전체를 읽습니다.\n",
    "content = file.read()\n",
    "print(content)\n",
    "\n",
    "file.close()  # 파일을 닫습니다."
   ]
  },
  {
   "cell_type": "code",
   "execution_count": 8,
   "id": "50f9c164",
   "metadata": {},
   "outputs": [
    {
     "name": "stdout",
     "output_type": "stream",
     "text": [
      "Hello, world!\n",
      "\n"
     ]
    }
   ],
   "source": [
    "file = open(\"example.txt\", \"r\")\n",
    "\n",
    "# 파일에서 한 줄을 읽습니다.\n",
    "line = file.readline()\n",
    "print(line)\n",
    "\n",
    "file.close()  # 파일을 닫습니다."
   ]
  },
  {
   "cell_type": "code",
   "execution_count": 9,
   "id": "ccaa5bb0",
   "metadata": {},
   "outputs": [
    {
     "name": "stdout",
     "output_type": "stream",
     "text": [
      "['Hello, world!\\n', 'This is an example file.\\n', 'We will use it to demonstrate file writing in Python.\\n', 'We can write multiple lines at once.\\n']\n"
     ]
    }
   ],
   "source": [
    "file = open(\"example.txt\", \"r\")\n",
    "\n",
    "# 파일 전체를 읽고 각 줄을 리스트로 반환합니다.\n",
    "lines = file.readlines()\n",
    "print(lines)\n",
    "\n",
    "file.close()  # 파일을 닫습니다."
   ]
  },
  {
   "cell_type": "code",
   "execution_count": 6,
   "id": "8e1a330f",
   "metadata": {},
   "outputs": [],
   "source": [
    "file = open(\"example.txt\", \"w\")\n",
    "\n",
    "# 파일에 문자열을 씁니다.\n",
    "file.write(\"Hello, world!\\n\")\n",
    "file.write(\"This is an example file.\\n\")\n",
    "\n",
    "# 파일에 문자열의 리스트를 씁니다.\n",
    "lines = [\"We will use it to demonstrate file writing in Python.\\n\",\n",
    "         \"We can write multiple lines at once.\\n\"]\n",
    "file.writelines(lines)\n",
    "\n",
    "file.close()  # 파일을 닫습니다."
   ]
  },
  {
   "cell_type": "code",
   "execution_count": 11,
   "id": "f100ab1b",
   "metadata": {},
   "outputs": [
    {
     "name": "stdout",
     "output_type": "stream",
     "text": [
      "Hello, world!\n",
      "This is an example file.\n",
      "We will use it to demonstrate file writing in Python.\n",
      "We can write multiple lines at once.\n",
      "\n"
     ]
    }
   ],
   "source": [
    "with open(\"example.txt\", \"r\") as file:\n",
    "    # 파일 내용 전체를 읽습니다.\n",
    "    content = file.read()\n",
    "    print(content)"
   ]
  },
  {
   "cell_type": "code",
   "execution_count": 18,
   "id": "7f2148ac",
   "metadata": {},
   "outputs": [
    {
     "name": "stdout",
     "output_type": "stream",
     "text": [
      "read() 함수 예시:\n",
      "Hello, world!\n",
      "This is an example file.\n",
      "We will use it to demonstrate file writing in Python.\n",
      "We can write multiple lines at once.\n",
      "\n",
      "\n",
      "readline() 함수 예시:\n",
      "Hello, world!\n",
      "\n",
      "\n",
      "readlines() 함수 예시:\n",
      "['Hello, world!\\n', 'This is an example file.\\n', 'We will use it to demonstrate file writing in Python.\\n', 'We can write multiple lines at once.\\n']\n"
     ]
    }
   ],
   "source": [
    "with open(\"example.txt\", \"r\") as file:\n",
    "    # 파일 내용 전체를 읽습니다.\n",
    "    content = file.read()\n",
    "    print(\"read() 함수 예시:\")\n",
    "    print(content)\n",
    "\n",
    "    # 파일에서 한 줄을 읽습니다.\n",
    "    file.seek(0)  # 파일 포인터를 처음으로 돌립니다.\n",
    "    line = file.readline()\n",
    "    print(\"\\nreadline() 함수 예시:\")\n",
    "    print(line)\n",
    "\n",
    "    # 파일 전체를 읽고 각 줄을 리스트로 반환합니다.\n",
    "    file.seek(0)  # 파일 포인터를 처음으로 돌립니다.\n",
    "    lines = file.readlines()\n",
    "    print(\"\\nreadlines() 함수 예시:\")\n",
    "    print(lines)"
   ]
  }
 ],
 "metadata": {
  "kernelspec": {
   "display_name": "Python 3 (ipykernel)",
   "language": "python",
   "name": "python3"
  },
  "language_info": {
   "codemirror_mode": {
    "name": "ipython",
    "version": 3
   },
   "file_extension": ".py",
   "mimetype": "text/x-python",
   "name": "python",
   "nbconvert_exporter": "python",
   "pygments_lexer": "ipython3",
   "version": "3.10.9"
  }
 },
 "nbformat": 4,
 "nbformat_minor": 5
}
