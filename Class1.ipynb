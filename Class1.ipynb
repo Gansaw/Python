{
 "cells": [
  {
   "cell_type": "code",
   "execution_count": 1,
   "id": "44c53d74",
   "metadata": {},
   "outputs": [
    {
     "name": "stdout",
     "output_type": "stream",
     "text": [
      "<module 'keyword' from 'C:\\\\Users\\\\user\\\\anaconda3\\\\lib\\\\keyword.py'> True\n"
     ]
    }
   ],
   "source": [
    "#예약어\n",
    "import keyword\n",
    "print(keyword, True)"
   ]
  },
  {
   "cell_type": "code",
   "execution_count": 2,
   "id": "95fd02a9",
   "metadata": {},
   "outputs": [
    {
     "name": "stdout",
     "output_type": "stream",
     "text": [
      "314.1592653589793\n"
     ]
    }
   ],
   "source": [
    "#상수\n",
    "PI = 3.141592653589793  # 상수 PI에 값을 저장\n",
    "radius = 10  # 반지름을 저장하는 변수\n",
    "area = PI * radius * radius  # 원의 면적을 계산하여 변수에 저장\n",
    "print(area)  # 변수의 값을 출력"
   ]
  },
  {
   "cell_type": "code",
   "execution_count": 4,
   "id": "8e2d4733",
   "metadata": {},
   "outputs": [
    {
     "name": "stdout",
     "output_type": "stream",
     "text": [
      "100\n",
      "-100\n"
     ]
    }
   ],
   "source": [
    "#양의 정수\n",
    "x = 100\n",
    "print(x)\n",
    "\n",
    "#음의 정수\n",
    "y = -100\n",
    "print(y)"
   ]
  },
  {
   "cell_type": "code",
   "execution_count": 6,
   "id": "25f00b3c",
   "metadata": {},
   "outputs": [
    {
     "name": "stdout",
     "output_type": "stream",
     "text": [
      "42\n",
      "42\n",
      "42\n",
      "42\n"
     ]
    }
   ],
   "source": [
    "# 10진수\n",
    "x = 42\n",
    "print(x)    # 출력: 42\n",
    "\n",
    "# 2진수\n",
    "y = 0b101010\n",
    "print(y)    # 출력: 42\n",
    "\n",
    "# 8진수\n",
    "z = 0o52\n",
    "print(z)    # 출력: 42\n",
    "\n",
    "# 16진수\n",
    "w = 0x2a\n",
    "print(w)    # 출력: 42"
   ]
  },
  {
   "cell_type": "code",
   "execution_count": 7,
   "id": "6fab9ed9",
   "metadata": {},
   "outputs": [
    {
     "name": "stdout",
     "output_type": "stream",
     "text": [
      "(6+1j)\n",
      "(14+8j)\n",
      "(0.1+0.8j)\n",
      "(-5+12j)\n"
     ]
    }
   ],
   "source": [
    "#복소수\n",
    "\n",
    "# 복소수 생성\n",
    "z1 = 2 + 3j\n",
    "z2 = complex(4, -2)\n",
    "\n",
    "# 복소수 연산\n",
    "z3 = z1 + z2\n",
    "z4 = z1 * z2\n",
    "z5 = z1 / z2\n",
    "z6 = z1 ** 2\n",
    "\n",
    "# 결과 출력\n",
    "print(z3)   # (6+1j)\n",
    "print(z4)   # (14+8j)\n",
    "print(z5)   # (-0.4+0.7j)\n",
    "print(z6)   # (-5+12j)"
   ]
  },
  {
   "cell_type": "code",
   "execution_count": 8,
   "id": "b6d0a885",
   "metadata": {},
   "outputs": [
    {
     "name": "stdout",
     "output_type": "stream",
     "text": [
      "3.0\n",
      "4.0\n"
     ]
    }
   ],
   "source": [
    "z = 3 + 4j\n",
    "print(z.real)  # 출력: 3.0\n",
    "print(z.imag)  # 출력: 4.0"
   ]
  },
  {
   "cell_type": "code",
   "execution_count": 11,
   "id": "e33ae32e",
   "metadata": {},
   "outputs": [
    {
     "name": "stdout",
     "output_type": "stream",
     "text": [
      "Hello, world!\n",
      "It's a beautiful day.\n",
      "Hello, world!\n",
      "It's a beautiful day.\n",
      "This is a\n",
      "multi-line\n",
      "string.\n",
      "This is also a\n",
      "multi-line\n",
      "string.\n"
     ]
    }
   ],
   "source": [
    "#문자열\n",
    "string1 = \"Hello, world!\"\n",
    "string2 = \"It's a beautiful day.\"\n",
    "\n",
    "string3 = 'Hello, world!'\n",
    "string4 = \"It's a beautiful day.\"\n",
    "\n",
    "string5 = \"\"\"This is a\n",
    "multi-line\n",
    "string.\"\"\"\n",
    "string6 = '''This is also a\n",
    "multi-line\n",
    "string.'''\n",
    "\n",
    "print(string1)\n",
    "print(string2)\n",
    "print(string3)\n",
    "print(string4)\n",
    "print(string5)\n",
    "print(string6)"
   ]
  },
  {
   "cell_type": "code",
   "execution_count": 13,
   "id": "533fac59",
   "metadata": {},
   "outputs": [
    {
     "name": "stdout",
     "output_type": "stream",
     "text": [
      "spamspamspam\n",
      "7\n"
     ]
    }
   ],
   "source": [
    "#문자열\n",
    "word = \"spam\"\n",
    "repeated = word * 3\n",
    "print(repeated) # \"spamspamspam\" 출력\n",
    "string = \"Hello, World!\"\n",
    "position = string.find(\"World\")\n",
    "print(position) # 7 출력"
   ]
  },
  {
   "cell_type": "code",
   "execution_count": 15,
   "id": "7bd8f2a5",
   "metadata": {},
   "outputs": [
    {
     "name": "stdout",
     "output_type": "stream",
     "text": [
      "False\n",
      "True\n",
      "False\n",
      "True\n",
      "False\n"
     ]
    }
   ],
   "source": [
    "# Boolean\n",
    "\n",
    "a = True\n",
    "b = False\n",
    "\n",
    "print(a and b)\n",
    "print(a or b)\n",
    "print(not a)\n",
    "\n",
    "c = 3\n",
    "d = 5\n",
    "print(c < d)\n",
    "print (c > d)"
   ]
  },
  {
   "cell_type": "code",
   "execution_count": 18,
   "id": "e381423e",
   "metadata": {},
   "outputs": [
    {
     "ename": "TypeError",
     "evalue": "unsupported operand type(s) for +: 'int' and 'str'",
     "output_type": "error",
     "traceback": [
      "\u001b[1;31m---------------------------------------------------------------------------\u001b[0m",
      "\u001b[1;31mTypeError\u001b[0m                                 Traceback (most recent call last)",
      "Cell \u001b[1;32mIn[18], line 4\u001b[0m\n\u001b[0;32m      2\u001b[0m num \u001b[38;5;241m=\u001b[39m \u001b[38;5;241m10\u001b[39m\n\u001b[0;32m      3\u001b[0m text \u001b[38;5;241m=\u001b[39m \u001b[38;5;124m\"\u001b[39m\u001b[38;5;124mapple\u001b[39m\u001b[38;5;124m\"\u001b[39m\n\u001b[1;32m----> 4\u001b[0m \u001b[38;5;28mprint\u001b[39m(\u001b[43mnum\u001b[49m\u001b[43m \u001b[49m\u001b[38;5;241;43m+\u001b[39;49m\u001b[43m \u001b[49m\u001b[43mtext\u001b[49m)\n\u001b[0;32m      6\u001b[0m \u001b[38;5;66;03m#TypeChange\u001b[39;00m\n\u001b[0;32m      7\u001b[0m numb1 \u001b[38;5;241m=\u001b[39m \u001b[38;5;241m10\u001b[39m\n",
      "\u001b[1;31mTypeError\u001b[0m: unsupported operand type(s) for +: 'int' and 'str'"
     ]
    }
   ],
   "source": [
    "#TypeError\n",
    "num = 10\n",
    "text = \"apple\"\n",
    "print(num + text)"
   ]
  },
  {
   "cell_type": "code",
   "execution_count": 20,
   "id": "e1f7125a",
   "metadata": {},
   "outputs": [
    {
     "name": "stdout",
     "output_type": "stream",
     "text": [
      "10apple\n"
     ]
    }
   ],
   "source": [
    "#TypeChange\n",
    "num = 10\n",
    "text = \"apple\"\n",
    "print(str(num) + text)"
   ]
  },
  {
   "cell_type": "code",
   "execution_count": 21,
   "id": "2922e089",
   "metadata": {},
   "outputs": [
    {
     "name": "stdout",
     "output_type": "stream",
     "text": [
      "<class 'int'>\n",
      "<class 'float'>\n",
      "<class 'str'>\n",
      "<class 'bool'>\n"
     ]
    }
   ],
   "source": [
    "#TypeChange2\n",
    "num = 10\n",
    "float_num = float(num)\n",
    "str_num = str(num)\n",
    "bool_num = bool(num)\n",
    "\n",
    "print(type(num))         # <class 'int'>\n",
    "print(type(float_num))   # <class 'float'>\n",
    "print(type(str_num))     # <class 'str'>\n",
    "print(type(bool_num))    # <class 'bool'>"
   ]
  },
  {
   "cell_type": "code",
   "execution_count": 24,
   "id": "6c8af44e",
   "metadata": {},
   "outputs": [
    {
     "name": "stdout",
     "output_type": "stream",
     "text": [
      "['apple', 'banana', 'cherry']\n",
      "banana\n",
      "['apple', 'orange', 'cherry']\n"
     ]
    }
   ],
   "source": [
    "#리스트 => 대괄호\n",
    "fruits = [\"apple\", \"banana\", \"cherry\"]\n",
    "print(fruits)\n",
    "print(fruits[1])\n",
    "fruits[1] = \"orange\"\n",
    "print(fruits)"
   ]
  },
  {
   "cell_type": "code",
   "execution_count": 22,
   "id": "1a6af645",
   "metadata": {
    "scrolled": true
   },
   "outputs": [
    {
     "name": "stdout",
     "output_type": "stream",
     "text": [
      "('apple', 'banana', 'cherry')\n",
      "banana\n"
     ]
    }
   ],
   "source": [
    "#튜플 => 소괄호\n",
    "fruits = ('apple','banana','cherry')\n",
    "print(fruits)\n",
    "print(fruits[1])"
   ]
  },
  {
   "cell_type": "code",
   "execution_count": 23,
   "id": "4da05ec0",
   "metadata": {},
   "outputs": [
    {
     "name": "stdout",
     "output_type": "stream",
     "text": [
      "{'apple': 3, 'banana': 2, 'cherry': 5}\n",
      "2\n",
      "{'apple': 3, 'banana': 2, 'cherry': 5, 'orange': 4}\n"
     ]
    }
   ],
   "source": [
    "#딕셔너리 => 중괄호\n",
    "fruits = {\"apple\": 3, \"banana\": 2, \"cherry\": 5}\n",
    "print(fruits)\n",
    "print(fruits[\"banana\"])\n",
    "fruits[\"orange\"] = 4\n",
    "print(fruits)"
   ]
  },
  {
   "cell_type": "code",
   "execution_count": 25,
   "id": "667a41ce",
   "metadata": {},
   "outputs": [
    {
     "name": "stdout",
     "output_type": "stream",
     "text": [
      "13\n",
      "7\n",
      "30\n",
      "3.3333333333333335\n",
      "1\n"
     ]
    }
   ],
   "source": [
    "#산술식\n",
    "# 산술연산자 사용 예제\n",
    "a = 10\n",
    "b = 3\n",
    "c = a + b\n",
    "d = a - b\n",
    "e = a * b\n",
    "f = a / b\n",
    "g = a % b\n",
    "print(c)  # 13 출력\n",
    "print(d)  # 7 출력\n",
    "print(e)  # 30 출력\n",
    "print(f)  # 3.3333333333333335 출력\n",
    "print(g)  # 1 출력"
   ]
  },
  {
   "cell_type": "code",
   "execution_count": 26,
   "id": "7c38d1f3",
   "metadata": {},
   "outputs": [
    {
     "name": "stdout",
     "output_type": "stream",
     "text": [
      "True\n",
      "False\n",
      "True\n",
      "True\n"
     ]
    }
   ],
   "source": [
    "# 멤버쉽 연산자 사용 예제\n",
    "a = [1, 2, 3, 4, 5]\n",
    "b = \"Hello, World!\"\n",
    "print(3 in a)  # True 출력\n",
    "print(6 in a)  # False 출력\n",
    "print(\"o\" in b)  # True 출력\n",
    "print(\"k\" not in b)  # True 출력"
   ]
  },
  {
   "cell_type": "code",
   "execution_count": 27,
   "id": "fc13b66b",
   "metadata": {},
   "outputs": [
    {
     "name": "stdout",
     "output_type": "stream",
     "text": [
      "False\n",
      "True\n",
      "True\n",
      "True\n"
     ]
    }
   ],
   "source": [
    "# 식별 연산자 사용 예제\n",
    "a = [1, 2, 3]\n",
    "b = [1, 2, 3]\n",
    "c = a\n",
    "print(a is b)  # False 출력\n",
    "print(a is not b)  # True 출력\n",
    "print(a is c)  # True 출력\n",
    "print(b is not c)  # True 출력"
   ]
  },
  {
   "cell_type": "code",
   "execution_count": 28,
   "id": "0e2e6d28",
   "metadata": {},
   "outputs": [
    {
     "name": "stdout",
     "output_type": "stream",
     "text": [
      "a < c or b > d\n"
     ]
    }
   ],
   "source": [
    "# 산술식 및 비교식 응용 예제\n",
    "x = 10\n",
    "y = 5\n",
    "a = x + y\n",
    "b = x - y\n",
    "c = x * y\n",
    "d = x / y\n",
    "\n",
    "if a > c and b < d:  # a가 c보다 크고, b가 d보다 작은 경우\n",
    "    print(\"a > c and b < d\")  # 출력 안 됨\n",
    "elif a < c or b > d:  # a가 c보다 작거나, b가 d보다 큰 경우\n",
    "    print(\"a < c or b > d\")  # \"a < c or b > d\" 출력\n",
    "else:\n",
    "    print(\"neither\")  # 출력 안 됨"
   ]
  },
  {
   "cell_type": "code",
   "execution_count": 33,
   "id": "403155df",
   "metadata": {},
   "outputs": [
    {
     "name": "stdout",
     "output_type": "stream",
     "text": [
      "My name is John, I'm 30 years old, and my height is 175.5.\n"
     ]
    }
   ],
   "source": [
    "# % 연산자를 이용한 포매팅\n",
    "name = \"John\"\n",
    "age = 30\n",
    "height = 175.5\n",
    "\n",
    "print(\"My name is %s, I'm %d years old, and my height is %.1f.\" % (name, age, height))\n",
    "# 출력 결과: \"My name is John, I'm 30 years old, and my height is 175.5.\""
   ]
  },
  {
   "cell_type": "code",
   "execution_count": 34,
   "id": "6153f238",
   "metadata": {},
   "outputs": [
    {
     "name": "stdout",
     "output_type": "stream",
     "text": [
      "num = 10\n",
      "pi = 3.141593\n",
      "pi = 3.14\n",
      "pi =       3.14\n"
     ]
    }
   ],
   "source": [
    "# 출력 형식 지정 예제\n",
    "num = 10\n",
    "pi = 3.14159265\n",
    "\n",
    "print(\"num = %d\" % num)  # 출력 결과: \"num = 10\"\n",
    "print(\"pi = %f\" % pi)  # 출력 결과: \"pi = 3.141593\"\n",
    "print(\"pi = %.2f\" % pi)  # 출력 결과: \"pi = 3.14\"\n",
    "print(\"pi = %10.2f\" % pi)  # 출력 결과: \"pi =       3.14\""
   ]
  },
  {
   "cell_type": "code",
   "execution_count": 35,
   "id": "49d778f2",
   "metadata": {},
   "outputs": [
    {
     "name": "stdout",
     "output_type": "stream",
     "text": [
      "Hello, John!\n",
      "The answer is 42.\n",
      "Pi is approximately 3.14.\n",
      "My name is Jane Doe and I am 25 years old.\n",
      "The decimal number 42 is equal to the binary number 0b101010.\n"
     ]
    }
   ],
   "source": [
    "# 문자열\n",
    "name = \"John\"\n",
    "print(\"Hello, %s!\" % name)\n",
    "\n",
    "# 정수\n",
    "num = 42\n",
    "print(\"The answer is %d.\" % num)\n",
    "\n",
    "# 실수\n",
    "pi = 3.14159\n",
    "print(\"Pi is approximately %.2f.\" % pi)\n",
    "\n",
    "# 여러 개의 변수\n",
    "first_name = \"Jane\"\n",
    "last_name = \"Doe\"\n",
    "age = 25\n",
    "print(\"My name is %s %s and I am %d years old.\" % (first_name, last_name, age))\n",
    "\n",
    "# 진수 변환\n",
    "decimal_num = 42\n",
    "binary_num = bin(decimal_num)\n",
    "print(\"The decimal number %d is equal to the binary number %s.\" % (decimal_num, binary_num))"
   ]
  },
  {
   "cell_type": "code",
   "execution_count": 51,
   "id": "e4cf6aa5",
   "metadata": {
    "scrolled": true
   },
   "outputs": [
    {
     "name": "stdout",
     "output_type": "stream",
     "text": [
      "My name is Tom and I am 20 years old\n",
      "I have 3 apples, 2 ornages, and 1 banana\n",
      "       The result is 1.23.\n",
      "         Your score is 90%.\n",
      "           10 + 20 = 30\n"
     ]
    }
   ],
   "source": [
    "#예제 1\n",
    "name = 'Tom'\n",
    "age = 20\n",
    "print(f\"My name is {name} and I am {age:d} years old\")\n",
    "\n",
    "a = 3\n",
    "b = 2\n",
    "c = 1\n",
    "print(f\"I have {a:d} apples, {b:d} ornages, and {c:d} banana\")\n",
    "\n",
    "result = 1.23\n",
    "print(f\"       The result is {result:.2f}.\")\n",
    "\n",
    "pt = 90\n",
    "print(f\"         Your score is {pt:d}%.\")\n",
    "\n",
    "d = 10\n",
    "e = 20\n",
    "print(f\"           {d} + {e} = {d+e}\")"
   ]
  },
  {
   "cell_type": "code",
   "execution_count": 52,
   "id": "7a025219",
   "metadata": {},
   "outputs": [
    {
     "name": "stdout",
     "output_type": "stream",
     "text": [
      "첫 번째 정수를 입력하세요: 3\n",
      "두 번째 정수를 입력하세요: 5\n",
      "3 + 5 = 8\n",
      "3 - 5 = -2\n",
      "3 * 5 = 15\n",
      "3 / 5 = 0.60\n"
     ]
    }
   ],
   "source": [
    "# input() 함수를 이용하여 사용자로부터 입력받아 계산하기\n",
    "num1 = int(input(\"첫 번째 정수를 입력하세요: \"))\n",
    "num2 = int(input(\"두 번째 정수를 입력하세요: \"))\n",
    "\n",
    "addition = num1 + num2\n",
    "subtraction = num1 - num2\n",
    "multiplication = num1 * num2\n",
    "division = num1 / num2\n",
    "\n",
    "print(f\"{num1} + {num2} = {addition}\")\n",
    "print(f\"{num1} - {num2} = {subtraction}\")\n",
    "print(f\"{num1} * {num2} = {multiplication}\")\n",
    "print(f\"{num1} / {num2} = {division:.2f}\")"
   ]
  },
  {
   "cell_type": "code",
   "execution_count": 69,
   "id": "6eb5c80c",
   "metadata": {},
   "outputs": [
    {
     "name": "stdout",
     "output_type": "stream",
     "text": [
      "사과 개수 : 2\n",
      "사과 가격 : 1000\n",
      "총 가격 : 2200\n"
     ]
    }
   ],
   "source": [
    "count = int(input(\"사과 개수 : \"))\n",
    "price = int(input(\"사과 가격 : \"))\n",
    "tax = 0.1\n",
    "\n",
    "result = count * (price*(1+tax))\n",
    "\n",
    "print(f\"총 가격 : {result:.0f}\")\n"
   ]
  },
  {
   "cell_type": "code",
   "execution_count": 78,
   "id": "41fba54a",
   "metadata": {},
   "outputs": [
    {
     "name": "stdout",
     "output_type": "stream",
     "text": [
      "몇 초인가요? 200\n",
      "변환 결과 : 3분 20초\n"
     ]
    }
   ],
   "source": [
    "inputsec = int(input(\"몇 초인가요? \"))\n",
    "min = inputsec//60\n",
    "sec = inputsec%60\n",
    "\n",
    "print(f\"변환 결과 : {min}분 {sec}초\")\n"
   ]
  },
  {
   "cell_type": "code",
   "execution_count": 77,
   "id": "eae768ca",
   "metadata": {},
   "outputs": [
    {
     "name": "stdout",
     "output_type": "stream",
     "text": [
      "몇 분인가요? 1550\n",
      "1550분은 1일 1시간 50분\n"
     ]
    }
   ],
   "source": [
    "inputmin = int(input(\"몇 분인가요? \"))\n",
    "day = inputmin // (60 * 24)\n",
    "remain = inputmin % (60*24)\n",
    "hour = remain // 60\n",
    "min = remain % 60\n",
    "\n",
    "print(f\"{inputmin}분은 {day}일 {hour}시간 {min}분\")"
   ]
  },
  {
   "cell_type": "code",
   "execution_count": 86,
   "id": "20170751",
   "metadata": {},
   "outputs": [
    {
     "name": "stdout",
     "output_type": "stream",
     "text": [
      "원리금 합계 : 6381408원\n"
     ]
    }
   ],
   "source": [
    "money = 5000000\n",
    "i = 0.05\n",
    "year = 5\n",
    "\n",
    "margin = money * (1+i)**year\n",
    "\n",
    "print(f\"원리금 합계 : {margin:.0f}원\")"
   ]
  },
  {
   "cell_type": "code",
   "execution_count": 87,
   "id": "195d77bf",
   "metadata": {},
   "outputs": [
    {
     "name": "stdout",
     "output_type": "stream",
     "text": [
      "금액을 입력하세요. 1000000\n",
      "이자율을 입력하세요(소수로)0.1\n",
      "연도를 입력하세요.10\n",
      "원리금 합계 : 2593742원\n"
     ]
    }
   ],
   "source": [
    "money = int(input(\"금액을 입력하세요. \"))\n",
    "i = float(input(\"이자율을 입력하세요(소수) \"))\n",
    "year = int(input(\"연도를 입력하세요.\"))\n",
    "\n",
    "margin = money * (1+i)**year\n",
    "\n",
    "print(f\"원리금 합계 : {margin:.0f}원\")"
   ]
  },
  {
   "cell_type": "code",
   "execution_count": 84,
   "id": "0a59e417",
   "metadata": {},
   "outputs": [
    {
     "name": "stdout",
     "output_type": "stream",
     "text": [
      "자연수 n을 입력하세요. 100\n",
      "1부터 100까지 합 : 5050\n"
     ]
    }
   ],
   "source": [
    "n = int(input(\"자연수 n을 입력하세요. \"))\n",
    "sum = ((1+n)*n)//2\n",
    "\n",
    "print(f\"1부터 {n}까지 합 : {sum}\")"
   ]
  },
  {
   "cell_type": "code",
   "execution_count": 88,
   "id": "c617d542",
   "metadata": {},
   "outputs": [
    {
     "name": "stdout",
     "output_type": "stream",
     "text": [
      "포도 개수 : 2\n",
      "딸기 개수 : 3\n",
      "총 무게 : 490.5g\n"
     ]
    }
   ],
   "source": [
    "grape = 75\n",
    "gnum = int(input(\"포도 개수 : \"))\n",
    "strawberry = 113.5\n",
    "snum = int(input(\"딸기 개수 : \"))\n",
    "total = grape * gnum + strawberry * snum\n",
    "\n",
    "print(f\"총 무게 : {total}g\")"
   ]
  }
 ],
 "metadata": {
  "kernelspec": {
   "display_name": "Python 3 (ipykernel)",
   "language": "python",
   "name": "python3"
  },
  "language_info": {
   "codemirror_mode": {
    "name": "ipython",
    "version": 3
   },
   "file_extension": ".py",
   "mimetype": "text/x-python",
   "name": "python",
   "nbconvert_exporter": "python",
   "pygments_lexer": "ipython3",
   "version": "3.10.9"
  }
 },
 "nbformat": 4,
 "nbformat_minor": 5
}
