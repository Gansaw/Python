{
 "cells": [
  {
   "cell_type": "markdown",
   "id": "5c18c927",
   "metadata": {},
   "source": [
    "1. 마르코프 체인(Markov Chain)이란?\n",
    "\n",
    "    + 마르코프 성질을 가진 이산확률\n",
    "    + 특정 상태의 확률은 오직 과거의 상태에 의존"
   ]
  },
  {
   "cell_type": "code",
   "execution_count": 1,
   "id": "1d273cb2",
   "metadata": {},
   "outputs": [
    {
     "name": "stdout",
     "output_type": "stream",
     "text": [
      "['sunny', 'rainy', 'sunny', 'sunny', 'sunny', 'sunny', 'sunny', 'sunny', 'rainy', 'sunny']\n"
     ]
    }
   ],
   "source": [
    "# 날씨 예측\n",
    "\n",
    "import numpy as np\n",
    "\n",
    "transition_matrix = np.atleast_2d([[0.7, 0.2, 0.1],\n",
    "                                   [0.1, 0.6, 0.3],\n",
    "                                   [0.2, 0.5, 0.3]])\n",
    "\n",
    "possible_states = [\"sunny\", \"rainy\", \"cloudy\"]\n",
    "start_state = \"sunny\"\n",
    "num = 10\n",
    "index_dict = {}\n",
    "future_state = []\n",
    "\n",
    "for index in range(len(possible_states)): # {'sunny': 0, 'rainy': 1, 'cloudy': 2}\n",
    "    index_dict[possible_states[index]] = index\n",
    "\n",
    "for _ in range(num):\n",
    "    new_state = np.random.choice(possible_states, p=transition_matrix[index_dict[start_state], :])\n",
    "    future_state.append(new_state)\n",
    "\n",
    "print (future_state) "
   ]
  }
 ],
 "metadata": {
  "kernelspec": {
   "display_name": "Python 3 (ipykernel)",
   "language": "python",
   "name": "python3"
  },
  "language_info": {
   "codemirror_mode": {
    "name": "ipython",
    "version": 3
   },
   "file_extension": ".py",
   "mimetype": "text/x-python",
   "name": "python",
   "nbconvert_exporter": "python",
   "pygments_lexer": "ipython3",
   "version": "3.11.4"
  }
 },
 "nbformat": 4,
 "nbformat_minor": 5
}
