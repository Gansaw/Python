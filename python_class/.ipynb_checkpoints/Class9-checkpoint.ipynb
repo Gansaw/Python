{
 "cells": [
  {
   "cell_type": "code",
   "execution_count": 2,
   "id": "c5fda25e",
   "metadata": {},
   "outputs": [
    {
     "name": "stdout",
     "output_type": "stream",
     "text": [
      "매칭된 문자열: python\n",
      "매칭되지 않음\n",
      "매칭되지 않음\n"
     ]
    }
   ],
   "source": [
    "import re\n",
    "\n",
    "# 문자열의 시작부터 정규표현식과 매칭되는 패턴 찾기\n",
    "pattern = r\"python\"\n",
    "string1 = \"python is easy\"\n",
    "string2 = \"I love python\"\n",
    "string3 = \"Python is fun\"\n",
    "\n",
    "match1 = re.match(pattern, string1)\n",
    "match2 = re.match(pattern, string2)\n",
    "match3 = re.match(pattern, string3)\n",
    "\n",
    "if match1:\n",
    "    print(\"매칭된 문자열:\", match1.group())  # 매칭된 문자열: python\n",
    "else:\n",
    "    print(\"매칭되지 않음\")\n",
    "\n",
    "if match2:\n",
    "    print(\"매칭된 문자열:\", match2.group())\n",
    "else:\n",
    "    print(\"매칭되지 않음\")\n",
    "\n",
    "if match3:\n",
    "    print(\"매칭된 문자열:\", match3.group())\n",
    "else:\n",
    "    print(\"매칭되지 않음\")\n"
   ]
  },
  {
   "cell_type": "code",
   "execution_count": 3,
   "id": "7d55efeb",
   "metadata": {},
   "outputs": [
    {
     "name": "stdout",
     "output_type": "stream",
     "text": [
      "매칭된 문자열: python\n",
      "매칭된 문자열: python\n",
      "매칭되지 않음\n"
     ]
    }
   ],
   "source": [
    "import re\n",
    "\n",
    "# 문자열 전체에서 정규표현식과 매칭되는 패턴 찾기\n",
    "pattern = r\"python\"\n",
    "string1 = \"python is easy\"\n",
    "string2 = \"I love python\"\n",
    "string3 = \"Python is fun\"\n",
    "\n",
    "match1 = re.search(pattern, string1)\n",
    "match2 = re.search(pattern, string2)\n",
    "match3 = re.search(pattern, string3)\n",
    "\n",
    "if match1:\n",
    "    print(\"매칭된 문자열:\", match1.group())  # 매칭된 문자열: python\n",
    "else:\n",
    "    print(\"매칭되지 않음\")\n",
    "\n",
    "if match2:\n",
    "    print(\"매칭된 문자열:\", match2.group())  # 매칭된 문자열: python\n",
    "else:\n",
    "    print(\"매칭되지 않음\")\n",
    "\n",
    "if match3:\n",
    "    print(\"매칭된 문자열:\", match3.group())\n",
    "else:\n",
    "    print(\"매칭되지 않음\")\n"
   ]
  },
  {
   "cell_type": "code",
   "execution_count": 5,
   "id": "31937b31",
   "metadata": {},
   "outputs": [
    {
     "name": "stdout",
     "output_type": "stream",
     "text": [
      "['2', '3']\n",
      "['1', '5']\n",
      "['12345678']\n"
     ]
    }
   ],
   "source": [
    "import re\n",
    "\n",
    "# 문자열에서 정규표현식과 매칭되는 모든 패턴 찾기\n",
    "\n",
    "# \\. : 소숫점 등 단순히 .을 나타냄\n",
    "pattern = r\"\\d+\"\n",
    "string1 = \"I have 2 apples and 3 oranges\"\n",
    "string2 = \"The temperature is -1.5 degrees Celsius\"\n",
    "string3 = \"The password is 12345678\"\n",
    "\n",
    "matches1 = re.findall(pattern, string1)\n",
    "matches2 = re.findall(pattern, string2)\n",
    "matches3 = re.findall(pattern, string3)\n",
    "\n",
    "print(matches1)  # ['2', '3']\n",
    "print(matches2)  # ['-1', '5']\n",
    "print(matches3)  # ['12345678']\n"
   ]
  },
  {
   "cell_type": "code",
   "execution_count": 6,
   "id": "f8ba2469",
   "metadata": {},
   "outputs": [
    {
     "name": "stdout",
     "output_type": "stream",
     "text": [
      "I have 10 apples and 10 oranges\n",
      "The temperature is -0.0 degrees Celsius\n",
      "The password is ***\n"
     ]
    }
   ],
   "source": [
    "import re\n",
    "\n",
    "# 문자열에서 정규표현식과 매칭되는 모든 패턴을 다른 문자열로 대체하기\n",
    "pattern = r\"\\d+\"\n",
    "string1 = \"I have 2 apples and 3 oranges\"\n",
    "string2 = \"The temperature is -1.5 degrees Celsius\"\n",
    "string3 = \"The password is 12345678\"\n",
    "\n",
    "result1 = re.sub(pattern, \"10\", string1)\n",
    "result2 = re.sub(pattern, \"0\", string2)\n",
    "result3 = re.sub(pattern, \"***\", string3)\n",
    "\n",
    "print(result1)  # I have 10 apples and 10 oranges\n",
    "print(result2)  # The temperature is -0.0 degrees Celsius\n",
    "print(result3)  # The password is ***\n"
   ]
  },
  {
   "cell_type": "code",
   "execution_count": 7,
   "id": "65adf13b",
   "metadata": {},
   "outputs": [
    {
     "name": "stdout",
     "output_type": "stream",
     "text": [
      "010\n",
      "1234-5678\n"
     ]
    }
   ],
   "source": [
    "import re\n",
    "\n",
    "phone_number = \"010-1234-5678\"\n",
    "pattern = r\"(\\d{2,3})-(\\d{3,4})-(\\d{4})\"\n",
    "result = re.match(pattern, phone_number)\n",
    "\n",
    "area_code = result.group(1)\n",
    "phone_number_without_area_code = result.group(2) + \"-\" + result.group(3)\n",
    "\n",
    "print(area_code)  # 010\n",
    "print(phone_number_without_area_code)  # 1234-5678\n"
   ]
  },
  {
   "cell_type": "code",
   "execution_count": 8,
   "id": "a164a245",
   "metadata": {},
   "outputs": [
    {
     "name": "stdout",
     "output_type": "stream",
     "text": [
      "03/18/2022\n"
     ]
    }
   ],
   "source": [
    "import re\n",
    "\n",
    "date = \"2022-03-18\"\n",
    "pattern = r\"(\\d{4})-(\\d{2})-(\\d{2})\"\n",
    "result = re.sub(pattern, r\"\\2/\\3/\\1\", date)\n",
    "\n",
    "print(result)  # \"03/18/2022\"\n"
   ]
  },
  {
   "cell_type": "code",
   "execution_count": 9,
   "id": "dd0fbe65",
   "metadata": {},
   "outputs": [
    {
     "name": "stdout",
     "output_type": "stream",
     "text": [
      "Yuna Kim\n"
     ]
    }
   ],
   "source": [
    "import re\n",
    "\n",
    "# 이름 순서 바꾸기\n",
    "string = \"Kim, Yuna\"\n",
    "pattern = r\"(\\w+),\\s*(\\w+)\"\n",
    "result = re.sub(pattern, r\"\\2 \\1\", string)\n",
    "print(result)  # \"Yuna Kim\"\n"
   ]
  },
  {
   "cell_type": "code",
   "execution_count": 10,
   "id": "d547725b",
   "metadata": {},
   "outputs": [
    {
     "name": "stdout",
     "output_type": "stream",
     "text": [
      "[]\n",
      "['Python']\n"
     ]
    }
   ],
   "source": [
    "string = \"Python is an interpreted language\"\n",
    "\n",
    "import re\n",
    "\n",
    "pattern = 'python'\n",
    "result = re.findall(pattern, string)\n",
    "print(result)  # []\n",
    "\n",
    "result = re.findall(pattern, string, re.IGNORECASE)\n",
    "print(result)  # ['Python']"
   ]
  },
  {
   "cell_type": "code",
   "execution_count": 13,
   "id": "c63c7fee",
   "metadata": {},
   "outputs": [
    {
     "name": "stdout",
     "output_type": "stream",
     "text": [
      "['Python', 'typed']\n"
     ]
    }
   ],
   "source": [
    "string = \"\"\"Python is an interpreted language\n",
    "It is dynamically typed\n",
    "And it is easy to learn\"\"\"\n",
    "\n",
    "\n",
    "import re\n",
    "\n",
    "pattern = '^Python|typed$'\n",
    "result = re.findall(pattern, string, re.MULTILINE)\n",
    "print(result)  # ['Python', 'typed']\n"
   ]
  },
  {
   "cell_type": "code",
   "execution_count": 14,
   "id": "0b519d25",
   "metadata": {},
   "outputs": [
    {
     "name": "stdout",
     "output_type": "stream",
     "text": [
      "['john.doe123@example.com', 'jane@example.co.uk']\n"
     ]
    }
   ],
   "source": [
    "import re\n",
    "\n",
    "def extract_email(string):\n",
    "    pattern = r'\\b[A-Za-z0-9._%+-]+@[A-Za-z0-9.-]+\\.[A-Z|a-z]{2,}\\b'\n",
    "    emails = re.findall(pattern, string)\n",
    "    return emails\n",
    "\n",
    "\n",
    "string = \"John's email is john.doe123@example.com. Jane can be reached at jane@example.co.uk.\"\n",
    "\n",
    "emails = extract_email(string)\n",
    "print(emails)  # ['john.doe123@example.com', 'jane@example.co.uk']\n"
   ]
  },
  {
   "cell_type": "code",
   "execution_count": 16,
   "id": "c9c8062b",
   "metadata": {},
   "outputs": [
    {
     "name": "stdout",
     "output_type": "stream",
     "text": [
      "['book']\n"
     ]
    }
   ],
   "source": [
    "string = \"I love books. My favorite book is 'The Great Gatsby'.\"\n",
    "\n",
    "import re\n",
    "\n",
    "pattern = r'\\bbook\\b'\n",
    "result = re.findall(pattern, string)\n",
    "print(result)  # ['book']\n"
   ]
  },
  {
   "cell_type": "code",
   "execution_count": 15,
   "id": "ab849db8",
   "metadata": {},
   "outputs": [
    {
     "name": "stdout",
     "output_type": "stream",
     "text": [
      "True\n",
      "True\n",
      "False\n",
      "False\n",
      "False\n"
     ]
    }
   ],
   "source": [
    "import re\n",
    "\n",
    "def is_valid_email(email):\n",
    "    pattern = r'^[a-zA-Z0-9+-_.]+@[a-zA-Z0-9-]+\\.[a-zA-Z0-9-.]+$'\n",
    "    if re.match(pattern, email):\n",
    "        return True\n",
    "    else:\n",
    "        return False\n",
    "\n",
    "email1 = 'example@example.com'\n",
    "email2 = 'example@example.co.kr'\n",
    "email3 = 'example.example.com'\n",
    "email4 = 'example@example.'\n",
    "email5 = 'example@example'\n",
    "\n",
    "print(is_valid_email(email1))  # True\n",
    "print(is_valid_email(email2))  # True\n",
    "print(is_valid_email(email3))  # False\n",
    "print(is_valid_email(email4))  # False\n",
    "print(is_valid_email(email5))  # False\n"
   ]
  },
  {
   "cell_type": "code",
   "execution_count": 18,
   "id": "79401412",
   "metadata": {},
   "outputs": [
    {
     "name": "stdout",
     "output_type": "stream",
     "text": [
      "True\n",
      "True\n",
      "False\n"
     ]
    }
   ],
   "source": [
    "import re\n",
    "\n",
    "def is_valid_phone_number(phone_number):\n",
    "    pattern = r'^\\d{2,3}-\\d{3,4}-\\d{4}$'\n",
    "    if re.match(pattern, phone_number):\n",
    "        return True\n",
    "    else:\n",
    "        return False\n",
    "\n",
    "phone_number1 = '010-1234-5678'\n",
    "phone_number2 = '02-123-4567'\n",
    "phone_number3 = '123-4567'\n",
    "\n",
    "print(is_valid_phone_number(phone_number1))  # True\n",
    "print(is_valid_phone_number(phone_number2))  # True\n",
    "print(is_valid_phone_number(phone_number3))  # False\n"
   ]
  }
 ],
 "metadata": {
  "kernelspec": {
   "display_name": "Python 3 (ipykernel)",
   "language": "python",
   "name": "python3"
  },
  "language_info": {
   "codemirror_mode": {
    "name": "ipython",
    "version": 3
   },
   "file_extension": ".py",
   "mimetype": "text/x-python",
   "name": "python",
   "nbconvert_exporter": "python",
   "pygments_lexer": "ipython3",
   "version": "3.10.9"
  }
 },
 "nbformat": 4,
 "nbformat_minor": 5
}
