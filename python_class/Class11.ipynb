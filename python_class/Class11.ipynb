{
 "cells": [
  {
   "cell_type": "code",
   "execution_count": 1,
   "id": "fd45ca33",
   "metadata": {},
   "outputs": [
    {
     "name": "stdout",
     "output_type": "stream",
     "text": [
      "[1 3 5]\n",
      "[2 9]\n"
     ]
    }
   ],
   "source": [
    "import numpy as np\n",
    "\n",
    "arr = np.array([1, 2, 3, 4, 5])\n",
    "idx = np.array([0, 2, 4])\n",
    "\n",
    "# 인덱스 배열에 해당하는 요소만 선택\n",
    "print(arr[idx])  # [1 3 5]\n",
    "\n",
    "# 다차원 배열에서의 팬시 인덱싱\n",
    "arr2d = np.array([[1, 2, 3], [4, 5, 6], [7, 8, 9]])\n",
    "row_idx = np.array([0, 2])\n",
    "col_idx = np.array([1, 2])\n",
    "\n",
    "# 인덱스 배열로 선택된 요소만 선택\n",
    "print(arr2d[row_idx, col_idx])  # [2 9]\n"
   ]
  },
  {
   "cell_type": "code",
   "execution_count": 2,
   "id": "9e3b5c81",
   "metadata": {},
   "outputs": [
    {
     "name": "stdout",
     "output_type": "stream",
     "text": [
      "[5 7 9]\n",
      "[-3 -3 -3]\n",
      "[ 4 10 18]\n",
      "[0.25 0.4  0.5 ]\n"
     ]
    }
   ],
   "source": [
    "import numpy as np\n",
    "\n",
    "arr1 = np.array([1, 2, 3])\n",
    "arr2 = np.array([4, 5, 6])\n",
    "\n",
    "# 덧셈 연산\n",
    "print(arr1 + arr2)  # [5 7 9]\n",
    "\n",
    "# 뺄셈 연산\n",
    "print(arr1 - arr2)  # [-3 -3 -3]\n",
    "\n",
    "# 곱셈 연산\n",
    "print(arr1 * arr2)  # [ 4 10 18]\n",
    "\n",
    "# 나눗셈 연산\n",
    "print(arr1 / arr2)  # [0.25 0.4  0.5]\n"
   ]
  },
  {
   "cell_type": "code",
   "execution_count": 3,
   "id": "10d2a85b",
   "metadata": {},
   "outputs": [
    {
     "name": "stdout",
     "output_type": "stream",
     "text": [
      "[2 3 4]\n",
      "[[2 3 4]\n",
      " [3 4 5]\n",
      " [4 5 6]]\n"
     ]
    }
   ],
   "source": [
    "import numpy as np\n",
    "\n",
    "arr1 = np.array([1, 2, 3])\n",
    "arr2 = np.array([1])\n",
    "arr3 = np.array([[1],[2],[3]])\n",
    "\n",
    "\n",
    "# 브로드캐스팅을 통해 크기가 다른 배열 간 연산이 가능\n",
    "print(arr1 + arr2)\n",
    "print(arr1 + arr3)\n",
    "\n"
   ]
  },
  {
   "cell_type": "code",
   "execution_count": 5,
   "id": "e279062c",
   "metadata": {},
   "outputs": [
    {
     "name": "stdout",
     "output_type": "stream",
     "text": [
      "[0.         1.         1.41421356 1.73205081 2.        ]\n",
      "[ 1.          2.71828183  7.3890561  20.08553692 54.59815003]\n",
      "[0.         0.69314718 1.09861229 1.38629436 1.60943791]\n",
      "\n",
      "[5 7 9]\n",
      "[ 4 10 18]\n",
      "[  1  32 729]\n"
     ]
    }
   ],
   "source": [
    "import numpy as np\n",
    "\n",
    "arr = np.array([0, 1, 2, 3, 4])\n",
    "\n",
    "print(np.sqrt(arr))  # [0.         1.         1.41421356 1.73205081 2.        ]\n",
    "print(np.exp(arr))  # [ 1.          2.71828183  7.3890561  20.08553692 54.59815003]\n",
    "print(np.log(arr+1))  # [0.         0.69314718 1.09861229 1.38629436 1.60943791]\n",
    "\n",
    "print()\n",
    "arr1 = np.array([1, 2, 3])\n",
    "arr2 = np.array([4, 5, 6])\n",
    "\n",
    "# 배열의 요소에 대해 적용되는 함수\n",
    "print(np.add(arr1, arr2))  # [5 7 9]\n",
    "print(np.multiply(arr1, arr2))  # [ 4 10 18]\n",
    "print(np.power(arr1, arr2))  # [   1   32  729]\n"
   ]
  },
  {
   "cell_type": "code",
   "execution_count": 6,
   "id": "8a2b26bc",
   "metadata": {},
   "outputs": [
    {
     "name": "stdout",
     "output_type": "stream",
     "text": [
      "[[1 2 3 4]\n",
      " [5 6 7 8]]\n",
      "[[1 2]\n",
      " [3 4]\n",
      " [5 6]\n",
      " [7 8]]\n",
      "[[1 5]\n",
      " [2 6]\n",
      " [3 7]\n",
      " [4 8]]\n"
     ]
    }
   ],
   "source": [
    "import numpy as np\n",
    "\n",
    "arr = np.array([1, 2, 3, 4, 5, 6, 7, 8])\n",
    "\n",
    "# 배열 형태 변경\n",
    "arr2d = arr.reshape((2, 4))\n",
    "print(arr2d)\n",
    "\n",
    "# 배열 구조 변경\n",
    "arr2d_reshape = arr2d.reshape(4, 2)\n",
    "print(arr2d_reshape)\n",
    "\n",
    "# 배열 전치(Transpose)\n",
    "arr2d_transpose = arr2d.T\n",
    "print(arr2d_transpose)\n"
   ]
  },
  {
   "cell_type": "code",
   "execution_count": 7,
   "id": "68a2a34a",
   "metadata": {},
   "outputs": [
    {
     "name": "stdout",
     "output_type": "stream",
     "text": [
      "[[1 2]\n",
      " [3 4]\n",
      " [5 6]\n",
      " [7 8]]\n",
      "[[1 2 5 6]\n",
      " [3 4 7 8]]\n",
      "[array([1, 2]), array([3, 4]), array([5, 6])]\n",
      "[array([[1, 2, 3]]), array([[4, 5, 6]]), array([[7, 8, 9]])]\n"
     ]
    }
   ],
   "source": [
    "import numpy as np\n",
    "\n",
    "arr1 = np.array([[1, 2], [3, 4]])\n",
    "arr2 = np.array([[5, 6], [7, 8]])\n",
    "\n",
    "# 수직 합치기\n",
    "print(np.vstack((arr1, arr2)))\n",
    "\n",
    "# 수평 합치기\n",
    "print(np.hstack((arr1, arr2)))\n",
    "\n",
    "# 배열 분할하기\n",
    "arr3 = np.array([1, 2, 3, 4, 5, 6])\n",
    "print(np.split(arr3, 3))\n",
    "\n",
    "# 다차원 배열 분할하기\n",
    "arr4 = np.array([[1, 2, 3], [4, 5, 6], [7, 8, 9]])\n",
    "print(np.vsplit(arr4, 3))\n"
   ]
  },
  {
   "cell_type": "code",
   "execution_count": 9,
   "id": "cd93a7a3",
   "metadata": {},
   "outputs": [],
   "source": [
    "import numpy as np\n",
    "\n",
    "# 단일 배열 저장\n",
    "arr1 = np.array([1, 2, 3, 4, 5])\n",
    "np.save('arr1.npy', arr1)\n",
    "\n",
    "# 다중 배열 저장\n",
    "arr2 = np.array([1, 2, 3, 4, 5])\n",
    "arr3 = np.array([10, 20, 30, 40, 50])\n",
    "np.savez('arr.npz', arr2=arr2, arr3=arr3)\n",
    "\n",
    "# 배열 불러오기\n",
    "loaded_arr1 = np.load('arr1.npy')\n",
    "loaded_data = np.load('arr.npz')\n",
    "loaded_arr2 = loaded_data['arr2']\n",
    "loaded_arr3 = loaded_data['arr3']"
   ]
  },
  {
   "cell_type": "code",
   "execution_count": 10,
   "id": "eaff3b68",
   "metadata": {},
   "outputs": [
    {
     "name": "stdout",
     "output_type": "stream",
     "text": [
      "3.0\n",
      "3.0\n",
      "1.4142135623730951\n",
      "2.0\n",
      "5\n",
      "1\n"
     ]
    }
   ],
   "source": [
    "import numpy as np\n",
    "\n",
    "# 1차원 배열 생성\n",
    "arr = np.array([1, 2, 3, 4, 5])\n",
    "\n",
    "# 평균 계산\n",
    "print(np.mean(arr))  # 3.0\n",
    "\n",
    "# 중앙값 계산\n",
    "print(np.median(arr))  # 3.0\n",
    "\n",
    "# 표준편차 계산\n",
    "print(np.std(arr))  # 1.4142135623730951\n",
    "\n",
    "# 분산 계산\n",
    "print(np.var(arr))  # 2.0\n",
    "\n",
    "# 최대값, 최소값 계산\n",
    "print(np.max(arr))  # 5\n",
    "print(np.min(arr))  # 1\n"
   ]
  },
  {
   "cell_type": "code",
   "execution_count": 11,
   "id": "4622c5a6",
   "metadata": {},
   "outputs": [
    {
     "name": "stdout",
     "output_type": "stream",
     "text": [
      "[ 0.39562326 -1.04153259  0.50564538 -0.94612268  0.41586564  1.03747848\n",
      " -0.87536564 -0.217834    0.40865094 -0.76475506]\n",
      "[0.14007867 0.65179264 0.60888031 0.7692989  0.04783595 0.73813899\n",
      " 0.64339657 0.49396681 0.53401081 0.60721752]\n",
      "[5 4 6 6 6 4 7 5 6 4]\n",
      "[1 1 4 8 4 2 0 2 1 1]\n"
     ]
    },
    {
     "data": {
      "text/plain": [
       "'\\n[2 2 2 6 2 1 1 1 1 6]\\n'"
      ]
     },
     "execution_count": 11,
     "metadata": {},
     "output_type": "execute_result"
    }
   ],
   "source": [
    "import numpy as np\n",
    "\n",
    "# 정규 분포\n",
    "arr1 = np.random.normal(0, 1, size=10)\n",
    "print(arr1)\n",
    "'''\n",
    "[-1.03175853 -0.26330108  0.50114289  0.43128428  1.52632134\n",
    " -0.11669154 -0.38778772 -0.58322862  0.1852227  -1.12919514]\n",
    "'''\n",
    "\n",
    "# 균등 분포\n",
    "arr2 = np.random.uniform(0, 1, size=10)\n",
    "print(arr2)\n",
    "'''\n",
    "[0.3082703  0.59827088 0.61679035 0.3049514  0.10465949\n",
    " 0.95647913 0.52484807 0.62345654 0.36863133 0.66491068]\n",
    "'''\n",
    "\n",
    "# 이항 분포\n",
    "arr3 = np.random.binomial(10, 0.5, size=10)\n",
    "print(arr3)\n",
    "'''\n",
    "[6 7 6 3 7 3 6 3 7 3]\n",
    "'''\n",
    "\n",
    "# 포아송 분포\n",
    "arr4 = np.random.poisson(3, size=10)\n",
    "print(arr4)\n",
    "'''\n",
    "[2 2 2 6 2 1 1 1 1 6]\n",
    "'''\n"
   ]
  },
  {
   "cell_type": "code",
   "execution_count": 14,
   "id": "c1e3bd8c",
   "metadata": {},
   "outputs": [
    {
     "name": "stdout",
     "output_type": "stream",
     "text": [
      "0    1\n",
      "1    2\n",
      "2    3\n",
      "3    4\n",
      "dtype: int64\n",
      "\n",
      "a    1\n",
      "b    2\n",
      "c    3\n",
      "d    4\n",
      "dtype: int64\n",
      "\n",
      "a    1\n",
      "b    2\n",
      "c    3\n",
      "d    4\n",
      "dtype: int64\n"
     ]
    }
   ],
   "source": [
    "import pandas as pd\n",
    "\n",
    "# Series 생성\n",
    "# 리스트 사용\n",
    "data = pd.Series([1, 2, 3, 4])\n",
    "print(data)\n",
    "print()\n",
    "\n",
    "# 문자열 인덱스 사용\n",
    "data = pd.Series([1, 2, 3, 4], index=['a', 'b', 'c', 'd'])\n",
    "print(data)\n",
    "print()\n",
    "\n",
    "# 딕셔너리 사용\n",
    "data1 = {'a': 1, 'b': 2, 'c': 3 , 'd': 4}\n",
    "s1 = pd.Series(data1)\n",
    "print(s1)"
   ]
  },
  {
   "cell_type": "code",
   "execution_count": 17,
   "id": "292ed82b",
   "metadata": {},
   "outputs": [
    {
     "name": "stdout",
     "output_type": "stream",
     "text": [
      "10\n",
      "\n",
      "a    10\n",
      "c    30\n",
      "e    50\n",
      "dtype: int64\n",
      "\n",
      "a    10\n",
      "b    20\n",
      "c    30\n",
      "dtype: int64\n",
      "\n",
      "d    40\n",
      "e    50\n",
      "dtype: int64\n"
     ]
    }
   ],
   "source": [
    "import pandas as pd\n",
    "\n",
    "# 시리즈 생성\n",
    "data = [10, 20, 30, 40, 50]\n",
    "index = ['a', 'b', 'c', 'd', 'e']\n",
    "s = pd.Series(data, index=index)\n",
    "\n",
    "# 시리즈 인덱싱\n",
    "print(s['a'])  # 10\n",
    "print()\n",
    "print(s[['a', 'c', 'e']])  # a    10, c    30, e    50\n",
    "print()\n",
    "print(s[:3])  # a    10, b    20, c    30\n",
    "print()\n",
    "print(s[s > 30])  # d    40, e    50\n"
   ]
  },
  {
   "cell_type": "code",
   "execution_count": 18,
   "id": "02e6a9cc",
   "metadata": {},
   "outputs": [
    {
     "data": {
      "image/png": "[encoded data removed]",
      "text/plain": [
       "<Figure size 640x480 with 1 Axes>"
      ]
     },
     "metadata": {},
     "output_type": "display_data"
    }
   ],
   "source": [
    "import pandas as pd\n",
    "import matplotlib.pyplot as plt\n",
    "\n",
    "# 시리즈 데이터 생성\n",
    "sales = pd.Series([100, 120, 150, 160, 180], index=['Jan', 'Feb', 'Mar', 'Apr', 'May'])\n",
    "\n",
    "# 막대 그래프 그리기\n",
    "plt.bar(sales.index, sales.values)\n",
    "\n",
    "# 축과 제목 설정\n",
    "plt.xlabel('Month')\n",
    "plt.ylabel('Sales')\n",
    "plt.title('Monthly Sales')\n",
    "\n",
    "# 그래프 표시\n",
    "plt.show()"
   ]
  },
  {
   "cell_type": "code",
   "execution_count": 19,
   "id": "815aa7af",
   "metadata": {},
   "outputs": [
    {
     "name": "stdout",
     "output_type": "stream",
     "text": [
      "a    11.0\n",
      "b     NaN\n",
      "c    33.0\n",
      "d     NaN\n",
      "dtype: float64\n",
      "a    -9.0\n",
      "b     NaN\n",
      "c   -27.0\n",
      "d     NaN\n",
      "dtype: float64\n",
      "a    10.0\n",
      "b     NaN\n",
      "c    90.0\n",
      "d     NaN\n",
      "dtype: float64\n",
      "a    0.1\n",
      "b    NaN\n",
      "c    0.1\n",
      "d    NaN\n",
      "dtype: float64\n"
     ]
    }
   ],
   "source": [
    "import pandas as pd\n",
    "\n",
    "# 시리즈 생성\n",
    "data1 = {'a': 1, 'b': 2, 'c': 3}\n",
    "data2 = {'a': 10, 'c': 30, 'd': 40}\n",
    "s1 = pd.Series(data1)\n",
    "s2 = pd.Series(data2)\n",
    "\n",
    "# 덧셈 연산\n",
    "s = s1 + s2\n",
    "print(s)  # a    11.0, b     NaN, c    33.0, d     NaN\n",
    "           # dtype: float64\n",
    "\n",
    "# 뺄셈 연산\n",
    "s = s1 - s2\n",
    "print(s)  # a    -9.0, b     NaN, c   -27.0, d     NaN\n",
    "           # dtype: float64\n",
    "\n",
    "# 곱셈 연산\n",
    "s = s1 * s2\n",
    "print(s)  # a    10.0, b     NaN, c    90.0, d     NaN\n",
    "           # dtype: float64\n",
    "\n",
    "# 나눗셈 연산\n",
    "s = s1 / s2\n",
    "print(s)  # a    0.1 , b     NaN, c    0.1 , d     NaN\n",
    "           # dtype: float64"
   ]
  },
  {
   "cell_type": "code",
   "execution_count": 20,
   "id": "f8e6aaa3",
   "metadata": {},
   "outputs": [
    {
     "name": "stdout",
     "output_type": "stream",
     "text": [
      "150\n",
      "30.0\n",
      "15.811388300841896\n",
      "50\n",
      "10\n"
     ]
    }
   ],
   "source": [
    "import pandas as pd\n",
    "\n",
    "# 시리즈 생성\n",
    "data = [10, 20, 30, 40, 50]\n",
    "index = ['a', 'b', 'c', 'd', 'e']\n",
    "s = pd.Series(data, index=index)\n",
    "\n",
    "# 집계 함수 예시\n",
    "print(s.sum())  # 150\n",
    "print(s.mean())  # 30.0\n",
    "print(s.std())  # 15.811388300841896\n",
    "print(s.max())  # 50\n",
    "print(s.min())  # 10"
   ]
  },
  {
   "cell_type": "code",
   "execution_count": 23,
   "id": "518ee8a9",
   "metadata": {},
   "outputs": [
    {
     "name": "stdout",
     "output_type": "stream",
     "text": [
      "   A  B  C\n",
      "0  1  4  7\n",
      "1  2  5  8\n",
      "2  3  6  9\n",
      "\n",
      "   A  B  C\n",
      "0  1  4  7\n",
      "1  2  5  8\n",
      "2  3  6  9\n",
      "\n",
      "   A  B  C\n",
      "0  1  4  7\n",
      "1  2  5  8\n",
      "2  3  6  9\n",
      "\n",
      "   A  B  C\n",
      "0  1  4  7\n",
      "1  2  5  8\n",
      "2  3  6  9\n",
      "\n"
     ]
    }
   ],
   "source": [
    "import pandas as pd\n",
    "import numpy as np\n",
    "\n",
    "# 데이터프레임 생성 방법 1: 딕셔너리를 이용한 데이터프레임 생성\n",
    "df1 = pd.DataFrame({'A': [1, 2, 3], 'B': [4, 5, 6], 'C': [7, 8, 9]})\n",
    "print(df1)\n",
    "print()\n",
    "\n",
    "# 데이터프레임 생성 방법 2: 리스트를 이용한 데이터프레임 생성\n",
    "data = [[1, 4, 7], [2, 5, 8], [3, 6, 9]]\n",
    "df2 = pd.DataFrame(data, columns=['A', 'B', 'C'])\n",
    "print(df2)\n",
    "print()\n",
    "\n",
    "# 데이터프레임 생성 방법 3: Numpy 배열을 이용한 데이터프레임 생성\n",
    "arr = np.array([[1, 4, 7], [2, 5, 8], [3, 6, 9]])\n",
    "df3 = pd.DataFrame(arr, columns=['A', 'B', 'C'])\n",
    "print(df3)\n",
    "print()\n",
    "\n",
    "# 데이터프레임 생성 방법 4: 시리즈를 이용한 데이터프레임 생성\n",
    "s1 = pd.Series([1, 2, 3])\n",
    "s2 = pd.Series([4, 5, 6])\n",
    "s3 = pd.Series([7, 8, 9])\n",
    "df4 = pd.DataFrame({'A': s1, 'B': s2, 'C': s3})\n",
    "print(df4)\n",
    "print()\n",
    "\n",
    "# 데이터프레임 생성 방법 5: 외부 데이터 파일을 이용한 데이터프레임 생성\n",
    "# df5 = pd.read_csv('data.csv')\n",
    "# print(df5)\n"
   ]
  },
  {
   "cell_type": "code",
   "execution_count": 25,
   "id": "93af0f68",
   "metadata": {},
   "outputs": [
    {
     "data": {
      "image/png": "[encoded data removed]",
      "text/plain": [
       "<Figure size 640x480 with 1 Axes>"
      ]
     },
     "metadata": {},
     "output_type": "display_data"
    }
   ],
   "source": [
    "import pandas as pd\n",
    "import matplotlib.pyplot as plt\n",
    "\n",
    "# 데이터프레임 생성\n",
    "data = {\n",
    "    'year': [2010, 2011, 2012, 2013, 2014],\n",
    "    'sales': [100, 120, 150, 160, 180],\n",
    "    'expenses': [80, 90, 100, 110, 120]\n",
    "}\n",
    "\n",
    "df = pd.DataFrame(data)\n",
    "\n",
    "# 선 그래프 그리기\n",
    "plt.plot(df['year'], df[['sales', 'expenses']], marker = 'o')\n",
    "\n",
    "# 축과 제목 설정\n",
    "plt.xlabel('Year')\n",
    "plt.ylabel('Amount')\n",
    "plt.title('Sales vs Expenses')\n",
    "\n",
    "# 범례 추가\n",
    "plt.legend(['Sales', 'Expenses'])\n",
    "\n",
    "# 그래프 표시\n",
    "plt.show()"
   ]
  },
  {
   "cell_type": "code",
   "execution_count": 14,
   "id": "c2016ed4",
   "metadata": {},
   "outputs": [
    {
     "data": {
      "text/html": [
       "<div>\n",
       "<style scoped>\n",
       "    .dataframe tbody tr th:only-of-type {\n",
       "        vertical-align: middle;\n",
       "    }\n",
       "\n",
       "    .dataframe tbody tr th {\n",
       "        vertical-align: top;\n",
       "    }\n",
       "\n",
       "    .dataframe thead th {\n",
       "        text-align: right;\n",
       "    }\n",
       "</style>\n",
       "<table border=\"1\" class=\"dataframe\">\n",
       "  <thead>\n",
       "    <tr style=\"text-align: right;\">\n",
       "      <th></th>\n",
       "      <th>age</th>\n",
       "    </tr>\n",
       "  </thead>\n",
       "  <tbody>\n",
       "    <tr>\n",
       "      <th>count</th>\n",
       "      <td>5.000000</td>\n",
       "    </tr>\n",
       "    <tr>\n",
       "      <th>mean</th>\n",
       "      <td>35.000000</td>\n",
       "    </tr>\n",
       "    <tr>\n",
       "      <th>std</th>\n",
       "      <td>7.905694</td>\n",
       "    </tr>\n",
       "    <tr>\n",
       "      <th>min</th>\n",
       "      <td>25.000000</td>\n",
       "    </tr>\n",
       "    <tr>\n",
       "      <th>25%</th>\n",
       "      <td>30.000000</td>\n",
       "    </tr>\n",
       "    <tr>\n",
       "      <th>50%</th>\n",
       "      <td>35.000000</td>\n",
       "    </tr>\n",
       "    <tr>\n",
       "      <th>75%</th>\n",
       "      <td>40.000000</td>\n",
       "    </tr>\n",
       "    <tr>\n",
       "      <th>max</th>\n",
       "      <td>45.000000</td>\n",
       "    </tr>\n",
       "  </tbody>\n",
       "</table>\n",
       "</div>"
      ],
      "text/plain": [
       "             age\n",
       "count   5.000000\n",
       "mean   35.000000\n",
       "std     7.905694\n",
       "min    25.000000\n",
       "25%    30.000000\n",
       "50%    35.000000\n",
       "75%    40.000000\n",
       "max    45.000000"
      ]
     },
     "execution_count": 14,
     "metadata": {},
     "output_type": "execute_result"
    }
   ],
   "source": [
    "import pandas as pd\n",
    "\n",
    "data = {'name': ['Alice', 'Bob', 'Charlie', 'David', 'Eva'],\n",
    "        'age': [25, 30, 35, 40, 45],\n",
    "        'city': ['New York', 'Paris', 'London', 'Berlin', 'Tokyo']}\n",
    "df = pd.DataFrame(data)\n",
    "df.describe()"
   ]
  },
  {
   "cell_type": "code",
   "execution_count": 13,
   "id": "7b0bdd08",
   "metadata": {},
   "outputs": [
    {
     "name": "stdout",
     "output_type": "stream",
     "text": [
      "0      Alice\n",
      "1        Bob\n",
      "2    Charlie\n",
      "3      David\n",
      "4        Eva\n",
      "Name: name, dtype: object\n",
      "0    25\n",
      "1    30\n",
      "2    35\n",
      "3    40\n",
      "4    45\n",
      "Name: age, dtype: int64\n",
      "      name  age\n",
      "0    Alice   25\n",
      "1      Bob   30\n",
      "2  Charlie   35\n",
      "3    David   40\n",
      "4      Eva   45\n",
      "0      Alice\n",
      "1        Bob\n",
      "2    Charlie\n",
      "3      David\n",
      "4        Eva\n",
      "Name: name, dtype: object\n",
      "      name  age\n",
      "0    Alice   25\n",
      "1      Bob   30\n",
      "2  Charlie   35\n",
      "3    David   40\n",
      "4      Eva   45\n"
     ]
    }
   ],
   "source": [
    "import pandas as pd\n",
    "\n",
    "# 데이터프레임 생성\n",
    "data = {'name': ['Alice', 'Bob', 'Charlie', 'David', 'Eva'],\n",
    "        'age': [25, 30, 35, 40, 45],\n",
    "        'city': ['New York', 'Paris', 'London', 'Berlin', 'Tokyo']}\n",
    "df = pd.DataFrame(data)\n",
    "\n",
    "# 열 선택 방법 1: 대괄호([])를 이용한 단일 열 선택\n",
    "name_col = df['name']\n",
    "print(name_col)\n",
    "\n",
    "# 열 선택 방법 2: 점(.)을 이용한 단일 열 선택\n",
    "age_col = df.age\n",
    "print(age_col)\n",
    "\n",
    "# 열 선택 방법 3: 대괄호([])를 이용한 복수 열 선택\n",
    "name_age_col = df[['name', 'age']]\n",
    "print(name_age_col)\n",
    "\n",
    "# 열 선택 방법 4: loc[]를 이용한 열 선택\n",
    "name_col = df.loc[:, 'name']\n",
    "print(name_col)\n",
    "\n",
    "# 열 선택 방법 5: iloc[]를 이용한 열 선택\n",
    "name_age_col = df.iloc[:, [0, 1]]\n",
    "print(name_age_col)"
   ]
  },
  {
   "cell_type": "code",
   "execution_count": 16,
   "id": "9886cbcf",
   "metadata": {},
   "outputs": [
    {
     "data": {
      "image/png": "[encoded data removed]",
      "text/plain": [
       "<Figure size 640x480 with 1 Axes>"
      ]
     },
     "metadata": {},
     "output_type": "display_data"
    }
   ],
   "source": [
    "import pandas as pd\n",
    "import matplotlib.pyplot as plt\n",
    "\n",
    "# 데이터프레임 생성\n",
    "data = {\n",
    "    'year': [2017, 2018, 2019, 2020, 2021],\n",
    "    'A_product_sales': [6, 7, 8, 9, 10],\n",
    "    'B_product_sales': [11, 12, 13, 14, 15]\n",
    "}\n",
    "\n",
    "df = pd.DataFrame(data)\n",
    "\n",
    "# 특정 열 선택하여 연산 수행 후 결과를 새로운 열로 추가\n",
    "df['total'] = df['A_product_sales'] + df['B_product_sales']\n",
    "\n",
    "# 새로 추가한 열을 이용해서 그래프 그리기\n",
    "plt.bar(df['year'], df['total'])  \n",
    "\n",
    "plt.xlabel('Year')\n",
    "plt.ylabel('Total Sales')\n",
    "plt.title('Total Sales per Year')\n",
    "\n",
    "plt.show()"
   ]
  },
  {
   "cell_type": "code",
   "execution_count": 17,
   "id": "75e15a66",
   "metadata": {},
   "outputs": [
    {
     "name": "stdout",
     "output_type": "stream",
     "text": [
      "단일 행 선택:\n",
      "name    Charlie\n",
      "age          35\n",
      "city     London\n",
      "Name: 2, dtype: object\n",
      "name     David\n",
      "age         40\n",
      "city    Berlin\n",
      "Name: 3, dtype: object\n",
      "\n",
      "여러 행 선택:\n",
      "      name  age    city\n",
      "1      Bob   30   Paris\n",
      "2  Charlie   35  London\n",
      "3    David   40  Berlin\n",
      "      name  age    city\n",
      "2  Charlie   35  London\n",
      "3    David   40  Berlin\n",
      "\n",
      "조건에 맞는 행 선택:\n",
      "      name  age    city\n",
      "2  Charlie   35  London\n",
      "3    David   40  Berlin\n",
      "4      Eva   45   Tokyo\n"
     ]
    }
   ],
   "source": [
    "import pandas as pd\n",
    "\n",
    "# 데이터프레임 생성\n",
    "data = {'name': ['Alice', 'Bob', 'Charlie', 'David', 'Eva'],\n",
    "        'age': [25, 30, 35, 40, 45],\n",
    "        'city': ['New York', 'Paris', 'London', 'Berlin', 'Tokyo']}\n",
    "df = pd.DataFrame(data)\n",
    "\n",
    "# 단일 행 선택\n",
    "row1 = df.loc[2]  # 행인덱스를 사용하여 선택\n",
    "row2 = df.iloc[3]  # 위치 인덱스를 사용하여 선택\n",
    "\n",
    "print(\"단일 행 선택:\")\n",
    "print(row1)\n",
    "print(row2)\n",
    "\n",
    "# 여러 행 선택\n",
    "rows1 = df.loc[1:3]  # 행인덱스 범위를 사용하여 선택\n",
    "rows2 = df.iloc[2:4]  # 위치인덱스 범위를 사용하여 선택\n",
    "\n",
    "print(\"\\n여러 행 선택:\")\n",
    "print(rows1)\n",
    "print(rows2)\n",
    "\n",
    "# 특정 조건에 맞는 행 선택\n",
    "selected_rows = df.loc[df['age'] > 30]\n",
    "\n",
    "print(\"\\n조건에 맞는 행 선택:\")\n",
    "print(selected_rows)\n"
   ]
  },
  {
   "cell_type": "code",
   "execution_count": 18,
   "id": "eb9e8891",
   "metadata": {},
   "outputs": [
    {
     "name": "stdout",
     "output_type": "stream",
     "text": [
      "      name  age    city\n",
      "2  Charlie   35  London\n"
     ]
    }
   ],
   "source": [
    "import pandas as pd\n",
    "\n",
    "# 데이터프레임 생성\n",
    "data = {\n",
    "    'name': ['Alice', 'Bob', 'Charlie', 'David', 'Eva'],\n",
    "    'age': [25, 30, 35, 40, 45],\n",
    "    'city': ['New York', 'Paris', 'London', 'Berlin', 'Tokyo']\n",
    "}\n",
    "\n",
    "df = pd.DataFrame(data)\n",
    "\n",
    "# df[condition]\n",
    "selected_rows = df[(df['age'] > 30) & (df['city'] == 'London')]\n",
    "\n",
    "print(selected_rows)"
   ]
  },
  {
   "cell_type": "code",
   "execution_count": 19,
   "id": "1e955a95",
   "metadata": {},
   "outputs": [
    {
     "name": "stdout",
     "output_type": "stream",
     "text": [
      "      name  age    city\n",
      "2  Charlie   35  London\n"
     ]
    }
   ],
   "source": [
    "import pandas as pd\n",
    "\n",
    "# 데이터프레임 생성\n",
    "data = {\n",
    "    'name': ['Alice', 'Bob', 'Charlie', 'David', 'Eva'],\n",
    "    'age': [25, 30, 35, 40, 45],\n",
    "    'city': ['New York', 'Paris', 'London', 'Berlin', 'Tokyo']\n",
    "}\n",
    "\n",
    "df = pd.DataFrame(data)\n",
    "\n",
    "# query 메서드를 사용하여 조건 설정 및 행 선택\n",
    "selected_rows = df.query(\"age > 30 and city == 'London'\")\n",
    "\n",
    "print(selected_rows)"
   ]
  },
  {
   "cell_type": "code",
   "execution_count": 20,
   "id": "293b988c",
   "metadata": {},
   "outputs": [
    {
     "name": "stdout",
     "output_type": "stream",
     "text": [
      "      name  age      city\n",
      "0    Alice   25  New York\n",
      "2  Charlie   35    London\n",
      "4      Eva   45     Tokyo\n"
     ]
    }
   ],
   "source": [
    "import pandas as pd\n",
    "\n",
    "# 데이터프레임 생성\n",
    "data = {\n",
    "    'name': ['Alice', 'Bob', 'Charlie', 'David', 'Eva'],\n",
    "    'age': [25, 30, 35, 40, 45],\n",
    "    'city': ['New York', 'Paris', 'London', 'Berlin', 'Tokyo']\n",
    "}\n",
    "\n",
    "df = pd.DataFrame(data)\n",
    "\n",
    "# isin() 메서드를 사용하여 여러 값에 해당하는 행 선택\n",
    "selected_rows = df[df['name'].isin(['Alice', 'Charlie', 'Eva'])]\n",
    "\n",
    "print(selected_rows)"
   ]
  },
  {
   "cell_type": "code",
   "execution_count": 21,
   "id": "44ba19a0",
   "metadata": {},
   "outputs": [
    {
     "name": "stdout",
     "output_type": "stream",
     "text": [
      "      name  age\n",
      "2  Charlie   35\n"
     ]
    }
   ],
   "source": [
    "import pandas as pd\n",
    "\n",
    "data = {\n",
    "    'name': ['Alice', 'Bob', 'Charlie', 'David', 'Eva'],\n",
    "    'age': [25, 30, 35, 40, 45],\n",
    "    'city': ['New York', 'Paris', 'London', 'Berlin', 'Tokyo']\n",
    "}\n",
    "\n",
    "df = pd.DataFrame(data)\n",
    "\n",
    "# 조건과 열을 동시에 사용하여 행 및 열 선택\n",
    "selected_rows_columns = df.loc[(df['age'] > 30) & (df['city'] == 'London'), ['name', 'age']]\n",
    "print(selected_rows_columns)"
   ]
  },
  {
   "cell_type": "code",
   "execution_count": 16,
   "id": "14aaf7e8",
   "metadata": {},
   "outputs": [
    {
     "data": {
      "image/png": "[encoded data removed]",
      "text/plain": [
       "<Figure size 640x480 with 1 Axes>"
      ]
     },
     "metadata": {},
     "output_type": "display_data"
    }
   ],
   "source": [
    "import pandas as pd\n",
    "import matplotlib.pyplot as plt\n",
    "\n",
    "data = {\n",
    "    'year': [2017, 2018, 2019, 2020, 2021],\n",
    "    'A_product_sales': [6, 7, 8, 9, 10],\n",
    "    'B_product_sales': [11, 12, 13, 14, 15],\n",
    "    'C_product_sales': [9, 8, 7, 6, 5]\n",
    "}\n",
    "\n",
    "df = pd.DataFrame(data)\n",
    "\n",
    "df = df.loc[df['year'] >= 2019, ['year', 'A_product_sales', 'B_product_sales']]\n",
    "\n",
    "plt.plot(df['year'], df['A_product_sales'], marker='o', label='A_product_sales')\n",
    "plt.plot(df['year'], df['B_product_sales'], marker='o', label='B_product_sales')\n",
    "\n",
    "plt.legend()\n",
    "plt.show()"
   ]
  },
  {
   "cell_type": "code",
   "execution_count": 8,
   "id": "f633525b",
   "metadata": {},
   "outputs": [
    {
     "name": "stdout",
     "output_type": "stream",
     "text": [
      "   A_product_sales  B_product_sales\n",
      "2                8               13\n",
      "3                9               14\n",
      "4               10               15\n"
     ]
    }
   ],
   "source": [
    "import pandas as pd\n",
    "import matplotlib.pyplot as plt\n",
    "\n",
    "data = {\n",
    "    'year': [2017, 2018, 2019, 2020, 2021],\n",
    "    'A_product_sales': [6, 7, 8, 9, 10],\n",
    "    'B_product_sales': [11, 12, 13, 14, 15],\n",
    "    'C_product_sales': [9, 8, 7, 6, 5]\n",
    "}\n",
    "\n",
    "df = pd.DataFrame(data)\n",
    "# print(df)\n",
    "\n",
    "df_query = df.query(\"year >= 2019\")\n",
    "result = df_query[[\"A_product_sales\",\"B_product_sales\"]]\n",
    "print(result)"
   ]
  },
  {
   "cell_type": "code",
   "execution_count": 17,
   "id": "4df2b519",
   "metadata": {},
   "outputs": [
    {
     "name": "stdout",
     "output_type": "stream",
     "text": [
      "    A   B   C\n",
      "0  10  10  10\n",
      "1  10  10  10\n",
      "2  10  10  10\n",
      "A    2.0\n",
      "B    5.0\n",
      "C    8.0\n",
      "dtype: float64\n",
      "0    4.0\n",
      "1    5.0\n",
      "2    6.0\n",
      "dtype: float64\n"
     ]
    }
   ],
   "source": [
    "import pandas as pd\n",
    "\n",
    "data1 = {'A': [1, 2, 3], 'B': [4, 5, 6], 'C': [7, 8, 9]}\n",
    "data2 = {'A': [9, 8, 7], 'B': [6, 5, 4], 'C': [3, 2, 1]}\n",
    "df1 = pd.DataFrame(data1)\n",
    "df2 = pd.DataFrame(data2)\n",
    "\n",
    "\n",
    "\n",
    "# 기본 연산\n",
    "print(df1 + df2)\n",
    "\n",
    "\n",
    "\n",
    "# 집계 함수\n",
    "print(df1.mean())  #열 기준 \n",
    "\n",
    "\n",
    "print(df1.mean(axis=1))  #행 기준"
   ]
  },
  {
   "cell_type": "code",
   "execution_count": 18,
   "id": "5d373537",
   "metadata": {},
   "outputs": [
    {
     "name": "stdout",
     "output_type": "stream",
     "text": [
      "Mean: 3.0\n",
      "Median: 3.0\n",
      "Mode: 3\n",
      "Variance: 2.0\n",
      "Standard Deviation: 1.4142135623730951\n"
     ]
    }
   ],
   "source": [
    "import pandas as pd\n",
    "\n",
    "data = {'A': [1, 2, 3, 4, 5, 3]}\n",
    "df = pd.DataFrame(data)\n",
    "\n",
    "# 평균 (Mean)\n",
    "mean_value = df['A'].mean()\n",
    "print(f\"Mean: {mean_value}\")  # 결과: 3.0\n",
    "\n",
    "# 중앙값 (Median)\n",
    "median_value = df['A'].median()\n",
    "print(f\"Median: {median_value}\")  # 결과: 3.0\n",
    "\n",
    "# 최빈값 (Mode)\n",
    "mode_value = df['A'].mode()\n",
    "print(f\"Mode: {mode_value[0]}\")  # 결과: 3\n",
    "\n",
    "# 분산 (Variance)\n",
    "variance_value = df['A'].var()\n",
    "print(f\"Variance: {variance_value}\")  # 결과: 2.0\n",
    "\n",
    "# 표준편차 (Standard Deviation)\n",
    "std_value = df['A'].std()\n",
    "print(f\"Standard Deviation: {std_value}\")  # 결과: 1.4142135623730951"
   ]
  },
  {
   "cell_type": "code",
   "execution_count": null,
   "id": "4bcd24e8",
   "metadata": {},
   "outputs": [],
   "source": [
    "import pandas as pd\n",
    "\n",
    "data = {'A': [1, 2, 3], 'B': [4, 5, 6], 'C': [7, 8, 9]}\n",
    "df = pd.DataFrame(data)\n",
    "\n",
    "# CSV 파일 쓰기\n",
    "df.to_csv('output.csv', index=False)\n",
    "\n",
    "# Excel 파일 쓰기\n",
    "df.to_excel('output.xlsx', sheet_name='Sheet1', index=False)"
   ]
  },
  {
   "cell_type": "code",
   "execution_count": 45,
   "id": "b1c94c7d",
   "metadata": {},
   "outputs": [
    {
     "name": "stdout",
     "output_type": "stream",
     "text": [
      "result 1: \n",
      "     total_bill   tip     sex smoker  day    time  size\n",
      "2         21.01  3.50    Male     No  Sun  Dinner     3\n",
      "3         23.68  3.31    Male     No  Sun  Dinner     2\n",
      "4         24.59  3.61  Female     No  Sun  Dinner     4\n",
      "5         25.29  4.71    Male     No  Sun  Dinner     4\n",
      "7         26.88  3.12    Male     No  Sun  Dinner     4\n",
      "..          ...   ...     ...    ...  ...     ...   ...\n",
      "237       32.83  1.17    Male    Yes  Sat  Dinner     2\n",
      "238       35.83  4.67  Female     No  Sat  Dinner     3\n",
      "239       29.03  5.92    Male     No  Sat  Dinner     3\n",
      "240       27.18  2.00  Female    Yes  Sat  Dinner     2\n",
      "241       22.67  2.00    Male    Yes  Sat  Dinner     2\n",
      "\n",
      "[97 rows x 7 columns]\n",
      "\n",
      "result 2: \n",
      "     total_bill   tip     sex smoker   day    time  size\n",
      "0         16.99  1.01  Female     No   Sun  Dinner     2\n",
      "4         24.59  3.61  Female     No   Sun  Dinner     4\n",
      "11        35.26  5.00  Female     No   Sun  Dinner     4\n",
      "14        14.83  3.02  Female     No   Sun  Dinner     2\n",
      "16        10.33  1.67  Female     No   Sun  Dinner     3\n",
      "..          ...   ...     ...    ...   ...     ...   ...\n",
      "226       10.09  2.00  Female    Yes   Fri   Lunch     2\n",
      "229       22.12  2.88  Female    Yes   Sat  Dinner     2\n",
      "238       35.83  4.67  Female     No   Sat  Dinner     3\n",
      "240       27.18  2.00  Female    Yes   Sat  Dinner     2\n",
      "243       18.78  3.00  Female     No  Thur  Dinner     2\n",
      "\n",
      "[87 rows x 7 columns]\n",
      "\n",
      "result 3: \n",
      "     total_bill   tip     sex smoker  day    time  size\n",
      "0         16.99  1.01  Female     No  Sun  Dinner     2\n",
      "1         10.34  1.66    Male     No  Sun  Dinner     3\n",
      "2         21.01  3.50    Male     No  Sun  Dinner     3\n",
      "3         23.68  3.31    Male     No  Sun  Dinner     2\n",
      "4         24.59  3.61  Female     No  Sun  Dinner     4\n",
      "..          ...   ...     ...    ...  ...     ...   ...\n",
      "186       20.90  3.50  Female    Yes  Sun  Dinner     3\n",
      "187       30.46  2.00    Male    Yes  Sun  Dinner     5\n",
      "188       18.15  3.50  Female    Yes  Sun  Dinner     3\n",
      "189       23.10  4.00    Male    Yes  Sun  Dinner     3\n",
      "190       15.69  1.50    Male    Yes  Sun  Dinner     2\n",
      "\n",
      "[76 rows x 7 columns]\n",
      "\n",
      "result 4: \n",
      "     total_bill    tip     sex smoker   day    time  size\n",
      "23        39.42   7.58    Male     No   Sat  Dinner     4\n",
      "44        30.40   5.60    Male     No   Sun  Dinner     4\n",
      "47        32.40   6.00    Male     No   Sun  Dinner     4\n",
      "52        34.81   5.20  Female     No   Sun  Dinner     4\n",
      "59        48.27   6.73    Male     No   Sat  Dinner     4\n",
      "85        34.83   5.17  Female     No  Thur   Lunch     4\n",
      "116       29.93   5.07    Male     No   Sun  Dinner     4\n",
      "170       50.81  10.00    Male    Yes   Sat  Dinner     3\n",
      "183       23.17   6.50    Male    Yes   Sun  Dinner     4\n",
      "211       25.89   5.16    Male    Yes   Sat  Dinner     4\n",
      "212       48.33   9.00    Male     No   Sat  Dinner     4\n",
      "214       28.17   6.50  Female    Yes   Sat  Dinner     3\n",
      "239       29.03   5.92    Male     No   Sat  Dinner     3\n",
      "\n",
      "result 5: \n",
      "     total_bill   tip  size\n",
      "0         16.99  1.01     2\n",
      "1         10.34  1.66     3\n",
      "2         21.01  3.50     3\n",
      "3         23.68  3.31     2\n",
      "4         24.59  3.61     4\n",
      "..          ...   ...   ...\n",
      "239       29.03  5.92     3\n",
      "240       27.18  2.00     2\n",
      "241       22.67  2.00     2\n",
      "242       17.82  1.75     2\n",
      "243       18.78  3.00     2\n",
      "\n",
      "[244 rows x 3 columns]\n"
     ]
    }
   ],
   "source": [
    "import pandas as pd\n",
    "\n",
    "df = pd.read_csv('tips.csv')\n",
    "# print(df.head())\n",
    "# print(df.info())\n",
    "\n",
    "df_r1 = df.query(\"total_bill > 20\")\n",
    "print(\"result 1: \")\n",
    "print(df_r1)\n",
    "df_r2 = df.query(\"sex == 'Female'\")\n",
    "print(\"\\nresult 2: \")\n",
    "print(df_r2)\n",
    "df_r3 = df.query(\"day == 'Sun' and time == 'Dinner'\")\n",
    "print(\"\\nresult 3: \")\n",
    "print(df_r3)\n",
    "df_r4 = df.query(\"tip > 5 and (size == 3 or size == 4)\")\n",
    "# df_r4 = df[(df['tip'] > 5) & (df['size'].isin([3,4]))]\n",
    "print(\"\\nresult 4: \")\n",
    "print(df_r4)\n",
    "df_r5 = df[['total_bill','tip','size']]\n",
    "print(\"\\nresult 5: \")\n",
    "print(df_r5)"
   ]
  }
 ],
 "metadata": {
  "kernelspec": {
   "display_name": "Python 3 (ipykernel)",
   "language": "python",
   "name": "python3"
  },
  "language_info": {
   "codemirror_mode": {
    "name": "ipython",
    "version": 3
   },
   "file_extension": ".py",
   "mimetype": "text/x-python",
   "name": "python",
   "nbconvert_exporter": "python",
   "pygments_lexer": "ipython3",
   "version": "3.10.9"
  }
 },
 "nbformat": 4,
 "nbformat_minor": 5
}
